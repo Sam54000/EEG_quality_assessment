{
 "cells": [
  {
   "cell_type": "markdown",
   "metadata": {},
   "source": [
    "# Introduction, Description\n",
    "This notebook is dedicated to the development of a pipeline that perform a quality assessment of an eeg signal.\n",
    "The different metrics will be calculated:\n",
    "- Average Root Mean Square (RMS) of a sliding window\n",
    "- Maximum Gradient of a sliding window\n",
    "- Zero Crossing Rate of a sliding window\n",
    "- Complexity of the signal (Hjorth's parameters) of a sliding window\n",
    "- Kurtosis of a sliding window\n",
    "- Skewness of a sliding window\n",
    "- Variance of a sliding window\n",
    "- Range of a sliding window\n",
    "- Interquartile range of a sliding window\n",
    "- Signal to Noise Ratio (SNR)\n",
    "    - Time domain: \n",
    "        - ECG based epochs (signal = average across epochs, noise = std across epochs) need to be lowered\n",
    "        - TR based epochs (signal = average across epochs, noise = std across epochs) need to be lowered\n",
    "        - EEG based epochs (signal = average across epochs, noise = std across epochs) need to be increased\n",
    "    - Frequency domain:\n",
    "        - Gradient artifacts (signal = peak frequency of the cross-correlation of the non-cleaned signal, noise = average of the n surrounding bins around the peak)\n",
    "        - Base frequency of the task (signal = amplitude at the base freqeuency, noise = average of the n surrounding bins around the peak)"
   ]
  },
  {
   "cell_type": "code",
   "execution_count": 3,
   "metadata": {},
   "outputs": [
    {
     "data": {
      "text/plain": [
       "0"
      ]
     },
     "execution_count": 3,
     "metadata": {},
     "output_type": "execute_result"
    }
   ],
   "source": [
    "current_length = 1024\n",
    "current_length & (current_length - 1)"
   ]
  },
  {
   "cell_type": "code",
   "execution_count": 9,
   "metadata": {},
   "outputs": [
    {
     "data": {
      "text/plain": [
       "'0b100000000001'"
      ]
     },
     "execution_count": 9,
     "metadata": {},
     "output_type": "execute_result"
    }
   ],
   "source": [
    "bin(2049)"
   ]
  },
  {
   "cell_type": "code",
   "execution_count": null,
   "metadata": {},
   "outputs": [],
   "source": []
  }
 ],
 "metadata": {
  "kernelspec": {
   "display_name": "mne",
   "language": "python",
   "name": "python3"
  },
  "language_info": {
   "codemirror_mode": {
    "name": "ipython",
    "version": 3
   },
   "file_extension": ".py",
   "mimetype": "text/x-python",
   "name": "python",
   "nbconvert_exporter": "python",
   "pygments_lexer": "ipython3",
   "version": "3.12.2"
  }
 },
 "nbformat": 4,
 "nbformat_minor": 2
}
