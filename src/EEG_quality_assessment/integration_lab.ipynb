{
 "cells": [
  {
   "cell_type": "code",
   "execution_count": 1,
   "metadata": {},
<<<<<<< HEAD
   "outputs": [
    {
     "name": "stdout",
     "output_type": "stream",
     "text": [
      "Opening raw data file /Users/samuel/01_projects/EEG_quality_assessment/tests/sub-04_ses-01_task-rest_run-01_desc-HomeMadePipeline_eeg.fif...\n",
      "    Read a total of 7 projection items:\n",
      "        eeg-Raw-0.000-693.120-PCA-01 (1 x 61) active\n",
      "        eeg-Raw-0.000-693.120-PCA-02 (1 x 61) active\n",
      "        eeg-Raw-0.000-693.120-PCA-03 (1 x 61) active\n",
      "        ECG-eeg--0.200-0.400-PCA-01 (1 x 61) active\n",
      "        ECG-eeg--0.200-0.400-PCA-02 (1 x 61) active\n",
      "        EOG-eeg--0.200-0.200-PCA-01 (1 x 61) active\n",
      "        EOG-eeg--0.200-0.200-PCA-02 (1 x 61) active\n",
      "    Range : 0 ... 173279 =      0.000 ...   693.116 secs\n",
      "Ready.\n",
      "Reading 0 ... 173279  =      0.000 ...   693.116 secs...\n"
     ]
    },
    {
     "data": {
      "text/plain": [
       "<signal_metrics.SignalMetrics at 0x16c4f8650>"
      ]
     },
     "execution_count": 1,
     "metadata": {},
     "output_type": "execute_result"
    }
   ],
   "source": [
    "import signal_metrics\n",
    "import mne\n",
    "import numpy as np\n",
    "import matplotlib.pyplot as plt\n",
    "import frequency_analysis as spectrums_package\n",
    "from pathlib import Path\n",
    "cwd = Path.cwd()\n",
    "tests_path = cwd.parents[1].joinpath('tests')\n",
    "raw = mne.io.read_raw_fif(\n",
    "    tests_path.joinpath('sub-04_ses-01_task-rest_run-01_desc-HomeMadePipeline_eeg.fif'),\n",
    "    preload=True)\n",
    "metrics = signal_metrics.SignalMetrics(raw)\n",
    "metrics.calculate_time_metrics()"
=======
   "outputs": [],
   "source": [
    "import mne\n",
    "import signal_metrics\n",
    "from pathlib import Path\n",
    "import bids"
>>>>>>> bc2bdf7 (implement the run)
   ]
  },
  {
   "cell_type": "code",
<<<<<<< HEAD
   "execution_count": 2,
   "metadata": {},
   "outputs": [
    {
     "data": {
      "text/plain": [
       "<signal_metrics.SignalMetrics at 0x16c4f8650>"
      ]
     },
     "execution_count": 2,
     "metadata": {},
     "output_type": "execute_result"
    }
   ],
   "source": [
    "metrics.calculate_frequency_metrics()"
   ]
  },
  {
   "cell_type": "code",
   "execution_count": 3,
   "metadata": {},
   "outputs": [
    {
     "data": {
      "text/plain": [
       "array([ 7.27131064, 10.19634985,  7.07543775,  9.75012251,  7.42351743,\n",
       "        8.02406429,  8.10719837,  9.33888305,  7.61280955,  7.75237048,\n",
       "        7.91596962,  8.45366822,  7.73860789,  9.30383341,  7.34547113,\n",
       "        7.64388706, 11.01735497,  7.85918046,  7.89629335,  8.6710237 ,\n",
       "        9.8486941 ,  7.96977796,  9.82343814,  8.05442971, 10.67801477,\n",
       "        7.54856687, 10.02142026,  6.73094351, 10.75410289,  8.21425006,\n",
       "       10.64345161,  7.25516993, 10.01638529,  7.49375401,  7.11022554,\n",
       "        7.67604564, 11.22526381,  8.19238434, 10.35391553,  7.63524599,\n",
       "       11.91553716,  5.65441006,  3.01888436,  7.28308621, 11.25529146,\n",
       "        6.93390166,  7.04062061,  7.67790744, 10.4865165 ,  7.04350484,\n",
       "        6.70631095,  8.88002009,  9.52044164, 10.08880891,  9.25603099,\n",
       "       10.56197224,  8.00161277,  9.19782725,  8.93145883,  7.48949762,\n",
       "        6.82019366, 11.11224102,  9.51627959,  6.86800699])"
      ]
     },
     "execution_count": 3,
     "metadata": {},
     "output_type": "execute_result"
    }
   ],
   "source": [
    "metrics.snr"
   ]
  },
  {
   "cell_type": "code",
   "execution_count": 5,
=======
   "execution_count": 10,
>>>>>>> bc2bdf7 (implement the run)
   "metadata": {},
   "outputs": [
    {
     "name": "stdout",
     "output_type": "stream",
     "text": [
<<<<<<< HEAD
      "Not setting metadata\n",
      "693 matching events found\n",
      "No baseline correction applied\n",
      "Created an SSP operator (subspace dimension = 7)\n",
      "7 projection items activated\n",
      "Using data from preloaded Raw for 693 events and 250 original time points ...\n",
      "26 bad epochs dropped\n"
     ]
    },
    {
     "data": {
      "text/plain": [
       "<signal_metrics.SignalMetrics at 0x17fa27750>"
      ]
     },
     "execution_count": 5,
     "metadata": {},
     "output_type": "execute_result"
    }
   ],
   "source": [
    "epochs = mne.make_fixed_length_epochs(raw, duration=1)\n",
    "metrics = signal_metrics.SignalMetrics(epochs)\n",
    "metrics.calculate_time_metrics()\n",
    "#metrics.calculate_frequency_metrics()"
=======
      "/projects/EEG_FMRI/bids_eeg/BIDS/NEW/DERIVATIVES/BCG/sub-22/ses-02/eeg/sub-22_ses-02_task-checkeroff_run-01_eeg.fif\n",
      "/projects/EEG_FMRI/bids_eeg/BIDS/NEW/DERIVATIVES/BCG/sub-22/ses-02/eeg/sub-22_ses-02_task-checkeroff_run-01_eeg.json\n",
      "/projects/EEG_FMRI/bids_eeg/BIDS/NEW/DERIVATIVES/BCG/sub-22/ses-01/eeg/sub-22_ses-01_task-checkeroff_run-01_eeg.fif\n",
      "/projects/EEG_FMRI/bids_eeg/BIDS/NEW/DERIVATIVES/BCG/sub-22/ses-01/eeg/sub-22_ses-01_task-checkeroff_run-01_eeg.json\n",
      "/projects/EEG_FMRI/bids_eeg/BIDS/NEW/DERIVATIVES/BCG/sub-10/ses-02/eeg/sub-10_ses-02_task-checkeroff_run-01_eeg.fif\n",
      "/projects/EEG_FMRI/bids_eeg/BIDS/NEW/DERIVATIVES/BCG/sub-10/ses-02/eeg/sub-10_ses-02_task-checkeroff_run-01_eeg.json\n",
      "/projects/EEG_FMRI/bids_eeg/BIDS/NEW/DERIVATIVES/BCG/sub-10/ses-01/eeg/sub-10_ses-01_task-checkeroff_run-01_eeg.fif\n",
      "/projects/EEG_FMRI/bids_eeg/BIDS/NEW/DERIVATIVES/BCG/sub-10/ses-01/eeg/sub-10_ses-01_task-checkeroff_run-01_eeg.json\n",
      "/projects/EEG_FMRI/bids_eeg/BIDS/NEW/DERIVATIVES/BCG/sub-03/ses-01/eeg/sub-03_ses-01_task-checkeroff_run-01_eeg.json\n",
      "/projects/EEG_FMRI/bids_eeg/BIDS/NEW/DERIVATIVES/BCG/sub-03/ses-01/eeg/sub-03_ses-01_task-checkeroff_run-01_eeg.fif\n",
      "/projects/EEG_FMRI/bids_eeg/BIDS/NEW/DERIVATIVES/BCG/sub-09/ses-01/eeg/sub-09_ses-01_task-checkeroff_run-01_eeg.json\n",
      "/projects/EEG_FMRI/bids_eeg/BIDS/NEW/DERIVATIVES/BCG/sub-09/ses-01/eeg/sub-09_ses-01_task-checkeroff_run-01_eeg.fif\n",
      "/projects/EEG_FMRI/bids_eeg/BIDS/NEW/DERIVATIVES/BCG/sub-04/ses-02/eeg/sub-04_ses-02_task-checkeroff_run-01_eeg.json\n",
      "/projects/EEG_FMRI/bids_eeg/BIDS/NEW/DERIVATIVES/BCG/sub-04/ses-02/eeg/sub-04_ses-02_task-checkeroff_run-01_eeg.fif\n",
      "/projects/EEG_FMRI/bids_eeg/BIDS/NEW/DERIVATIVES/BCG/sub-04/ses-01/eeg/sub-04_ses-01_task-checkeroff_run-01_eeg.json\n",
      "/projects/EEG_FMRI/bids_eeg/BIDS/NEW/DERIVATIVES/BCG/sub-04/ses-01/eeg/sub-04_ses-01_task-checkeroff_run-01_eeg.fif\n",
      "/projects/EEG_FMRI/bids_eeg/BIDS/NEW/DERIVATIVES/BCG/sub-17/ses-02/eeg/sub-17_ses-02_task-checkeroff_run-01_eeg.fif\n",
      "/projects/EEG_FMRI/bids_eeg/BIDS/NEW/DERIVATIVES/BCG/sub-17/ses-02/eeg/sub-17_ses-02_task-checkeroff_run-01_eeg.json\n",
      "/projects/EEG_FMRI/bids_eeg/BIDS/NEW/DERIVATIVES/BCG/sub-17/ses-01/eeg/sub-17_ses-01_task-checkeroff_run-01_eeg.json\n",
      "/projects/EEG_FMRI/bids_eeg/BIDS/NEW/DERIVATIVES/BCG/sub-17/ses-01/eeg/sub-17_ses-01_task-checkeroff_run-01_eeg.fif\n",
      "/projects/EEG_FMRI/bids_eeg/BIDS/NEW/DERIVATIVES/BCG/sub-17/ses-03/eeg/sub-17_ses-03_task-checkeroff_run-01_eeg.json\n",
      "/projects/EEG_FMRI/bids_eeg/BIDS/NEW/DERIVATIVES/BCG/sub-17/ses-03/eeg/sub-17_ses-03_task-checkeroff_run-01_eeg.fif\n",
      "/projects/EEG_FMRI/bids_eeg/BIDS/NEW/DERIVATIVES/BCG/sub-21/ses-01/eeg/sub-21_ses-01_task-checkeroff_run-01_eeg.fif\n",
      "/projects/EEG_FMRI/bids_eeg/BIDS/NEW/DERIVATIVES/BCG/sub-21/ses-01/eeg/sub-21_ses-01_task-checkeroff_run-01_eeg.json\n",
      "/projects/EEG_FMRI/bids_eeg/BIDS/NEW/DERIVATIVES/BCG/sub-21/ses-02/eeg/sub-21_ses-02_task-checkeroff_run-01_eeg.json\n",
      "/projects/EEG_FMRI/bids_eeg/BIDS/NEW/DERIVATIVES/BCG/sub-21/ses-02/eeg/sub-21_ses-02_task-checkeroff_run-01_eeg.fif\n",
      "/projects/EEG_FMRI/bids_eeg/BIDS/NEW/DERIVATIVES/BCG/sub-13/ses-01/eeg/sub-13_ses-01_task-checkeroff_run-01_eeg.fif\n",
      "/projects/EEG_FMRI/bids_eeg/BIDS/NEW/DERIVATIVES/BCG/sub-13/ses-01/eeg/sub-13_ses-01_task-checkeroff_run-01_eeg.json\n",
      "/projects/EEG_FMRI/bids_eeg/BIDS/NEW/DERIVATIVES/BCG/sub-13/ses-02/eeg/sub-13_ses-02_task-checkeroff_run-01_eeg.json\n",
      "/projects/EEG_FMRI/bids_eeg/BIDS/NEW/DERIVATIVES/BCG/sub-13/ses-02/eeg/sub-13_ses-02_task-checkeroff_run-01_eeg.fif\n",
      "/projects/EEG_FMRI/bids_eeg/BIDS/NEW/DERIVATIVES/BCG/sub-19/ses-01/eeg/sub-19_ses-01_task-checkeroff_run-01_eeg.fif\n",
      "/projects/EEG_FMRI/bids_eeg/BIDS/NEW/DERIVATIVES/BCG/sub-19/ses-01/eeg/sub-19_ses-01_task-checkeroff_run-01_eeg.json\n",
      "/projects/EEG_FMRI/bids_eeg/BIDS/NEW/DERIVATIVES/BCG/sub-19/ses-02/eeg/sub-19_ses-02_task-checkeroff_run-01_eeg.fif\n",
      "/projects/EEG_FMRI/bids_eeg/BIDS/NEW/DERIVATIVES/BCG/sub-19/ses-02/eeg/sub-19_ses-02_task-checkeroff_run-01_eeg.json\n",
      "/projects/EEG_FMRI/bids_eeg/BIDS/NEW/DERIVATIVES/BCG/sub-07/ses-02/eeg/sub-07_ses-02_task-checkeroff_run-01_eeg.fif\n",
      "/projects/EEG_FMRI/bids_eeg/BIDS/NEW/DERIVATIVES/BCG/sub-07/ses-02/eeg/sub-07_ses-02_task-checkeroff_run-01_eeg.json\n",
      "/projects/EEG_FMRI/bids_eeg/BIDS/NEW/DERIVATIVES/BCG/sub-07/ses-01/eeg/sub-07_ses-01_task-checkeroff_run-01_eeg.json\n",
      "/projects/EEG_FMRI/bids_eeg/BIDS/NEW/DERIVATIVES/BCG/sub-07/ses-01/eeg/sub-07_ses-01_task-checkeroff_run-01_eeg.fif\n",
      "/projects/EEG_FMRI/bids_eeg/BIDS/NEW/DERIVATIVES/BCG/sub-14/ses-01/eeg/sub-14_ses-01_task-checkeroff_run-01_eeg.json\n",
      "/projects/EEG_FMRI/bids_eeg/BIDS/NEW/DERIVATIVES/BCG/sub-14/ses-01/eeg/sub-14_ses-01_task-checkeroff_run-01_eeg.fif\n",
      "/projects/EEG_FMRI/bids_eeg/BIDS/NEW/DERIVATIVES/BCG/sub-14/ses-02/eeg/sub-14_ses-02_task-checkeroff_run-01_eeg.json\n",
      "/projects/EEG_FMRI/bids_eeg/BIDS/NEW/DERIVATIVES/BCG/sub-14/ses-02/eeg/sub-14_ses-02_task-checkeroff_run-01_eeg.fif\n",
      "/projects/EEG_FMRI/bids_eeg/BIDS/NEW/DERIVATIVES/BCG/sub-16/ses-01/eeg/sub-16_ses-01_task-checkeroff_run-01_eeg.fif\n",
      "/projects/EEG_FMRI/bids_eeg/BIDS/NEW/DERIVATIVES/BCG/sub-16/ses-01/eeg/sub-16_ses-01_task-checkeroff_run-01_eeg.json\n",
      "/projects/EEG_FMRI/bids_eeg/BIDS/NEW/DERIVATIVES/BCG/sub-16/ses-02/eeg/sub-16_ses-02_task-checkeroff_run-01_eeg.json\n",
      "/projects/EEG_FMRI/bids_eeg/BIDS/NEW/DERIVATIVES/BCG/sub-16/ses-02/eeg/sub-16_ses-02_task-checkeroff_run-01_eeg.fif\n",
      "/projects/EEG_FMRI/bids_eeg/BIDS/NEW/DERIVATIVES/BCG/sub-05/ses-01/eeg/sub-05_ses-01_task-checkeroff_run-01_eeg.json\n",
      "/projects/EEG_FMRI/bids_eeg/BIDS/NEW/DERIVATIVES/BCG/sub-05/ses-01/eeg/sub-05_ses-01_task-checkeroff_run-01_eeg.fif\n",
      "/projects/EEG_FMRI/bids_eeg/BIDS/NEW/DERIVATIVES/BCG/sub-05/ses-02/eeg/sub-05_ses-02_task-checkeroff_run-01_eeg.fif\n",
      "/projects/EEG_FMRI/bids_eeg/BIDS/NEW/DERIVATIVES/BCG/sub-05/ses-02/eeg/sub-05_ses-02_task-checkeroff_run-01_eeg.json\n",
      "/projects/EEG_FMRI/bids_eeg/BIDS/NEW/DERIVATIVES/BCG/sub-08/ses-02/eeg/sub-08_ses-02_task-checkeroff_run-01_eeg.fif\n",
      "/projects/EEG_FMRI/bids_eeg/BIDS/NEW/DERIVATIVES/BCG/sub-08/ses-02/eeg/sub-08_ses-02_task-checkeroff_run-01_eeg.json\n",
      "/projects/EEG_FMRI/bids_eeg/BIDS/NEW/DERIVATIVES/BCG/sub-08/ses-01/eeg/sub-08_ses-01_task-checkeroff_run-01_eeg.fif\n",
      "/projects/EEG_FMRI/bids_eeg/BIDS/NEW/DERIVATIVES/BCG/sub-08/ses-01/eeg/sub-08_ses-01_task-checkeroff_run-01_eeg.json\n",
      "/projects/EEG_FMRI/bids_eeg/BIDS/NEW/DERIVATIVES/BCG/sub-02/ses-01/eeg/sub-02_ses-01_task-checkeroff_run-01_eeg.json\n",
      "/projects/EEG_FMRI/bids_eeg/BIDS/NEW/DERIVATIVES/BCG/sub-02/ses-01/eeg/sub-02_ses-01_task-checkeroff_run-01_eeg.fif\n",
      "/projects/EEG_FMRI/bids_eeg/BIDS/NEW/DERIVATIVES/BCG/sub-11/ses-01/eeg/sub-11_ses-01_task-checkeroff_run-01_eeg.fif\n",
      "/projects/EEG_FMRI/bids_eeg/BIDS/NEW/DERIVATIVES/BCG/sub-11/ses-01/eeg/sub-11_ses-01_task-checkeroff_run-01_eeg.json\n",
      "/projects/EEG_FMRI/bids_eeg/BIDS/NEW/DERIVATIVES/BCG/sub-11/ses-02/eeg/sub-11_ses-02_task-checkeroff_run-01_eeg.fif\n",
      "/projects/EEG_FMRI/bids_eeg/BIDS/NEW/DERIVATIVES/BCG/sub-11/ses-02/eeg/sub-11_ses-02_task-checkeroff_run-01_eeg.json\n",
      "/projects/EEG_FMRI/bids_eeg/BIDS/NEW/DERIVATIVES/BCG/sub-15/ses-02/eeg/sub-15_ses-02_task-checkeroff_run-01_eeg.json\n",
      "/projects/EEG_FMRI/bids_eeg/BIDS/NEW/DERIVATIVES/BCG/sub-15/ses-02/eeg/sub-15_ses-02_task-checkeroff_run-01_eeg.fif\n",
      "/projects/EEG_FMRI/bids_eeg/BIDS/NEW/DERIVATIVES/BCG/sub-15/ses-01/eeg/sub-15_ses-01_task-checkeroff_run-01_eeg.json\n",
      "/projects/EEG_FMRI/bids_eeg/BIDS/NEW/DERIVATIVES/BCG/sub-15/ses-01/eeg/sub-15_ses-01_task-checkeroff_run-01_eeg.fif\n",
      "/projects/EEG_FMRI/bids_eeg/BIDS/NEW/DERIVATIVES/BCG/sub-06/ses-01/eeg/sub-06_ses-01_task-checkeroff_run-01_eeg.fif\n",
      "/projects/EEG_FMRI/bids_eeg/BIDS/NEW/DERIVATIVES/BCG/sub-06/ses-01/eeg/sub-06_ses-01_task-checkeroff_run-01_eeg.json\n",
      "/projects/EEG_FMRI/bids_eeg/BIDS/NEW/DERIVATIVES/BCG/sub-06/ses-02/eeg/sub-06_ses-02_task-checkeroff_run-01_eeg.json\n",
      "/projects/EEG_FMRI/bids_eeg/BIDS/NEW/DERIVATIVES/BCG/sub-06/ses-02/eeg/sub-06_ses-02_task-checkeroff_run-01_eeg.fif\n",
      "/projects/EEG_FMRI/bids_eeg/BIDS/NEW/DERIVATIVES/BCG/sub-01/ses-01/eeg/sub-01_ses-01_task-checkeroff_run-01_eeg.json\n",
      "/projects/EEG_FMRI/bids_eeg/BIDS/NEW/DERIVATIVES/BCG/sub-01/ses-01/eeg/sub-01_ses-01_task-checkeroff_run-01_eeg.fif\n",
      "/projects/EEG_FMRI/bids_eeg/BIDS/NEW/DERIVATIVES/BCG/sub-20/ses-02/eeg/sub-20_ses-02_task-checkeroff_run-01_eeg.fif\n",
      "/projects/EEG_FMRI/bids_eeg/BIDS/NEW/DERIVATIVES/BCG/sub-20/ses-02/eeg/sub-20_ses-02_task-checkeroff_run-01_eeg.json\n",
      "/projects/EEG_FMRI/bids_eeg/BIDS/NEW/DERIVATIVES/BCG/sub-20/ses-01/eeg/sub-20_ses-01_task-checkeroff_run-01_eeg.fif\n",
      "/projects/EEG_FMRI/bids_eeg/BIDS/NEW/DERIVATIVES/BCG/sub-20/ses-01/eeg/sub-20_ses-01_task-checkeroff_run-01_eeg.json\n",
      "/projects/EEG_FMRI/bids_eeg/BIDS/NEW/DERIVATIVES/BCG/sub-18/ses-01/eeg/sub-18_ses-01_task-checkeroff_run-01_eeg.fif\n",
      "/projects/EEG_FMRI/bids_eeg/BIDS/NEW/DERIVATIVES/BCG/sub-18/ses-01/eeg/sub-18_ses-01_task-checkeroff_run-01_eeg.json\n",
      "/projects/EEG_FMRI/bids_eeg/BIDS/NEW/DERIVATIVES/BCG/sub-12/ses-02/eeg/sub-12_ses-02_task-checkeroff_run-01_eeg.fif\n",
      "/projects/EEG_FMRI/bids_eeg/BIDS/NEW/DERIVATIVES/BCG/sub-12/ses-02/eeg/sub-12_ses-02_task-checkeroff_run-01_eeg.json\n",
      "/projects/EEG_FMRI/bids_eeg/BIDS/NEW/DERIVATIVES/BCG/sub-12/ses-01/eeg/sub-12_ses-01_task-checkeroff_run-01_eeg.fif\n",
      "/projects/EEG_FMRI/bids_eeg/BIDS/NEW/DERIVATIVES/BCG/sub-12/ses-01/eeg/sub-12_ses-01_task-checkeroff_run-01_eeg.json\n",
      "/projects/EEG_FMRI/bids_eeg/BIDS/NEW/DERIVATIVES/BCG_ASR/sub-05/ses-02/eeg/sub-05_ses-02_task-checkeroff_run-01_eeg.fif\n",
      "/projects/EEG_FMRI/bids_eeg/BIDS/NEW/DERIVATIVES/BCG_ASR/sub-05/ses-02/eeg/sub-05_ses-02_task-checkeroff_run-01_eeg.json\n",
      "/projects/EEG_FMRI/bids_eeg/BIDS/NEW/DERIVATIVES/BCG_ASR/sub-05/ses-01/eeg/sub-05_ses-01_task-checkeroff_run-01_eeg.fif\n",
      "/projects/EEG_FMRI/bids_eeg/BIDS/NEW/DERIVATIVES/BCG_ASR/sub-05/ses-01/eeg/sub-05_ses-01_task-checkeroff_run-01_eeg.json\n",
      "/projects/EEG_FMRI/bids_eeg/BIDS/NEW/DERIVATIVES/BCG_ASR/sub-16/ses-02/eeg/sub-16_ses-02_task-checkeroff_run-01_eeg.json\n",
      "/projects/EEG_FMRI/bids_eeg/BIDS/NEW/DERIVATIVES/BCG_ASR/sub-16/ses-02/eeg/sub-16_ses-02_task-checkeroff_run-01_eeg.fif\n",
      "/projects/EEG_FMRI/bids_eeg/BIDS/NEW/DERIVATIVES/BCG_ASR/sub-16/ses-01/eeg/sub-16_ses-01_task-checkeroff_run-01_eeg.json\n",
      "/projects/EEG_FMRI/bids_eeg/BIDS/NEW/DERIVATIVES/BCG_ASR/sub-16/ses-01/eeg/sub-16_ses-01_task-checkeroff_run-01_eeg.fif\n",
      "/projects/EEG_FMRI/bids_eeg/BIDS/NEW/DERIVATIVES/BCG_ASR/sub-11/ses-01/eeg/sub-11_ses-01_task-checkeroff_run-01_eeg.json\n",
      "/projects/EEG_FMRI/bids_eeg/BIDS/NEW/DERIVATIVES/BCG_ASR/sub-11/ses-01/eeg/sub-11_ses-01_task-checkeroff_run-01_eeg.fif\n",
      "/projects/EEG_FMRI/bids_eeg/BIDS/NEW/DERIVATIVES/BCG_ASR/sub-11/ses-02/eeg/sub-11_ses-02_task-checkeroff_run-01_eeg.fif\n",
      "/projects/EEG_FMRI/bids_eeg/BIDS/NEW/DERIVATIVES/BCG_ASR/sub-11/ses-02/eeg/sub-11_ses-02_task-checkeroff_run-01_eeg.json\n",
      "/projects/EEG_FMRI/bids_eeg/BIDS/NEW/DERIVATIVES/BCG_ASR/sub-08/ses-02/eeg/sub-08_ses-02_task-checkeroff_run-01_eeg.fif\n",
      "/projects/EEG_FMRI/bids_eeg/BIDS/NEW/DERIVATIVES/BCG_ASR/sub-08/ses-02/eeg/sub-08_ses-02_task-checkeroff_run-01_eeg.json\n",
      "/projects/EEG_FMRI/bids_eeg/BIDS/NEW/DERIVATIVES/BCG_ASR/sub-08/ses-01/eeg/sub-08_ses-01_task-checkeroff_run-01_eeg.fif\n",
      "/projects/EEG_FMRI/bids_eeg/BIDS/NEW/DERIVATIVES/BCG_ASR/sub-08/ses-01/eeg/sub-08_ses-01_task-checkeroff_run-01_eeg.json\n",
      "/projects/EEG_FMRI/bids_eeg/BIDS/NEW/DERIVATIVES/BCG_ASR/sub-02/ses-01/eeg/sub-02_ses-01_task-checkeroff_run-01_eeg.json\n",
      "/projects/EEG_FMRI/bids_eeg/BIDS/NEW/DERIVATIVES/BCG_ASR/sub-02/ses-01/eeg/sub-02_ses-01_task-checkeroff_run-01_eeg.fif\n",
      "/projects/EEG_FMRI/bids_eeg/BIDS/NEW/DERIVATIVES/BCG_ASR/sub-06/ses-02/eeg/sub-06_ses-02_task-checkeroff_run-01_eeg.fif\n",
      "/projects/EEG_FMRI/bids_eeg/BIDS/NEW/DERIVATIVES/BCG_ASR/sub-06/ses-02/eeg/sub-06_ses-02_task-checkeroff_run-01_eeg.json\n",
      "/projects/EEG_FMRI/bids_eeg/BIDS/NEW/DERIVATIVES/BCG_ASR/sub-06/ses-01/eeg/sub-06_ses-01_task-checkeroff_run-01_eeg.json\n",
      "/projects/EEG_FMRI/bids_eeg/BIDS/NEW/DERIVATIVES/BCG_ASR/sub-06/ses-01/eeg/sub-06_ses-01_task-checkeroff_run-01_eeg.fif\n",
      "/projects/EEG_FMRI/bids_eeg/BIDS/NEW/DERIVATIVES/BCG_ASR/sub-15/ses-01/eeg/sub-15_ses-01_task-checkeroff_run-01_eeg.json\n",
      "/projects/EEG_FMRI/bids_eeg/BIDS/NEW/DERIVATIVES/BCG_ASR/sub-15/ses-01/eeg/sub-15_ses-01_task-checkeroff_run-01_eeg.fif\n",
      "/projects/EEG_FMRI/bids_eeg/BIDS/NEW/DERIVATIVES/BCG_ASR/sub-15/ses-02/eeg/sub-15_ses-02_task-checkeroff_run-01_eeg.fif\n",
      "/projects/EEG_FMRI/bids_eeg/BIDS/NEW/DERIVATIVES/BCG_ASR/sub-15/ses-02/eeg/sub-15_ses-02_task-checkeroff_run-01_eeg.json\n",
      "/projects/EEG_FMRI/bids_eeg/BIDS/NEW/DERIVATIVES/BCG_ASR/sub-18/ses-01/eeg/sub-18_ses-01_task-checkeroff_run-01_eeg.fif\n",
      "/projects/EEG_FMRI/bids_eeg/BIDS/NEW/DERIVATIVES/BCG_ASR/sub-18/ses-01/eeg/sub-18_ses-01_task-checkeroff_run-01_eeg.json\n",
      "/projects/EEG_FMRI/bids_eeg/BIDS/NEW/DERIVATIVES/BCG_ASR/sub-12/ses-02/eeg/sub-12_ses-02_task-checkeroff_run-01_eeg.json\n",
      "/projects/EEG_FMRI/bids_eeg/BIDS/NEW/DERIVATIVES/BCG_ASR/sub-12/ses-02/eeg/sub-12_ses-02_task-checkeroff_run-01_eeg.fif\n",
      "/projects/EEG_FMRI/bids_eeg/BIDS/NEW/DERIVATIVES/BCG_ASR/sub-12/ses-01/eeg/sub-12_ses-01_task-checkeroff_run-01_eeg.fif\n",
      "/projects/EEG_FMRI/bids_eeg/BIDS/NEW/DERIVATIVES/BCG_ASR/sub-12/ses-01/eeg/sub-12_ses-01_task-checkeroff_run-01_eeg.json\n",
      "/projects/EEG_FMRI/bids_eeg/BIDS/NEW/DERIVATIVES/BCG_ASR/sub-20/ses-01/eeg/sub-20_ses-01_task-checkeroff_run-01_eeg.fif\n",
      "/projects/EEG_FMRI/bids_eeg/BIDS/NEW/DERIVATIVES/BCG_ASR/sub-20/ses-01/eeg/sub-20_ses-01_task-checkeroff_run-01_eeg.json\n",
      "/projects/EEG_FMRI/bids_eeg/BIDS/NEW/DERIVATIVES/BCG_ASR/sub-20/ses-02/eeg/sub-20_ses-02_task-checkeroff_run-01_eeg.fif\n",
      "/projects/EEG_FMRI/bids_eeg/BIDS/NEW/DERIVATIVES/BCG_ASR/sub-20/ses-02/eeg/sub-20_ses-02_task-checkeroff_run-01_eeg.json\n",
      "/projects/EEG_FMRI/bids_eeg/BIDS/NEW/DERIVATIVES/BCG_ASR/sub-01/ses-01/eeg/sub-01_ses-01_task-checkeroff_run-01_eeg.fif\n",
      "/projects/EEG_FMRI/bids_eeg/BIDS/NEW/DERIVATIVES/BCG_ASR/sub-01/ses-01/eeg/sub-01_ses-01_task-checkeroff_run-01_eeg.json\n",
      "/projects/EEG_FMRI/bids_eeg/BIDS/NEW/DERIVATIVES/BCG_ASR/sub-03/ses-01/eeg/sub-03_ses-01_task-checkeroff_run-01_eeg.fif\n",
      "/projects/EEG_FMRI/bids_eeg/BIDS/NEW/DERIVATIVES/BCG_ASR/sub-03/ses-01/eeg/sub-03_ses-01_task-checkeroff_run-01_eeg.json\n",
      "/projects/EEG_FMRI/bids_eeg/BIDS/NEW/DERIVATIVES/BCG_ASR/sub-09/ses-01/eeg/sub-09_ses-01_task-checkeroff_run-01_eeg.fif\n",
      "/projects/EEG_FMRI/bids_eeg/BIDS/NEW/DERIVATIVES/BCG_ASR/sub-09/ses-01/eeg/sub-09_ses-01_task-checkeroff_run-01_eeg.json\n",
      "/projects/EEG_FMRI/bids_eeg/BIDS/NEW/DERIVATIVES/BCG_ASR/sub-10/ses-01/eeg/sub-10_ses-01_task-checkeroff_run-01_eeg.fif\n",
      "/projects/EEG_FMRI/bids_eeg/BIDS/NEW/DERIVATIVES/BCG_ASR/sub-10/ses-01/eeg/sub-10_ses-01_task-checkeroff_run-01_eeg.json\n",
      "/projects/EEG_FMRI/bids_eeg/BIDS/NEW/DERIVATIVES/BCG_ASR/sub-10/ses-02/eeg/sub-10_ses-02_task-checkeroff_run-01_eeg.json\n",
      "/projects/EEG_FMRI/bids_eeg/BIDS/NEW/DERIVATIVES/BCG_ASR/sub-10/ses-02/eeg/sub-10_ses-02_task-checkeroff_run-01_eeg.fif\n",
      "/projects/EEG_FMRI/bids_eeg/BIDS/NEW/DERIVATIVES/BCG_ASR/sub-22/ses-01/eeg/sub-22_ses-01_task-checkeroff_run-01_eeg.fif\n",
      "/projects/EEG_FMRI/bids_eeg/BIDS/NEW/DERIVATIVES/BCG_ASR/sub-22/ses-01/eeg/sub-22_ses-01_task-checkeroff_run-01_eeg.json\n",
      "/projects/EEG_FMRI/bids_eeg/BIDS/NEW/DERIVATIVES/BCG_ASR/sub-22/ses-02/eeg/sub-22_ses-02_task-checkeroff_run-01_eeg.json\n",
      "/projects/EEG_FMRI/bids_eeg/BIDS/NEW/DERIVATIVES/BCG_ASR/sub-22/ses-02/eeg/sub-22_ses-02_task-checkeroff_run-01_eeg.fif\n",
      "/projects/EEG_FMRI/bids_eeg/BIDS/NEW/DERIVATIVES/BCG_ASR/sub-17/ses-03/eeg/sub-17_ses-03_task-checkeroff_run-01_eeg.fif\n",
      "/projects/EEG_FMRI/bids_eeg/BIDS/NEW/DERIVATIVES/BCG_ASR/sub-17/ses-03/eeg/sub-17_ses-03_task-checkeroff_run-01_eeg.json\n",
      "/projects/EEG_FMRI/bids_eeg/BIDS/NEW/DERIVATIVES/BCG_ASR/sub-17/ses-02/eeg/sub-17_ses-02_task-checkeroff_run-01_eeg.fif\n",
      "/projects/EEG_FMRI/bids_eeg/BIDS/NEW/DERIVATIVES/BCG_ASR/sub-17/ses-02/eeg/sub-17_ses-02_task-checkeroff_run-01_eeg.json\n",
      "/projects/EEG_FMRI/bids_eeg/BIDS/NEW/DERIVATIVES/BCG_ASR/sub-17/ses-01/eeg/sub-17_ses-01_task-checkeroff_run-01_eeg.fif\n",
      "/projects/EEG_FMRI/bids_eeg/BIDS/NEW/DERIVATIVES/BCG_ASR/sub-17/ses-01/eeg/sub-17_ses-01_task-checkeroff_run-01_eeg.json\n",
      "/projects/EEG_FMRI/bids_eeg/BIDS/NEW/DERIVATIVES/BCG_ASR/sub-04/ses-02/eeg/sub-04_ses-02_task-checkeroff_run-01_eeg.fif\n",
      "/projects/EEG_FMRI/bids_eeg/BIDS/NEW/DERIVATIVES/BCG_ASR/sub-04/ses-02/eeg/sub-04_ses-02_task-checkeroff_run-01_eeg.json\n",
      "/projects/EEG_FMRI/bids_eeg/BIDS/NEW/DERIVATIVES/BCG_ASR/sub-04/ses-01/eeg/sub-04_ses-01_task-checkeroff_run-01_eeg.json\n",
      "/projects/EEG_FMRI/bids_eeg/BIDS/NEW/DERIVATIVES/BCG_ASR/sub-04/ses-01/eeg/sub-04_ses-01_task-checkeroff_run-01_eeg.fif\n",
      "/projects/EEG_FMRI/bids_eeg/BIDS/NEW/DERIVATIVES/BCG_ASR/sub-13/ses-01/eeg/sub-13_ses-01_task-checkeroff_run-01_eeg.fif\n",
      "/projects/EEG_FMRI/bids_eeg/BIDS/NEW/DERIVATIVES/BCG_ASR/sub-13/ses-01/eeg/sub-13_ses-01_task-checkeroff_run-01_eeg.json\n",
      "/projects/EEG_FMRI/bids_eeg/BIDS/NEW/DERIVATIVES/BCG_ASR/sub-13/ses-02/eeg/sub-13_ses-02_task-checkeroff_run-01_eeg.json\n",
      "/projects/EEG_FMRI/bids_eeg/BIDS/NEW/DERIVATIVES/BCG_ASR/sub-13/ses-02/eeg/sub-13_ses-02_task-checkeroff_run-01_eeg.fif\n",
      "/projects/EEG_FMRI/bids_eeg/BIDS/NEW/DERIVATIVES/BCG_ASR/sub-19/ses-02/eeg/sub-19_ses-02_task-checkeroff_run-01_eeg.fif\n",
      "/projects/EEG_FMRI/bids_eeg/BIDS/NEW/DERIVATIVES/BCG_ASR/sub-19/ses-02/eeg/sub-19_ses-02_task-checkeroff_run-01_eeg.json\n",
      "/projects/EEG_FMRI/bids_eeg/BIDS/NEW/DERIVATIVES/BCG_ASR/sub-19/ses-01/eeg/sub-19_ses-01_task-checkeroff_run-01_eeg.json\n",
      "/projects/EEG_FMRI/bids_eeg/BIDS/NEW/DERIVATIVES/BCG_ASR/sub-19/ses-01/eeg/sub-19_ses-01_task-checkeroff_run-01_eeg.fif\n",
      "/projects/EEG_FMRI/bids_eeg/BIDS/NEW/DERIVATIVES/BCG_ASR/sub-21/ses-01/eeg/sub-21_ses-01_task-checkeroff_run-01_eeg.json\n",
      "/projects/EEG_FMRI/bids_eeg/BIDS/NEW/DERIVATIVES/BCG_ASR/sub-21/ses-01/eeg/sub-21_ses-01_task-checkeroff_run-01_eeg.fif\n",
      "/projects/EEG_FMRI/bids_eeg/BIDS/NEW/DERIVATIVES/BCG_ASR/sub-21/ses-02/eeg/sub-21_ses-02_task-checkeroff_run-01_eeg.json\n",
      "/projects/EEG_FMRI/bids_eeg/BIDS/NEW/DERIVATIVES/BCG_ASR/sub-21/ses-02/eeg/sub-21_ses-02_task-checkeroff_run-01_eeg.fif\n",
      "/projects/EEG_FMRI/bids_eeg/BIDS/NEW/DERIVATIVES/BCG_ASR/sub-14/ses-02/eeg/sub-14_ses-02_task-checkeroff_run-01_eeg.fif\n",
      "/projects/EEG_FMRI/bids_eeg/BIDS/NEW/DERIVATIVES/BCG_ASR/sub-14/ses-02/eeg/sub-14_ses-02_task-checkeroff_run-01_eeg.json\n",
      "/projects/EEG_FMRI/bids_eeg/BIDS/NEW/DERIVATIVES/BCG_ASR/sub-14/ses-01/eeg/sub-14_ses-01_task-checkeroff_run-01_eeg.fif\n",
      "/projects/EEG_FMRI/bids_eeg/BIDS/NEW/DERIVATIVES/BCG_ASR/sub-14/ses-01/eeg/sub-14_ses-01_task-checkeroff_run-01_eeg.json\n",
      "/projects/EEG_FMRI/bids_eeg/BIDS/NEW/DERIVATIVES/BCG_ASR/sub-07/ses-01/eeg/sub-07_ses-01_task-checkeroff_run-01_eeg.json\n",
      "/projects/EEG_FMRI/bids_eeg/BIDS/NEW/DERIVATIVES/BCG_ASR/sub-07/ses-01/eeg/sub-07_ses-01_task-checkeroff_run-01_eeg.fif\n",
      "/projects/EEG_FMRI/bids_eeg/BIDS/NEW/DERIVATIVES/BCG_ASR/sub-07/ses-02/eeg/sub-07_ses-02_task-checkeroff_run-01_eeg.json\n",
      "/projects/EEG_FMRI/bids_eeg/BIDS/NEW/DERIVATIVES/BCG_ASR/sub-07/ses-02/eeg/sub-07_ses-02_task-checkeroff_run-01_eeg.fif\n",
      "/projects/EEG_FMRI/bids_eeg/BIDS/NEW/DERIVATIVES/GRAD_BCG/sub-03/ses-01/eeg/sub-03_ses-01_task-checker_run-01_eeg.fif\n",
      "/projects/EEG_FMRI/bids_eeg/BIDS/NEW/DERIVATIVES/GRAD_BCG/sub-03/ses-01/eeg/sub-03_ses-01_task-checker_run-01_eeg.json\n",
      "/projects/EEG_FMRI/bids_eeg/BIDS/NEW/DERIVATIVES/GRAD_BCG/sub-09/ses-01/eeg/sub-09_ses-01_task-checker_run-01_eeg.json\n",
      "/projects/EEG_FMRI/bids_eeg/BIDS/NEW/DERIVATIVES/GRAD_BCG/sub-09/ses-01/eeg/sub-09_ses-01_task-checker_run-01_eeg.fif\n",
      "/projects/EEG_FMRI/bids_eeg/BIDS/NEW/DERIVATIVES/GRAD_BCG/sub-10/ses-02/eeg/sub-10_ses-02_task-checker_run-01_eeg.fif\n",
      "/projects/EEG_FMRI/bids_eeg/BIDS/NEW/DERIVATIVES/GRAD_BCG/sub-10/ses-02/eeg/sub-10_ses-02_task-checker_run-01_eeg.json\n",
      "/projects/EEG_FMRI/bids_eeg/BIDS/NEW/DERIVATIVES/GRAD_BCG/sub-10/ses-01/eeg/sub-10_ses-01_task-checker_run-01_eeg.json\n",
      "/projects/EEG_FMRI/bids_eeg/BIDS/NEW/DERIVATIVES/GRAD_BCG/sub-10/ses-01/eeg/sub-10_ses-01_task-checker_run-01_eeg.fif\n",
      "/projects/EEG_FMRI/bids_eeg/BIDS/NEW/DERIVATIVES/GRAD_BCG/sub-22/ses-01/eeg/sub-22_ses-01_task-checker_run-01_eeg.json\n",
      "/projects/EEG_FMRI/bids_eeg/BIDS/NEW/DERIVATIVES/GRAD_BCG/sub-22/ses-01/eeg/sub-22_ses-01_task-checker_run-01_eeg.fif\n",
      "/projects/EEG_FMRI/bids_eeg/BIDS/NEW/DERIVATIVES/GRAD_BCG/sub-22/ses-02/eeg/sub-22_ses-02_task-checker_run-01_eeg.fif\n",
      "/projects/EEG_FMRI/bids_eeg/BIDS/NEW/DERIVATIVES/GRAD_BCG/sub-22/ses-02/eeg/sub-22_ses-02_task-checker_run-01_eeg.json\n",
      "/projects/EEG_FMRI/bids_eeg/BIDS/NEW/DERIVATIVES/GRAD_BCG/sub-17/ses-01/eeg/sub-17_ses-01_task-checker_run-01_eeg.json\n",
      "/projects/EEG_FMRI/bids_eeg/BIDS/NEW/DERIVATIVES/GRAD_BCG/sub-17/ses-01/eeg/sub-17_ses-01_task-checker_run-01_eeg.fif\n",
      "/projects/EEG_FMRI/bids_eeg/BIDS/NEW/DERIVATIVES/GRAD_BCG/sub-17/ses-03/eeg/sub-17_ses-03_task-checker_run-01_eeg.json\n",
      "/projects/EEG_FMRI/bids_eeg/BIDS/NEW/DERIVATIVES/GRAD_BCG/sub-17/ses-03/eeg/sub-17_ses-03_task-checker_run-01_eeg.fif\n",
      "/projects/EEG_FMRI/bids_eeg/BIDS/NEW/DERIVATIVES/GRAD_BCG/sub-04/ses-02/eeg/sub-04_ses-02_task-checker_run-01_eeg.fif\n",
      "/projects/EEG_FMRI/bids_eeg/BIDS/NEW/DERIVATIVES/GRAD_BCG/sub-04/ses-02/eeg/sub-04_ses-02_task-checker_run-01_eeg.json\n",
      "/projects/EEG_FMRI/bids_eeg/BIDS/NEW/DERIVATIVES/GRAD_BCG/sub-04/ses-01/eeg/sub-04_ses-01_task-checker_run-01_eeg.json\n",
      "/projects/EEG_FMRI/bids_eeg/BIDS/NEW/DERIVATIVES/GRAD_BCG/sub-04/ses-01/eeg/sub-04_ses-01_task-checker_run-01_eeg.fif\n",
      "/projects/EEG_FMRI/bids_eeg/BIDS/NEW/DERIVATIVES/GRAD_BCG/sub-13/ses-02/eeg/sub-13_ses-02_task-checker_run-01_eeg.fif\n",
      "/projects/EEG_FMRI/bids_eeg/BIDS/NEW/DERIVATIVES/GRAD_BCG/sub-13/ses-02/eeg/sub-13_ses-02_task-checker_run-01_eeg.json\n",
      "/projects/EEG_FMRI/bids_eeg/BIDS/NEW/DERIVATIVES/GRAD_BCG/sub-13/ses-01/eeg/sub-13_ses-01_task-checker_run-01_eeg.fif\n",
      "/projects/EEG_FMRI/bids_eeg/BIDS/NEW/DERIVATIVES/GRAD_BCG/sub-13/ses-01/eeg/sub-13_ses-01_task-checker_run-01_eeg.json\n",
      "/projects/EEG_FMRI/bids_eeg/BIDS/NEW/DERIVATIVES/GRAD_BCG/sub-19/ses-01/eeg/sub-19_ses-01_task-checker_run-01_eeg.fif\n",
      "/projects/EEG_FMRI/bids_eeg/BIDS/NEW/DERIVATIVES/GRAD_BCG/sub-19/ses-01/eeg/sub-19_ses-01_task-checker_run-01_eeg.json\n",
      "/projects/EEG_FMRI/bids_eeg/BIDS/NEW/DERIVATIVES/GRAD_BCG/sub-19/ses-02/eeg/sub-19_ses-02_task-checker_run-01_eeg.fif\n",
      "/projects/EEG_FMRI/bids_eeg/BIDS/NEW/DERIVATIVES/GRAD_BCG/sub-19/ses-02/eeg/sub-19_ses-02_task-checker_run-01_eeg.json\n",
      "/projects/EEG_FMRI/bids_eeg/BIDS/NEW/DERIVATIVES/GRAD_BCG/sub-21/ses-02/eeg/sub-21_ses-02_task-checker_run-01_eeg.fif\n",
      "/projects/EEG_FMRI/bids_eeg/BIDS/NEW/DERIVATIVES/GRAD_BCG/sub-21/ses-02/eeg/sub-21_ses-02_task-checker_run-01_eeg.json\n",
      "/projects/EEG_FMRI/bids_eeg/BIDS/NEW/DERIVATIVES/GRAD_BCG/sub-21/ses-01/eeg/sub-21_ses-01_task-checker_run-01_eeg.json\n",
      "/projects/EEG_FMRI/bids_eeg/BIDS/NEW/DERIVATIVES/GRAD_BCG/sub-21/ses-01/eeg/sub-21_ses-01_task-checker_run-01_eeg.fif\n",
      "/projects/EEG_FMRI/bids_eeg/BIDS/NEW/DERIVATIVES/GRAD_BCG/sub-14/ses-02/eeg/sub-14_ses-02_task-checker_run-01_eeg.fif\n",
      "/projects/EEG_FMRI/bids_eeg/BIDS/NEW/DERIVATIVES/GRAD_BCG/sub-14/ses-02/eeg/sub-14_ses-02_task-checker_run-01_eeg.json\n",
      "/projects/EEG_FMRI/bids_eeg/BIDS/NEW/DERIVATIVES/GRAD_BCG/sub-07/ses-01/eeg/sub-07_ses-01_task-checker_run-01_eeg.fif\n",
      "/projects/EEG_FMRI/bids_eeg/BIDS/NEW/DERIVATIVES/GRAD_BCG/sub-07/ses-01/eeg/sub-07_ses-01_task-checker_run-01_eeg.json\n",
      "/projects/EEG_FMRI/bids_eeg/BIDS/NEW/DERIVATIVES/GRAD_BCG/sub-07/ses-02/eeg/sub-07_ses-02_task-checker_run-01_eeg.fif\n",
      "/projects/EEG_FMRI/bids_eeg/BIDS/NEW/DERIVATIVES/GRAD_BCG/sub-07/ses-02/eeg/sub-07_ses-02_task-checker_run-01_eeg.json\n",
      "/projects/EEG_FMRI/bids_eeg/BIDS/NEW/DERIVATIVES/GRAD_BCG/sub-05/ses-01/eeg/sub-05_ses-01_task-checker_run-01_eeg.fif\n",
      "/projects/EEG_FMRI/bids_eeg/BIDS/NEW/DERIVATIVES/GRAD_BCG/sub-05/ses-01/eeg/sub-05_ses-01_task-checker_run-01_eeg.json\n",
      "/projects/EEG_FMRI/bids_eeg/BIDS/NEW/DERIVATIVES/GRAD_BCG/sub-05/ses-02/eeg/sub-05_ses-02_task-checker_run-01_eeg.fif\n",
      "/projects/EEG_FMRI/bids_eeg/BIDS/NEW/DERIVATIVES/GRAD_BCG/sub-05/ses-02/eeg/sub-05_ses-02_task-checker_run-01_eeg.json\n",
      "/projects/EEG_FMRI/bids_eeg/BIDS/NEW/DERIVATIVES/GRAD_BCG/sub-16/ses-02/eeg/sub-16_ses-02_task-checker_run-01_eeg.fif\n",
      "/projects/EEG_FMRI/bids_eeg/BIDS/NEW/DERIVATIVES/GRAD_BCG/sub-16/ses-02/eeg/sub-16_ses-02_task-checker_run-01_eeg.json\n",
      "/projects/EEG_FMRI/bids_eeg/BIDS/NEW/DERIVATIVES/GRAD_BCG/sub-11/ses-01/eeg/sub-11_ses-01_task-checker_run-01_eeg.json\n",
      "/projects/EEG_FMRI/bids_eeg/BIDS/NEW/DERIVATIVES/GRAD_BCG/sub-11/ses-01/eeg/sub-11_ses-01_task-checker_run-01_eeg.fif\n",
      "/projects/EEG_FMRI/bids_eeg/BIDS/NEW/DERIVATIVES/GRAD_BCG/sub-11/ses-02/eeg/sub-11_ses-02_task-checker_run-01_eeg.json\n",
      "/projects/EEG_FMRI/bids_eeg/BIDS/NEW/DERIVATIVES/GRAD_BCG/sub-11/ses-02/eeg/sub-11_ses-02_task-checker_run-01_eeg.fif\n",
      "/projects/EEG_FMRI/bids_eeg/BIDS/NEW/DERIVATIVES/GRAD_BCG/sub-08/ses-01/eeg/sub-08_ses-01_task-checker_run-01_eeg.fif\n",
      "/projects/EEG_FMRI/bids_eeg/BIDS/NEW/DERIVATIVES/GRAD_BCG/sub-08/ses-01/eeg/sub-08_ses-01_task-checker_run-01_eeg.json\n",
      "/projects/EEG_FMRI/bids_eeg/BIDS/NEW/DERIVATIVES/GRAD_BCG/sub-08/ses-02/eeg/sub-08_ses-02_task-checker_run-01_eeg.fif\n",
      "/projects/EEG_FMRI/bids_eeg/BIDS/NEW/DERIVATIVES/GRAD_BCG/sub-08/ses-02/eeg/sub-08_ses-02_task-checker_run-01_eeg.json\n",
      "/projects/EEG_FMRI/bids_eeg/BIDS/NEW/DERIVATIVES/GRAD_BCG/sub-02/ses-01/eeg/sub-02_ses-01_task-checker_run-01_eeg.json\n",
      "/projects/EEG_FMRI/bids_eeg/BIDS/NEW/DERIVATIVES/GRAD_BCG/sub-02/ses-01/eeg/sub-02_ses-01_task-checker_run-01_eeg.fif\n",
      "/projects/EEG_FMRI/bids_eeg/BIDS/NEW/DERIVATIVES/GRAD_BCG/sub-06/ses-02/eeg/sub-06_ses-02_task-checker_run-01_eeg.json\n",
      "/projects/EEG_FMRI/bids_eeg/BIDS/NEW/DERIVATIVES/GRAD_BCG/sub-06/ses-02/eeg/sub-06_ses-02_task-checker_run-01_eeg.fif\n",
      "/projects/EEG_FMRI/bids_eeg/BIDS/NEW/DERIVATIVES/GRAD_BCG/sub-06/ses-01/eeg/sub-06_ses-01_task-checker_run-01_eeg.fif\n",
      "/projects/EEG_FMRI/bids_eeg/BIDS/NEW/DERIVATIVES/GRAD_BCG/sub-06/ses-01/eeg/sub-06_ses-01_task-checker_run-01_eeg.json\n",
      "/projects/EEG_FMRI/bids_eeg/BIDS/NEW/DERIVATIVES/GRAD_BCG/sub-18/ses-01/eeg/sub-18_ses-01_task-checker_run-01_eeg.json\n",
      "/projects/EEG_FMRI/bids_eeg/BIDS/NEW/DERIVATIVES/GRAD_BCG/sub-18/ses-01/eeg/sub-18_ses-01_task-checker_run-01_eeg.fif\n",
      "/projects/EEG_FMRI/bids_eeg/BIDS/NEW/DERIVATIVES/GRAD_BCG/sub-12/ses-01/eeg/sub-12_ses-01_task-checker_run-01_eeg.json\n",
      "/projects/EEG_FMRI/bids_eeg/BIDS/NEW/DERIVATIVES/GRAD_BCG/sub-12/ses-01/eeg/sub-12_ses-01_task-checker_run-01_eeg.fif\n",
      "/projects/EEG_FMRI/bids_eeg/BIDS/NEW/DERIVATIVES/GRAD_BCG/sub-12/ses-02/eeg/sub-12_ses-02_task-checker_run-01_eeg.fif\n",
      "/projects/EEG_FMRI/bids_eeg/BIDS/NEW/DERIVATIVES/GRAD_BCG/sub-12/ses-02/eeg/sub-12_ses-02_task-checker_run-01_eeg.json\n",
      "/projects/EEG_FMRI/bids_eeg/BIDS/NEW/DERIVATIVES/GRAD_BCG/sub-20/ses-02/eeg/sub-20_ses-02_task-checker_run-01_eeg.fif\n",
      "/projects/EEG_FMRI/bids_eeg/BIDS/NEW/DERIVATIVES/GRAD_BCG/sub-20/ses-02/eeg/sub-20_ses-02_task-checker_run-01_eeg.json\n",
      "/projects/EEG_FMRI/bids_eeg/BIDS/NEW/DERIVATIVES/GRAD_BCG/sub-20/ses-01/eeg/sub-20_ses-01_task-checker_run-01_eeg.json\n",
      "/projects/EEG_FMRI/bids_eeg/BIDS/NEW/DERIVATIVES/GRAD_BCG/sub-20/ses-01/eeg/sub-20_ses-01_task-checker_run-01_eeg.fif\n",
      "/projects/EEG_FMRI/bids_eeg/BIDS/NEW/DERIVATIVES/GRAD_BCG/sub-01/ses-01/eeg/sub-01_ses-01_task-checker_run-01_eeg.fif\n",
      "/projects/EEG_FMRI/bids_eeg/BIDS/NEW/DERIVATIVES/GRAD_BCG/sub-01/ses-01/eeg/sub-01_ses-01_task-checker_run-01_eeg.json\n",
      "/projects/EEG_FMRI/bids_eeg/BIDS/NEW/DERIVATIVES/GRAD_BCG_ASR/sub-09/ses-01/eeg/sub-09_ses-01_task-checker_run-01_eeg.fif\n",
      "/projects/EEG_FMRI/bids_eeg/BIDS/NEW/DERIVATIVES/GRAD_BCG_ASR/sub-09/ses-01/eeg/sub-09_ses-01_task-checker_run-01_eeg.json\n",
      "/projects/EEG_FMRI/bids_eeg/BIDS/NEW/DERIVATIVES/GRAD_BCG_ASR/sub-03/ses-01/eeg/sub-03_ses-01_task-checker_run-01_eeg.json\n",
      "/projects/EEG_FMRI/bids_eeg/BIDS/NEW/DERIVATIVES/GRAD_BCG_ASR/sub-03/ses-01/eeg/sub-03_ses-01_task-checker_run-01_eeg.fif\n",
      "/projects/EEG_FMRI/bids_eeg/BIDS/NEW/DERIVATIVES/GRAD_BCG_ASR/sub-10/ses-02/eeg/sub-10_ses-02_task-checker_run-01_eeg.json\n",
      "/projects/EEG_FMRI/bids_eeg/BIDS/NEW/DERIVATIVES/GRAD_BCG_ASR/sub-10/ses-02/eeg/sub-10_ses-02_task-checker_run-01_eeg.fif\n",
      "/projects/EEG_FMRI/bids_eeg/BIDS/NEW/DERIVATIVES/GRAD_BCG_ASR/sub-10/ses-01/eeg/sub-10_ses-01_task-checker_run-01_eeg.fif\n",
      "/projects/EEG_FMRI/bids_eeg/BIDS/NEW/DERIVATIVES/GRAD_BCG_ASR/sub-10/ses-01/eeg/sub-10_ses-01_task-checker_run-01_eeg.json\n",
      "/projects/EEG_FMRI/bids_eeg/BIDS/NEW/DERIVATIVES/GRAD_BCG_ASR/sub-22/ses-02/eeg/sub-22_ses-02_task-checker_run-01_eeg.json\n",
      "/projects/EEG_FMRI/bids_eeg/BIDS/NEW/DERIVATIVES/GRAD_BCG_ASR/sub-22/ses-02/eeg/sub-22_ses-02_task-checker_run-01_eeg.fif\n",
      "/projects/EEG_FMRI/bids_eeg/BIDS/NEW/DERIVATIVES/GRAD_BCG_ASR/sub-22/ses-01/eeg/sub-22_ses-01_task-checker_run-01_eeg.json\n",
      "/projects/EEG_FMRI/bids_eeg/BIDS/NEW/DERIVATIVES/GRAD_BCG_ASR/sub-22/ses-01/eeg/sub-22_ses-01_task-checker_run-01_eeg.fif\n",
      "/projects/EEG_FMRI/bids_eeg/BIDS/NEW/DERIVATIVES/GRAD_BCG_ASR/sub-17/ses-03/eeg/sub-17_ses-03_task-checker_run-01_eeg.json\n",
      "/projects/EEG_FMRI/bids_eeg/BIDS/NEW/DERIVATIVES/GRAD_BCG_ASR/sub-17/ses-03/eeg/sub-17_ses-03_task-checker_run-01_eeg.fif\n",
      "/projects/EEG_FMRI/bids_eeg/BIDS/NEW/DERIVATIVES/GRAD_BCG_ASR/sub-17/ses-01/eeg/sub-17_ses-01_task-checker_run-01_eeg.fif\n",
      "/projects/EEG_FMRI/bids_eeg/BIDS/NEW/DERIVATIVES/GRAD_BCG_ASR/sub-17/ses-01/eeg/sub-17_ses-01_task-checker_run-01_eeg.json\n",
      "/projects/EEG_FMRI/bids_eeg/BIDS/NEW/DERIVATIVES/GRAD_BCG_ASR/sub-04/ses-01/eeg/sub-04_ses-01_task-checker_run-01_eeg.json\n",
      "/projects/EEG_FMRI/bids_eeg/BIDS/NEW/DERIVATIVES/GRAD_BCG_ASR/sub-04/ses-01/eeg/sub-04_ses-01_task-checker_run-01_eeg.fif\n",
      "/projects/EEG_FMRI/bids_eeg/BIDS/NEW/DERIVATIVES/GRAD_BCG_ASR/sub-04/ses-02/eeg/sub-04_ses-02_task-checker_run-01_eeg.json\n",
      "/projects/EEG_FMRI/bids_eeg/BIDS/NEW/DERIVATIVES/GRAD_BCG_ASR/sub-04/ses-02/eeg/sub-04_ses-02_task-checker_run-01_eeg.fif\n",
      "/projects/EEG_FMRI/bids_eeg/BIDS/NEW/DERIVATIVES/GRAD_BCG_ASR/sub-19/ses-01/eeg/sub-19_ses-01_task-checker_run-01_eeg.fif\n",
      "/projects/EEG_FMRI/bids_eeg/BIDS/NEW/DERIVATIVES/GRAD_BCG_ASR/sub-19/ses-01/eeg/sub-19_ses-01_task-checker_run-01_eeg.json\n",
      "/projects/EEG_FMRI/bids_eeg/BIDS/NEW/DERIVATIVES/GRAD_BCG_ASR/sub-19/ses-02/eeg/sub-19_ses-02_task-checker_run-01_eeg.fif\n",
      "/projects/EEG_FMRI/bids_eeg/BIDS/NEW/DERIVATIVES/GRAD_BCG_ASR/sub-19/ses-02/eeg/sub-19_ses-02_task-checker_run-01_eeg.json\n",
      "/projects/EEG_FMRI/bids_eeg/BIDS/NEW/DERIVATIVES/GRAD_BCG_ASR/sub-13/ses-01/eeg/sub-13_ses-01_task-checker_run-01_eeg.fif\n",
      "/projects/EEG_FMRI/bids_eeg/BIDS/NEW/DERIVATIVES/GRAD_BCG_ASR/sub-13/ses-01/eeg/sub-13_ses-01_task-checker_run-01_eeg.json\n",
      "/projects/EEG_FMRI/bids_eeg/BIDS/NEW/DERIVATIVES/GRAD_BCG_ASR/sub-13/ses-02/eeg/sub-13_ses-02_task-checker_run-01_eeg.json\n",
      "/projects/EEG_FMRI/bids_eeg/BIDS/NEW/DERIVATIVES/GRAD_BCG_ASR/sub-13/ses-02/eeg/sub-13_ses-02_task-checker_run-01_eeg.fif\n",
      "/projects/EEG_FMRI/bids_eeg/BIDS/NEW/DERIVATIVES/GRAD_BCG_ASR/sub-21/ses-01/eeg/sub-21_ses-01_task-checker_run-01_eeg.json\n",
      "/projects/EEG_FMRI/bids_eeg/BIDS/NEW/DERIVATIVES/GRAD_BCG_ASR/sub-21/ses-01/eeg/sub-21_ses-01_task-checker_run-01_eeg.fif\n",
      "/projects/EEG_FMRI/bids_eeg/BIDS/NEW/DERIVATIVES/GRAD_BCG_ASR/sub-21/ses-02/eeg/sub-21_ses-02_task-checker_run-01_eeg.json\n",
      "/projects/EEG_FMRI/bids_eeg/BIDS/NEW/DERIVATIVES/GRAD_BCG_ASR/sub-21/ses-02/eeg/sub-21_ses-02_task-checker_run-01_eeg.fif\n",
      "/projects/EEG_FMRI/bids_eeg/BIDS/NEW/DERIVATIVES/GRAD_BCG_ASR/sub-14/ses-02/eeg/sub-14_ses-02_task-checker_run-01_eeg.fif\n",
      "/projects/EEG_FMRI/bids_eeg/BIDS/NEW/DERIVATIVES/GRAD_BCG_ASR/sub-14/ses-02/eeg/sub-14_ses-02_task-checker_run-01_eeg.json\n",
      "/projects/EEG_FMRI/bids_eeg/BIDS/NEW/DERIVATIVES/GRAD_BCG_ASR/sub-07/ses-02/eeg/sub-07_ses-02_task-checker_run-01_eeg.fif\n",
      "/projects/EEG_FMRI/bids_eeg/BIDS/NEW/DERIVATIVES/GRAD_BCG_ASR/sub-07/ses-02/eeg/sub-07_ses-02_task-checker_run-01_eeg.json\n",
      "/projects/EEG_FMRI/bids_eeg/BIDS/NEW/DERIVATIVES/GRAD_BCG_ASR/sub-07/ses-01/eeg/sub-07_ses-01_task-checker_run-01_eeg.fif\n",
      "/projects/EEG_FMRI/bids_eeg/BIDS/NEW/DERIVATIVES/GRAD_BCG_ASR/sub-07/ses-01/eeg/sub-07_ses-01_task-checker_run-01_eeg.json\n",
      "/projects/EEG_FMRI/bids_eeg/BIDS/NEW/DERIVATIVES/GRAD_BCG_ASR/sub-05/ses-01/eeg/sub-05_ses-01_task-checker_run-01_eeg.json\n",
      "/projects/EEG_FMRI/bids_eeg/BIDS/NEW/DERIVATIVES/GRAD_BCG_ASR/sub-05/ses-01/eeg/sub-05_ses-01_task-checker_run-01_eeg.fif\n",
      "/projects/EEG_FMRI/bids_eeg/BIDS/NEW/DERIVATIVES/GRAD_BCG_ASR/sub-05/ses-02/eeg/sub-05_ses-02_task-checker_run-01_eeg.json\n",
      "/projects/EEG_FMRI/bids_eeg/BIDS/NEW/DERIVATIVES/GRAD_BCG_ASR/sub-05/ses-02/eeg/sub-05_ses-02_task-checker_run-01_eeg.fif\n",
      "/projects/EEG_FMRI/bids_eeg/BIDS/NEW/DERIVATIVES/GRAD_BCG_ASR/sub-16/ses-02/eeg/sub-16_ses-02_task-checker_run-01_eeg.fif\n",
      "/projects/EEG_FMRI/bids_eeg/BIDS/NEW/DERIVATIVES/GRAD_BCG_ASR/sub-16/ses-02/eeg/sub-16_ses-02_task-checker_run-01_eeg.json\n",
      "/projects/EEG_FMRI/bids_eeg/BIDS/NEW/DERIVATIVES/GRAD_BCG_ASR/sub-11/ses-02/eeg/sub-11_ses-02_task-checker_run-01_eeg.json\n",
      "/projects/EEG_FMRI/bids_eeg/BIDS/NEW/DERIVATIVES/GRAD_BCG_ASR/sub-11/ses-02/eeg/sub-11_ses-02_task-checker_run-01_eeg.fif\n",
      "/projects/EEG_FMRI/bids_eeg/BIDS/NEW/DERIVATIVES/GRAD_BCG_ASR/sub-11/ses-01/eeg/sub-11_ses-01_task-checker_run-01_eeg.json\n",
      "/projects/EEG_FMRI/bids_eeg/BIDS/NEW/DERIVATIVES/GRAD_BCG_ASR/sub-11/ses-01/eeg/sub-11_ses-01_task-checker_run-01_eeg.fif\n",
      "/projects/EEG_FMRI/bids_eeg/BIDS/NEW/DERIVATIVES/GRAD_BCG_ASR/sub-02/ses-01/eeg/sub-02_ses-01_task-checker_run-01_eeg.fif\n",
      "/projects/EEG_FMRI/bids_eeg/BIDS/NEW/DERIVATIVES/GRAD_BCG_ASR/sub-02/ses-01/eeg/sub-02_ses-01_task-checker_run-01_eeg.json\n",
      "/projects/EEG_FMRI/bids_eeg/BIDS/NEW/DERIVATIVES/GRAD_BCG_ASR/sub-08/ses-02/eeg/sub-08_ses-02_task-checker_run-01_eeg.fif\n",
      "/projects/EEG_FMRI/bids_eeg/BIDS/NEW/DERIVATIVES/GRAD_BCG_ASR/sub-08/ses-02/eeg/sub-08_ses-02_task-checker_run-01_eeg.json\n",
      "/projects/EEG_FMRI/bids_eeg/BIDS/NEW/DERIVATIVES/GRAD_BCG_ASR/sub-08/ses-01/eeg/sub-08_ses-01_task-checker_run-01_eeg.fif\n",
      "/projects/EEG_FMRI/bids_eeg/BIDS/NEW/DERIVATIVES/GRAD_BCG_ASR/sub-08/ses-01/eeg/sub-08_ses-01_task-checker_run-01_eeg.json\n",
      "/projects/EEG_FMRI/bids_eeg/BIDS/NEW/DERIVATIVES/GRAD_BCG_ASR/sub-06/ses-02/eeg/sub-06_ses-02_task-checker_run-01_eeg.fif\n",
      "/projects/EEG_FMRI/bids_eeg/BIDS/NEW/DERIVATIVES/GRAD_BCG_ASR/sub-06/ses-02/eeg/sub-06_ses-02_task-checker_run-01_eeg.json\n",
      "/projects/EEG_FMRI/bids_eeg/BIDS/NEW/DERIVATIVES/GRAD_BCG_ASR/sub-06/ses-01/eeg/sub-06_ses-01_task-checker_run-01_eeg.fif\n",
      "/projects/EEG_FMRI/bids_eeg/BIDS/NEW/DERIVATIVES/GRAD_BCG_ASR/sub-06/ses-01/eeg/sub-06_ses-01_task-checker_run-01_eeg.json\n",
      "/projects/EEG_FMRI/bids_eeg/BIDS/NEW/DERIVATIVES/GRAD_BCG_ASR/sub-12/ses-02/eeg/sub-12_ses-02_task-checker_run-01_eeg.fif\n",
      "/projects/EEG_FMRI/bids_eeg/BIDS/NEW/DERIVATIVES/GRAD_BCG_ASR/sub-12/ses-02/eeg/sub-12_ses-02_task-checker_run-01_eeg.json\n",
      "/projects/EEG_FMRI/bids_eeg/BIDS/NEW/DERIVATIVES/GRAD_BCG_ASR/sub-12/ses-01/eeg/sub-12_ses-01_task-checker_run-01_eeg.json\n",
      "/projects/EEG_FMRI/bids_eeg/BIDS/NEW/DERIVATIVES/GRAD_BCG_ASR/sub-12/ses-01/eeg/sub-12_ses-01_task-checker_run-01_eeg.fif\n",
      "/projects/EEG_FMRI/bids_eeg/BIDS/NEW/DERIVATIVES/GRAD_BCG_ASR/sub-18/ses-01/eeg/sub-18_ses-01_task-checker_run-01_eeg.fif\n",
      "/projects/EEG_FMRI/bids_eeg/BIDS/NEW/DERIVATIVES/GRAD_BCG_ASR/sub-18/ses-01/eeg/sub-18_ses-01_task-checker_run-01_eeg.json\n",
      "/projects/EEG_FMRI/bids_eeg/BIDS/NEW/DERIVATIVES/GRAD_BCG_ASR/sub-20/ses-02/eeg/sub-20_ses-02_task-checker_run-01_eeg.json\n",
      "/projects/EEG_FMRI/bids_eeg/BIDS/NEW/DERIVATIVES/GRAD_BCG_ASR/sub-20/ses-02/eeg/sub-20_ses-02_task-checker_run-01_eeg.fif\n",
      "/projects/EEG_FMRI/bids_eeg/BIDS/NEW/DERIVATIVES/GRAD_BCG_ASR/sub-20/ses-01/eeg/sub-20_ses-01_task-checker_run-01_eeg.json\n",
      "/projects/EEG_FMRI/bids_eeg/BIDS/NEW/DERIVATIVES/GRAD_BCG_ASR/sub-20/ses-01/eeg/sub-20_ses-01_task-checker_run-01_eeg.fif\n",
      "/projects/EEG_FMRI/bids_eeg/BIDS/NEW/DERIVATIVES/GRAD_BCG_ASR/sub-01/ses-01/eeg/sub-01_ses-01_task-checker_run-01_eeg.fif\n",
      "/projects/EEG_FMRI/bids_eeg/BIDS/NEW/DERIVATIVES/GRAD_BCG_ASR/sub-01/ses-01/eeg/sub-01_ses-01_task-checker_run-01_eeg.json\n"
     ]
    }
   ],
   "source": [
    "path = Path('/projects/EEG_FMRI/bids_eeg/BIDS/NEW/DERIVATIVES')\n",
    "folders = ['BCG',\n",
    "         'BCG_ASR',\n",
    "         'GRAD_BCG',\n",
    "         'GRAD_BCG_ASR']\n",
    "for folder in folders:\n",
    "    child_path = path / folder\n",
    "    for child_child_path in child_path.iterdir():\n",
    "        for child_child_child_path in child_child_path.iterdir():\n",
    "            eeg_path = child_child_child_path / 'eeg'\n",
    "            for file in eeg_path.iterdir():\n",
    "                "
>>>>>>> bc2bdf7 (implement the run)
   ]
  },
  {
   "cell_type": "code",
<<<<<<< HEAD
   "execution_count": 6,
   "metadata": {},
   "outputs": [
    {
     "data": {
      "text/plain": [
       "array([[-22.98352321, -27.10517129, -35.59426835, ..., -25.34505605,\n",
       "        -21.25414635, -20.51806067],\n",
       "       [-19.28115919, -23.5254657 , -46.43314079, ..., -26.86324623,\n",
       "        -31.57708001, -20.60027925],\n",
       "       [-23.16089658, -24.22634158, -25.07237689, ..., -22.29065066,\n",
       "        -22.40135912, -23.68710612],\n",
       "       ...,\n",
       "       [-43.95497546, -39.84014641, -34.83965312, ..., -29.39205676,\n",
       "        -27.6462975 , -33.50630939],\n",
       "       [-24.07886742, -23.38500647, -22.98640608, ..., -24.01809707,\n",
       "        -23.93402569, -23.70598747],\n",
       "       [-19.86760347, -19.65500333, -19.75568785, ..., -21.89088517,\n",
       "        -20.91561811, -20.00069884]])"
      ]
     },
     "execution_count": 6,
     "metadata": {},
     "output_type": "execute_result"
    }
   ],
   "source": [
    "metrics.snr_epochs"
=======
   "execution_count": 12,
   "metadata": {},
   "outputs": [
    {
     "name": "stdout",
     "output_type": "stream",
     "text": [
      "Opening raw data file /projects/EEG_FMRI/bids_eeg/BIDS/NEW/DERIVATIVES/BCG/sub-22/ses-02/eeg/sub-22_ses-02_task-checkeroff_run-01_eeg.fif...\n",
      "    Read a total of 4 projection items:\n",
      "        eeg-Raw-0.000-243.860-PCA-01 (1 x 62) active\n",
      "        eeg-Raw-0.000-243.860-PCA-02 (1 x 62) active\n",
      "        ECG-eeg--0.200-0.400-PCA-01 (1 x 62)  idle\n",
      "        ECG-eeg--0.200-0.400-PCA-02 (1 x 62)  idle\n",
      "    Range : 0 ... 60964 =      0.000 ...   243.856 secs\n",
      "Ready.\n",
      "Reading 0 ... 60964  =      0.000 ...   243.856 secs...\n"
     ]
    },
    {
     "ename": "AttributeError",
     "evalue": "module 'signal_metrics' has no attribute 'compute_time_metrics'",
     "output_type": "error",
     "traceback": [
      "\u001b[0;31m---------------------------------------------------------------------------\u001b[0m",
      "\u001b[0;31mAttributeError\u001b[0m                            Traceback (most recent call last)",
      "Cell \u001b[0;32mIn[12], line 2\u001b[0m\n\u001b[1;32m      1\u001b[0m raw \u001b[38;5;241m=\u001b[39m mne\u001b[38;5;241m.\u001b[39mio\u001b[38;5;241m.\u001b[39mread_raw_fif(\u001b[38;5;124m'\u001b[39m\u001b[38;5;124m/projects/EEG_FMRI/bids_eeg/BIDS/NEW/DERIVATIVES/BCG/sub-22/ses-02/eeg/sub-22_ses-02_task-checkeroff_run-01_eeg.fif\u001b[39m\u001b[38;5;124m'\u001b[39m, preload\u001b[38;5;241m=\u001b[39m\u001b[38;5;28;01mTrue\u001b[39;00m)\n\u001b[0;32m----> 2\u001b[0m metrics \u001b[38;5;241m=\u001b[39m \u001b[43msignal_metrics\u001b[49m\u001b[38;5;241;43m.\u001b[39;49m\u001b[43mcompute_time_metrics\u001b[49m(raw)\n",
      "\u001b[0;31mAttributeError\u001b[0m: module 'signal_metrics' has no attribute 'compute_time_metrics'"
     ]
    }
   ],
   "source": [
    "raw = mne.io.read_raw_fif('/projects/EEG_FMRI/bids_eeg/BIDS/NEW/DERIVATIVES/BCG/sub-22/ses-02/eeg/sub-22_ses-02_task-checkeroff_run-01_eeg.fif', preload=True)\n",
    "metrics = signal_metrics.compute_time_metrics(raw)"
>>>>>>> bc2bdf7 (implement the run)
   ]
  },
  {
   "cell_type": "code",
   "execution_count": null,
   "metadata": {},
   "outputs": [],
   "source": []
  }
 ],
 "metadata": {
  "kernelspec": {
<<<<<<< HEAD
   "display_name": "mne",
=======
   "display_name": "Python 3",
>>>>>>> bc2bdf7 (implement the run)
   "language": "python",
   "name": "python3"
  },
  "language_info": {
   "codemirror_mode": {
    "name": "ipython",
    "version": 3
   },
   "file_extension": ".py",
   "mimetype": "text/x-python",
   "name": "python",
   "nbconvert_exporter": "python",
   "pygments_lexer": "ipython3",
<<<<<<< HEAD
   "version": "3.11.7"
=======
   "version": "3.12.2"
>>>>>>> bc2bdf7 (implement the run)
  }
 },
 "nbformat": 4,
 "nbformat_minor": 2
}
