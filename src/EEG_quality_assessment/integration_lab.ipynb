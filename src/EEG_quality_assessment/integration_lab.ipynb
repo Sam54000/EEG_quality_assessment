{
 "cells": [
  {
   "cell_type": "code",
   "execution_count": 1,
   "metadata": {},
   "outputs": [],
   "source": [
    "import mne\n",
    "import signal_metrics\n",
    "from pathlib import Path\n",
    "import bids\n",
    "import pickle\n",
    "from eeg_fmri_cleaning import GradientRemover\n",
    "import numpy as np\n",
    "import os\n",
    "import eeg_fmri_cleaning.main as cleaner"
   ]
  },
  {
   "cell_type": "code",
   "execution_count": 2,
   "metadata": {},
   "outputs": [],
   "source": [
    "%%capture\n",
    "def mne_metrics(filename, saving_pathname, folder = None):\n",
    "    filename_entities = bids.layout.parse_file_entities(filename.name)\n",
    "\n",
    "    if os.path.splitext(filename)[1] == '.set':\n",
    "        raw = mne.io.read_raw_eeglab(filename, preload=True)\n",
    "        channel_map = cleaner.map_channel_type(raw)\n",
    "        raw = cleaner.set_channel_types(raw, channel_map)\n",
    "    elif os.path.splitext(filename)[1] == '.fif':\n",
    "        raw = mne.io.read_raw_fif(filename, preload=True)\n",
    "        \n",
    "    if filename_entities['task'] == 'checkeron':\n",
    "        trigger_name = GradientRemover.extract_gradient_trigger_name(raw)\n",
    "        annotations = raw.annotations\n",
    "        index_grad_trigger = np.where(annotations.description == trigger_name)\n",
    "        third_grad_trigger = annotations.onset[index_grad_trigger[0][1]]\n",
    "        last_grad_trigger = annotations.onset[index_grad_trigger[0][-1]]\n",
    "        \n",
    "        raw.crop(tmin=third_grad_trigger, tmax=last_grad_trigger)\n",
    "    \n",
    "        raw_time_metrics = signal_metrics.SignalMetrics(raw)\n",
    "        raw_time_metrics.calculate_time_metrics()\n",
    "\n",
    "        noise_freq_tagging = signal_metrics.SignalMetrics(raw)\n",
    "        noise_freq_tagging.calculate_frequency_metrics(frequency_range=(17,20),\n",
    "                                                                    frequency_type=\"noise\")\n",
    "        ssvep_freq_tagging = signal_metrics.SignalMetrics(raw)\n",
    "        ssvep_freq_tagging.calculate_frequency_metrics(frequency_range=(11,13),\n",
    "                                                                    frequency_type=\"signal\")\n",
    "        try:\n",
    "            ecg_epochs = mne.preprocessing.create_ecg_epochs(raw)\n",
    "            epochs_ecg_metrics = signal_metrics.SignalMetrics(ecg_epochs)\n",
    "            epochs_ecg_metrics.calculate_time_metrics()\n",
    "        except:\n",
    "            pass\n",
    "        \n",
    "        \n",
    "        filename_path = Path(filename)\n",
    "        base_filename =  os.path.splitext(filename_path)[0]\n",
    "        \n",
    "        for metric_object, metric_object_name in zip([raw_time_metrics, \n",
    "                                                    noise_freq_tagging, \n",
    "                                                    ssvep_freq_tagging], \n",
    "                                                    #epochs_ecg_metrics], \n",
    "                                                    ['raw_time_metrics', \n",
    "                                                    'noise_freq_tagging', \n",
    "                                                    'ssvep_freq_tagging',] \n",
    "                                                    ):\n",
    "\n",
    "            saving_filename = \"_\".join([os.path.splitext(filename_path.name)[0],\n",
    "                                        #folder,\n",
    "                                    metric_object_name + '.pkl'])\n",
    "            saving_full_filename = \"/\".join([saving_pathname,saving_filename])\n",
    "            with open(saving_full_filename, 'wb') as f:\n",
    "                pickle.dump(metric_object, f)\n",
    "            print(f'{saving_full_filename} saved')\n",
    "\n",
    "\n"
   ]
  },
  {
   "cell_type": "markdown",
   "metadata": {},
   "source": [
    "# CBIN-method metrics"
   ]
  },
  {
   "cell_type": "code",
   "execution_count": 3,
   "metadata": {},
   "outputs": [],
   "source": [
    "%%capture\n",
    "path = Path('/projects/EEG_FMRI/bids_eeg/BIDS/NEW/DERIVATIVES')\n",
    "folders = ['GRAD_BCG',\n",
    "         'GRAD_BCG_ASR']\n",
    "errors = {}\n",
    "for folder in folders:\n",
    "    child_path = path / folder\n",
    "    for child_child_path in child_path.iterdir():\n",
    "        for child_child_child_path in child_child_path.iterdir():\n",
    "            eeg_path = child_child_child_path / 'eeg'\n",
    "            for file in eeg_path.iterdir():\n",
    "                if os.path.splitext(file)[1] == '.fif':\n",
    "                    mne_metrics(file, path/'metrics', folder = folder)"
   ]
  },
  {
   "cell_type": "markdown",
   "metadata": {},
   "source": [
    "# Brainvision metrics"
   ]
  },
  {
   "cell_type": "code",
   "execution_count": 4,
   "metadata": {},
   "outputs": [],
   "source": [
    "%%capture\n",
    "path = Path('/projects/EEG_FMRI/bids_eeg/BIDS/NEW/PREP_EEGLAB_2024/')\n",
    "errors = {}\n",
    "for file in path.iterdir():\n",
    "    if os.path.splitext(file)[1] == '.set':\n",
    "        filename_entities = bids.layout.parse_file_entities(file.name)\n",
    "        if 'checker' in filename_entities['task']:\n",
    "            try:\n",
    "                mne_metrics(file)\n",
    "            except Exception as e:\n",
    "                errors[file] = e\n",
    "                print(f'Error in {file}: {e}')\n",
    "                continue"
   ]
  },
  {
   "cell_type": "markdown",
   "metadata": {},
   "source": [
    "# EEGLAB metrics"
   ]
  },
  {
   "cell_type": "code",
   "execution_count": 3,
   "metadata": {},
   "outputs": [
    {
     "ename": "NotADirectoryError",
     "evalue": "[Errno 20] Not a directory: '/projects/EEG_FMRI/bids_eeg/BIDS/NEW/PREP_EEGLAB_2024/participants.tsv'",
     "output_type": "error",
     "traceback": [
      "\u001b[0;31m---------------------------------------------------------------------------\u001b[0m",
      "\u001b[0;31mNotADirectoryError\u001b[0m                        Traceback (most recent call last)",
      "Cell \u001b[0;32mIn[3], line 5\u001b[0m\n\u001b[1;32m      3\u001b[0m errors \u001b[38;5;241m=\u001b[39m {}\n\u001b[1;32m      4\u001b[0m \u001b[38;5;28;01mfor\u001b[39;00m child_child_path \u001b[38;5;129;01min\u001b[39;00m path\u001b[38;5;241m.\u001b[39miterdir():\n\u001b[0;32m----> 5\u001b[0m \u001b[43m    \u001b[49m\u001b[38;5;28;43;01mfor\u001b[39;49;00m\u001b[43m \u001b[49m\u001b[43mchild_child_child_path\u001b[49m\u001b[43m \u001b[49m\u001b[38;5;129;43;01min\u001b[39;49;00m\u001b[43m \u001b[49m\u001b[43mchild_child_path\u001b[49m\u001b[38;5;241;43m.\u001b[39;49m\u001b[43miterdir\u001b[49m\u001b[43m(\u001b[49m\u001b[43m)\u001b[49m\u001b[43m:\u001b[49m\n\u001b[1;32m      6\u001b[0m \u001b[43m        \u001b[49m\u001b[43meeg_path\u001b[49m\u001b[43m \u001b[49m\u001b[38;5;241;43m=\u001b[39;49m\u001b[43m \u001b[49m\u001b[43mchild_child_child_path\u001b[49m\u001b[43m \u001b[49m\u001b[38;5;241;43m/\u001b[39;49m\u001b[43m \u001b[49m\u001b[38;5;124;43m'\u001b[39;49m\u001b[38;5;124;43meeg\u001b[39;49m\u001b[38;5;124;43m'\u001b[39;49m\n\u001b[1;32m      7\u001b[0m \u001b[43m        \u001b[49m\u001b[38;5;28;43;01mfor\u001b[39;49;00m\u001b[43m \u001b[49m\u001b[43mfile\u001b[49m\u001b[43m \u001b[49m\u001b[38;5;129;43;01min\u001b[39;49;00m\u001b[43m \u001b[49m\u001b[43meeg_path\u001b[49m\u001b[38;5;241;43m.\u001b[39;49m\u001b[43miterdir\u001b[49m\u001b[43m(\u001b[49m\u001b[43m)\u001b[49m\u001b[43m:\u001b[49m\n",
      "File \u001b[0;32m~/miniconda3/envs/mne/lib/python3.12/pathlib.py:1056\u001b[0m, in \u001b[0;36mPath.iterdir\u001b[0;34m(self)\u001b[0m\n\u001b[1;32m   1050\u001b[0m \u001b[38;5;28;01mdef\u001b[39;00m \u001b[38;5;21miterdir\u001b[39m(\u001b[38;5;28mself\u001b[39m):\n\u001b[1;32m   1051\u001b[0m \u001b[38;5;250m    \u001b[39m\u001b[38;5;124;03m\"\"\"Yield path objects of the directory contents.\u001b[39;00m\n\u001b[1;32m   1052\u001b[0m \n\u001b[1;32m   1053\u001b[0m \u001b[38;5;124;03m    The children are yielded in arbitrary order, and the\u001b[39;00m\n\u001b[1;32m   1054\u001b[0m \u001b[38;5;124;03m    special entries '.' and '..' are not included.\u001b[39;00m\n\u001b[1;32m   1055\u001b[0m \u001b[38;5;124;03m    \"\"\"\u001b[39;00m\n\u001b[0;32m-> 1056\u001b[0m     \u001b[38;5;28;01mfor\u001b[39;00m name \u001b[38;5;129;01min\u001b[39;00m \u001b[43mos\u001b[49m\u001b[38;5;241;43m.\u001b[39;49m\u001b[43mlistdir\u001b[49m\u001b[43m(\u001b[49m\u001b[38;5;28;43mself\u001b[39;49m\u001b[43m)\u001b[49m:\n\u001b[1;32m   1057\u001b[0m         \u001b[38;5;28;01myield\u001b[39;00m \u001b[38;5;28mself\u001b[39m\u001b[38;5;241m.\u001b[39m_make_child_relpath(name)\n",
      "\u001b[0;31mNotADirectoryError\u001b[0m: [Errno 20] Not a directory: '/projects/EEG_FMRI/bids_eeg/BIDS/NEW/PREP_EEGLAB_2024/participants.tsv'"
     ]
    }
   ],
   "source": [
    "%%capture\n",
    "path = Path('/projects/EEG_FMRI/bids_eeg/BIDS/NEW/PREP_EEGLAB_2024')\n",
    "saving_pathname = Path('/projects/EEG_FMRI/bids_eeg/BIDS/NEW/DERIVATIVES/metrics_eeglab_method')\n",
    "errors = {}\n",
    "for child_child_path in path.iterdir():\n",
    "    for child_child_child_path in child_child_path.iterdir():\n",
    "        eeg_path = child_child_child_path / 'eeg'\n",
    "        for file in eeg_path.iterdir():\n",
    "            if os.path.splitext(file)[1] == '.set':\n",
    "                try:\n",
    "                    print(file)\n",
    "                    mne_metrics(file, str(saving_pathname))\n",
    "                except Exception as e:\n",
    "                    errors[file] = e\n",
    "                    print(f'Error in {file}: {e}')\n",
    "                    continue"
   ]
  },
  {
   "cell_type": "code",
   "execution_count": 4,
   "metadata": {},
   "outputs": [
    {
     "data": {
      "text/plain": [
       "{}"
      ]
     },
     "execution_count": 4,
     "metadata": {},
     "output_type": "execute_result"
    }
   ],
   "source": [
    "errors"
   ]
  },
  {
   "cell_type": "markdown",
   "metadata": {},
   "source": [
    "# Errors while reading eeglab files"
   ]
  },
  {
   "cell_type": "code",
   "execution_count": 5,
   "metadata": {},
   "outputs": [
    {
     "data": {
      "text/plain": [
       "{PosixPath('/projects/EEG_FMRI/bids_eeg/BIDS/NEW/PREP_BV_2024/sub-15_ses-02_task-checker_run-01_eeg-edf.set'): RuntimeError('Incorrect number of samples (958464 != 8608000), please report this error to MNE-Python developers'),\n",
       " PosixPath('/projects/EEG_FMRI/bids_eeg/BIDS/NEW/PREP_BV_2024/sub-15_ses-01_task-checker_run-01_eeg-edf.set'): RuntimeError('Incorrect number of samples (524288 != 3760000), please report this error to MNE-Python developers'),\n",
       " PosixPath('/projects/EEG_FMRI/bids_eeg/BIDS/NEW/PREP_BV_2024/sub-03_ses-01_task-checker_run-01_eeg-edf_2.set'): RuntimeError('Incorrect number of samples (3162112 != 3840000), please report this error to MNE-Python developers'),\n",
       " PosixPath('/projects/EEG_FMRI/bids_eeg/BIDS/NEW/PREP_BV_2024/sub-14_ses-01_task-checker_run-01_eeg-edf.set'): RuntimeError('Incorrect number of samples (393216 != 4480000), please report this error to MNE-Python developers'),\n",
       " PosixPath('/projects/EEG_FMRI/bids_eeg/BIDS/NEW/PREP_BV_2024/sub-14_ses-02_task-checker_run-01_eeg-edf.set'): OSError('could not read bytes'),\n",
       " PosixPath('/projects/EEG_FMRI/bids_eeg/BIDS/NEW/PREP_BV_2024/sub-01_ses-01_task-checker_run-01_eeg-edf_2.set'): RuntimeError('Incorrect number of samples (3235840 != 3872000), please report this error to MNE-Python developers'),\n",
       " PosixPath('/projects/EEG_FMRI/bids_eeg/BIDS/NEW/PREP_BV_2024/sub-21_ses-01_task-checker_run-01_eeg-edf.set'): OSError('could not read bytes'),\n",
       " PosixPath('/projects/EEG_FMRI/bids_eeg/BIDS/NEW/PREP_BV_2024/sub-13_ses-02_task-checker_run-01_eeg-edf.set'): RuntimeError('Incorrect number of samples (1056768 != 3760000), please report this error to MNE-Python developers')}"
      ]
     },
     "execution_count": 5,
     "metadata": {},
     "output_type": "execute_result"
    }
   ],
   "source": [
    "errors"
   ]
  },
  {
   "cell_type": "markdown",
   "metadata": {},
   "source": [
    "# Time domain metrics"
   ]
  },
  {
   "cell_type": "code",
   "execution_count": 14,
   "metadata": {},
   "outputs": [],
   "source": [
    "path_brainvision = Path('/projects/EEG_FMRI/bids_eeg/BIDS/NEW/DERIVATIVES/metrics_bv_method')\n",
    "path_sam = Path('/projects/EEG_FMRI/bids_eeg/BIDS/NEW/DERIVATIVES/metrics_cbin_method')\n",
    "path_sam_asr = Path('/projects/EEG_FMRI/bids_eeg/BIDS/NEW/DERIVATIVES/metrics_cbin_method')\n",
    "eeglab_path = Path('/projects/EEG_FMRI/bids_eeg/BIDS/NEW/DERIVATIVES/metrics_eeglab_method')\n",
    "\n",
    "metrics = [\n",
    "    'average_rms',\n",
    "    'max_gradient',\n",
    "    'zero_crossing_rate',\n",
    "    'hjorth_mobility',\n",
    "    'hjorth_complexity',\n",
    "    'kurtosis',\n",
    "    'skewness',\n",
    "    'variance',\n",
    "    'signal_range',\n",
    "    'signal_iqr',\n",
    "    ]\n",
    "\n",
    "brainvision_metrics_dict = {\n",
    "    metric: list() for metric in metrics\n",
    "}\n",
    "\n",
    "eeglab_metrics_dict = {\n",
    "    metric: list() for metric in metrics\n",
    "}\n",
    "\n",
    "sam_metrics_dict = {\n",
    "    metric: list() for metric in metrics\n",
    "}\n",
    "\n",
    "sam_asr_metrics_dict = {\n",
    "    metric: list() for metric in metrics\n",
    "}\n",
    "error_log = dict()\n",
    "subject_treated = list()\n",
    "\n",
    "for file in path_brainvision.iterdir():\n",
    "    if 'raw_time_metrics' not in file.name:\n",
    "        continue\n",
    "    subject = file.name[:6]\n",
    "    file_brainvision = subject\n",
    "    file_sam = subject + '_ses-01_task-checker_run-01_eeg_GRAD_BCG_raw_time_metrics.pkl'\n",
    "    file_sam_asr = subject + '_ses-01_task-checker_run-01_eeg_GRAD_BCG_ASR_raw_time_metrics.pkl'\n",
    "    file_eeglab = subject + '_ses-01_task-checkeron_run-01_eeg_raw_time_metrics.pkl'\n",
    "\n",
    "    full_file_sam = path_sam / file_sam\n",
    "    full_file_sam_asr = path_sam / file_sam_asr\n",
    "    full_file_eeglab = eeglab_path / file_eeglab\n",
    "    \n",
    "    try:\n",
    "        subject_treated.append(subject)\n",
    "        #brain vision metrics\n",
    "        process = 'brain_vision'\n",
    "        file_process = file\n",
    "        with open(file, 'rb') as f:\n",
    "            brainvision_metrics = pickle.load(f)\n",
    "            for metric in metrics:\n",
    "                brainvision_metrics_dict[metric].append(getattr(brainvision_metrics,metric).flatten())\n",
    "        process = 'eeglab'\n",
    "        file_process = file_eeglab\n",
    "        with open(full_file_eeglab, 'rb') as f:\n",
    "            eeglab_metrics = pickle.load(f)\n",
    "            for metric in metrics:\n",
    "                eeglab_metrics_dict[metric].append(getattr(eeglab_metrics,metric).flatten())\n",
    "        process = 'sam'\n",
    "        file_process = full_file_sam\n",
    "        #sam metrics\n",
    "        with open(full_file_sam, 'rb') as f:\n",
    "            sam_metrics = pickle.load(f)\n",
    "            for metric in metrics:\n",
    "                sam_metrics_dict[metric].append(getattr(sam_metrics,metric).flatten())\n",
    "        process = 'sam_asr'\n",
    "        file_process = full_file_sam_asr\n",
    "        #sam asr metrics\n",
    "        with open(full_file_sam_asr, 'rb') as f:\n",
    "            sam_asr_metrics = pickle.load(f)\n",
    "            for metric in metrics:\n",
    "                sam_asr_metrics_dict[metric].append(getattr(sam_asr_metrics,metric).flatten())\n",
    "        \n",
    "        process = 'done'\n",
    "    except Exception as e:\n",
    "        error_log[subject] = f\"{e} in {process} with file {file_process}\"\n",
    "\n",
    "for metric in metrics:\n",
    "    brainvision_metrics_dict[metric] = np.concatenate(brainvision_metrics_dict[metric])\n",
    "    sam_metrics_dict[metric] = np.concatenate(sam_metrics_dict[metric])\n",
    "    sam_asr_metrics_dict[metric] = np.concatenate(sam_asr_metrics_dict[metric])\n",
    "    eeglab_metrics_dict[metric] = np.concatenate(eeglab_metrics_dict[metric])"
   ]
  },
  {
   "cell_type": "code",
   "execution_count": 15,
   "metadata": {},
   "outputs": [
    {
     "data": {
      "text/plain": [
       "{'sub-12': \"[Errno 2] No such file or directory: '/projects/EEG_FMRI/bids_eeg/BIDS/NEW/DERIVATIVES/metrics_eeglab_method/sub-12_ses-01_task-checkeron_run-01_eeg_raw_time_metrics.pkl' in eeglab with file sub-12_ses-01_task-checkeron_run-01_eeg_raw_time_metrics.pkl\",\n",
       " 'sub-08': \"[Errno 2] No such file or directory: '/projects/EEG_FMRI/bids_eeg/BIDS/NEW/DERIVATIVES/metrics_eeglab_method/sub-08_ses-01_task-checkeron_run-01_eeg_raw_time_metrics.pkl' in eeglab with file sub-08_ses-01_task-checkeron_run-01_eeg_raw_time_metrics.pkl\",\n",
       " 'sub-02': \"[Errno 2] No such file or directory: '/projects/EEG_FMRI/bids_eeg/BIDS/NEW/DERIVATIVES/metrics_eeglab_method/sub-02_ses-01_task-checkeron_run-01_eeg_raw_time_metrics.pkl' in eeglab with file sub-02_ses-01_task-checkeron_run-01_eeg_raw_time_metrics.pkl\",\n",
       " 'sub-20': \"[Errno 2] No such file or directory: '/projects/EEG_FMRI/bids_eeg/BIDS/NEW/DERIVATIVES/metrics_eeglab_method/sub-20_ses-01_task-checkeron_run-01_eeg_raw_time_metrics.pkl' in eeglab with file sub-20_ses-01_task-checkeron_run-01_eeg_raw_time_metrics.pkl\",\n",
       " 'sub-05': \"[Errno 2] No such file or directory: '/projects/EEG_FMRI/bids_eeg/BIDS/NEW/DERIVATIVES/metrics_eeglab_method/sub-05_ses-01_task-checkeron_run-01_eeg_raw_time_metrics.pkl' in eeglab with file sub-05_ses-01_task-checkeron_run-01_eeg_raw_time_metrics.pkl\",\n",
       " 'sub-11': \"[Errno 2] No such file or directory: '/projects/EEG_FMRI/bids_eeg/BIDS/NEW/DERIVATIVES/metrics_eeglab_method/sub-11_ses-01_task-checkeron_run-01_eeg_raw_time_metrics.pkl' in eeglab with file sub-11_ses-01_task-checkeron_run-01_eeg_raw_time_metrics.pkl\",\n",
       " 'sub-16': \"[Errno 2] No such file or directory: '/projects/EEG_FMRI/bids_eeg/BIDS/NEW/DERIVATIVES/metrics_eeglab_method/sub-16_ses-01_task-checkeron_run-01_eeg_raw_time_metrics.pkl' in eeglab with file sub-16_ses-01_task-checkeron_run-01_eeg_raw_time_metrics.pkl\",\n",
       " 'sub-06': \"[Errno 2] No such file or directory: '/projects/EEG_FMRI/bids_eeg/BIDS/NEW/DERIVATIVES/metrics_eeglab_method/sub-06_ses-01_task-checkeron_run-01_eeg_raw_time_metrics.pkl' in eeglab with file sub-06_ses-01_task-checkeron_run-01_eeg_raw_time_metrics.pkl\",\n",
       " 'sub-18': \"[Errno 2] No such file or directory: '/projects/EEG_FMRI/bids_eeg/BIDS/NEW/DERIVATIVES/metrics_eeglab_method/sub-18_ses-01_task-checkeron_run-01_eeg_raw_time_metrics.pkl' in eeglab with file sub-18_ses-01_task-checkeron_run-01_eeg_raw_time_metrics.pkl\"}"
      ]
     },
     "execution_count": 15,
     "metadata": {},
     "output_type": "execute_result"
    }
   ],
   "source": [
    "error_log"
   ]
  },
  {
   "cell_type": "code",
   "execution_count": 18,
   "metadata": {},
   "outputs": [],
   "source": [
    "import seaborn\n",
    "import matplotlib.pyplot as plt\n",
    "def plot_time_metrics(brainvision_metrics_dict,\n",
    "                      sam_metrics_dict,\n",
    "                      sam_asr_metrics_dict,\n",
    "                      eeglab_metrics_dict):\n",
    "    metrics = [\n",
    "        'average_rms',\n",
    "        'max_gradient',\n",
    "        'hjorth_mobility',\n",
    "        'hjorth_complexity',\n",
    "        'kurtosis',\n",
    "        'skewness',\n",
    "        'variance',\n",
    "        'signal_range',\n",
    "        'signal_iqr',\n",
    "        #'snr_epochs'\n",
    "        ]\n",
    "\n",
    "    xlimits = {\n",
    "    'average_rms': (0,0.001),\n",
    "    'max_gradient': (0,0.002),\n",
    "    'hjorth_mobility': (0,2),\n",
    "    'hjorth_complexity': (1,5),\n",
    "    'kurtosis': (-3,40),\n",
    "    'skewness': (-6,6),\n",
    "    'variance': (0,1e-7),\n",
    "    'signal_range': (0,0.003),\n",
    "    'signal_iqr': (0,0.0001),\n",
    "    #'snr_epochs': (0,15)\n",
    "    }\n",
    "\n",
    "\n",
    "\n",
    "    fig, ax1 = plt.subplots(figsize = (20,10))\n",
    "    ax1.spines[['right','left', 'top', 'bottom']].set_visible(False)\n",
    "    ax1.set_yticks([])\n",
    "\n",
    "    for i, metric in enumerate(metrics):\n",
    "        ax = fig.add_subplot(2, 5, 1 + i)\n",
    "        if i == 0:\n",
    "            legend = True\n",
    "        else:\n",
    "            legend = False\n",
    "        seaborn.kdeplot(data={'brainvision':brainvision_metrics_dict[metric],\n",
    "                            'cbin':sam_metrics_dict[metric],\n",
    "                            'cbin+asr':sam_asr_metrics_dict[metric],\n",
    "                            'eeeglab':eeglab_metrics_dict[metric]},\n",
    "                        x=None, \n",
    "                        y=None, \n",
    "                        hue=None, \n",
    "                        weights=None, \n",
    "                        palette=None, \n",
    "                        hue_order=None, \n",
    "                        hue_norm=None, \n",
    "                        color=None, \n",
    "                        fill=True, \n",
    "                        multiple='layer', \n",
    "                        common_norm=True, \n",
    "                        common_grid=False, \n",
    "                        cumulative=False, \n",
    "                        bw_method='scott', \n",
    "                        bw_adjust=1, \n",
    "                        warn_singular=True, \n",
    "                        log_scale=None, \n",
    "                        levels=10, \n",
    "                        thresh=0.05, \n",
    "                        gridsize=200, \n",
    "                        cut=3, \n",
    "                        clip=None, \n",
    "                        legend=legend, \n",
    "                        cbar=False, \n",
    "                        cbar_ax=None, \n",
    "                        cbar_kws=None, \n",
    "                        ax=ax)\n",
    "        ax.spines[['top','right']].set_visible(False)\n",
    "        plt.title(metric)\n",
    "        plt.xlim(xlimits[metric])"
   ]
  },
  {
   "cell_type": "code",
   "execution_count": 19,
   "metadata": {},
   "outputs": [],
   "source": [
    "plot_time_metrics(\n",
    "    brainvision_metrics_dict,\n",
    "    sam_metrics_dict,\n",
    "    sam_asr_metrics_dict,\n",
    "    eeglab_metrics_dict\n",
    "    )"
   ]
  },
  {
   "cell_type": "markdown",
   "metadata": {},
   "source": [
    "# Frequency domain metrics"
   ]
  },
  {
   "cell_type": "code",
   "execution_count": 27,
   "metadata": {},
   "outputs": [],
   "source": [
    "path_brainvision = Path('/projects/EEG_FMRI/bids_eeg/BIDS/NEW/PREP_BV_2024/metrics_bv_method')\n",
    "path_sam = Path('/projects/EEG_FMRI/bids_eeg/BIDS/NEW/DERIVATIVES/metrics')\n",
    "path_sam_asr = Path('/projects/EEG_FMRI/bids_eeg/BIDS/NEW/DERIVATIVES/metrics')\n",
    "metrics = [\n",
    "    'amplitude_peak_magnitude',\n",
    "    'zscore_peak_magnitude',\n",
    "    'snr_peak_magnitude'\n",
    "    ]\n",
    "brainvision_metrics_dict = {\n",
    "    metric: list() for metric in metrics\n",
    "}\n",
    "\n",
    "sam_metrics_dict = {\n",
    "    metric: list() for metric in metrics\n",
    "}\n",
    "\n",
    "sam_asr_metrics_dict = {\n",
    "    metric: list() for metric in metrics\n",
    "}\n",
    "error_log = dict()\n",
    "subject_treated = list()\n",
    "\n",
    "for file in path_brainvision.iterdir():\n",
    "    subject = file.name[:6]\n",
    "    file_sam = subject + '_ses-01_task-checker_run-01_eeg_GRAD_BCG_ssvep_freq_tagging.pkl'\n",
    "    file_sam_asr = subject + '_ses-01_task-checker_run-01_eeg_GRAD_BCG_ASR_ssvep_freq_tagging.pkl'\n",
    "\n",
    "    full_file_sam = path_sam / file_sam\n",
    "    full_file_sam_asr = path_sam / file_sam_asr\n",
    "    \n",
    "    try:\n",
    "        if 'ssvep_freq_tagging' in file.name:\n",
    "            subject_treated.append(subject)\n",
    "            #brain vision metrics\n",
    "            with open(file, 'rb') as f:\n",
    "                brainvision_metrics = pickle.load(f)\n",
    "                for metric in metrics:\n",
    "                    brainvision_metrics_dict[metric].append(getattr(brainvision_metrics,metric).flatten())\n",
    "\n",
    "            #sam metrics\n",
    "            with open(full_file_sam, 'rb') as f:\n",
    "                sam_metrics = pickle.load(f)\n",
    "                for metric in metrics:\n",
    "                    sam_metrics_dict[metric].append(getattr(sam_metrics,metric).flatten())\n",
    "\n",
    "            #sam asr metrics\n",
    "            with open(full_file_sam_asr, 'rb') as f:\n",
    "                sam_asr_metrics = pickle.load(f)\n",
    "                for metric in metrics:\n",
    "                    sam_asr_metrics_dict[metric].append(getattr(sam_asr_metrics,metric).flatten())\n",
    "    except Exception as e:\n",
    "        error_log[subject] = e\n",
    "\n",
    "for metric in metrics:\n",
    "    brainvision_metrics_dict[metric] = np.concatenate(brainvision_metrics_dict[metric])\n",
    "    sam_metrics_dict[metric] = np.concatenate(sam_metrics_dict[metric])\n",
    "    sam_asr_metrics_dict[metric] = np.concatenate(sam_asr_metrics_dict[metric])"
   ]
  },
  {
   "cell_type": "code",
   "execution_count": 28,
   "metadata": {},
   "outputs": [
    {
     "data": {
      "text/plain": [
       "{'sub-16': FileNotFoundError(2, 'No such file or directory')}"
      ]
     },
     "execution_count": 28,
     "metadata": {},
     "output_type": "execute_result"
    }
   ],
   "source": [
    "error_log"
   ]
  },
  {
   "cell_type": "code",
   "execution_count": 6,
   "metadata": {},
   "outputs": [
    {
     "data": {
      "text/plain": [
       "array([8.61324890e-07, 1.07030820e-06, 9.56946615e-07, 6.61865200e-07,\n",
       "       7.72870374e-07, 6.60623888e-07, 7.17152206e-07, 1.03808358e-06,\n",
       "       6.97332277e-07, 1.34938016e-06, 1.10882346e-06, 1.03815041e-06,\n",
       "       1.33605068e-06, 1.12220395e-06, 1.56214238e-06, 1.44511606e-06,\n",
       "       1.71446458e-06, 8.02867457e-07, 1.42035127e-06, 1.27682018e-06,\n",
       "       1.22613877e-06, 1.72723665e-06, 6.87191774e-07, 1.27096319e-06,\n",
       "       1.73175472e-06, 8.67069007e-07, 4.92177481e-07, 9.04891864e-07,\n",
       "       6.76612726e-07, 9.71787231e-07, 1.14910959e-06, 4.48955249e-07,\n",
       "       9.16469140e-07, 6.28604085e-07, 6.07790577e-07, 5.78342264e-07,\n",
       "       6.94559146e-07, 1.22175637e-06, 1.27771209e-06, 6.68112136e-07,\n",
       "       9.09370829e-07, 9.69968415e-07, 9.62053126e-07, 1.08837496e-06,\n",
       "       1.12823899e-06, 1.83602787e-06, 1.03985841e-06, 7.69643432e-06,\n",
       "       3.25237740e-06, 2.13949127e-06, 7.18267721e-07, 7.07918736e-07,\n",
       "       1.34255882e-06, 6.36707772e-07, 7.71207714e-07, 1.32972643e-06,\n",
       "       5.21896619e-07, 1.05083396e-06, 1.01064027e-06, 1.19029999e-06,\n",
       "       1.25800766e-06, 7.39432865e-07, 7.89178379e-07, 4.47263022e-07])"
      ]
     },
     "execution_count": 6,
     "metadata": {},
     "output_type": "execute_result"
    }
   ],
   "source": [
    "brainvision_metrics.amplitude_peak_magnitude"
   ]
  },
  {
   "cell_type": "code",
   "execution_count": 29,
   "metadata": {},
   "outputs": [
    {
     "data": {
      "image/png": "[encoded data removed]",
      "text/plain": [
       "<Figure size 2000x1000 with 4 Axes>"
      ]
     },
     "metadata": {},
     "output_type": "display_data"
    }
   ],
   "source": [
    "\n",
    "def plot_time_metrics(brainvision_metrics_dict,\n",
    "                      sam_metrics_dict,\n",
    "                      sam_asr_metrics_dict):\n",
    "    metrics = [\n",
    "        'amplitude_peak_magnitude',\n",
    "        'zscore_peak_magnitude',\n",
    "        'snr_peak_magnitude'\n",
    "    ]\n",
    "\n",
    "    fig, ax1 = plt.subplots(figsize = (20,10))\n",
    "    ax1.spines[['right','left', 'top', 'bottom']].set_visible(False)\n",
    "\n",
    "    for i, metric in enumerate(metrics):\n",
    "        ax = fig.add_subplot(1, 3, 1 + i)\n",
    "        if i == 0:\n",
    "            legend = True\n",
    "        else:\n",
    "            legend = False\n",
    "        seaborn.kdeplot(data={'brainvision':brainvision_metrics_dict[metric],\n",
    "                            'cbin':sam_metrics_dict[metric],\n",
    "                            'cbin+asr':sam_asr_metrics_dict[metric]},\n",
    "                        x=None, \n",
    "                        y=None, \n",
    "                        hue=None, \n",
    "                        weights=None, \n",
    "                        palette=None, \n",
    "                        hue_order=None, \n",
    "                        hue_norm=None, \n",
    "                        color=None, \n",
    "                        fill=True, \n",
    "                        multiple='layer', \n",
    "                        common_norm=True, \n",
    "                        common_grid=False, \n",
    "                        cumulative=False, \n",
    "                        bw_method='scott', \n",
    "                        bw_adjust=1, \n",
    "                        warn_singular=True, \n",
    "                        log_scale=None, \n",
    "                        levels=10, \n",
    "                        thresh=0.05, \n",
    "                        gridsize=200, \n",
    "                        cut=3, \n",
    "                        clip=None, \n",
    "                        legend=legend, \n",
    "                        cbar=False, \n",
    "                        cbar_ax=None, \n",
    "                        cbar_kws=None, \n",
    "                        ax=ax)\n",
    "        ax.spines[['top','right']].set_visible(False)\n",
    "        plt.title(metric)\n",
    "        #plt.xlim(xlimits[metric])\n",
    "plot_time_metrics(brainvision_metrics_dict,\n",
    "                  sam_metrics_dict,\n",
    "                  sam_asr_metrics_dict)"
   ]
  },
  {
   "cell_type": "code",
   "execution_count": null,
   "metadata": {},
   "outputs": [],
   "source": []
  },
  {
   "cell_type": "code",
   "execution_count": 25,
   "metadata": {},
   "outputs": [
    {
     "ename": "TypeError",
     "evalue": "'dict_items' object is not subscriptable",
     "output_type": "error",
     "traceback": [
      "\u001b[0;31m---------------------------------------------------------------------------\u001b[0m",
      "\u001b[0;31mTypeError\u001b[0m                                 Traceback (most recent call last)",
      "Cell \u001b[0;32mIn[25], line 36\u001b[0m\n\u001b[1;32m     32\u001b[0m multiplier \u001b[38;5;241m=\u001b[39m \u001b[38;5;241m0\u001b[39m\n\u001b[1;32m     34\u001b[0m fig, ax \u001b[38;5;241m=\u001b[39m plt\u001b[38;5;241m.\u001b[39msubplots(layout\u001b[38;5;241m=\u001b[39m\u001b[38;5;124m'\u001b[39m\u001b[38;5;124mconstrained\u001b[39m\u001b[38;5;124m'\u001b[39m)\n\u001b[0;32m---> 36\u001b[0m \u001b[38;5;28;01mfor\u001b[39;00m attribute, measurement \u001b[38;5;129;01min\u001b[39;00m \u001b[43mmethods\u001b[49m\u001b[38;5;241;43m.\u001b[39;49m\u001b[43mitems\u001b[49m\u001b[43m(\u001b[49m\u001b[43m)\u001b[49m\u001b[43m[\u001b[49m\u001b[38;5;241;43m1\u001b[39;49m\u001b[43m:\u001b[49m\u001b[43m]\u001b[49m:\n\u001b[1;32m     37\u001b[0m     offset \u001b[38;5;241m=\u001b[39m width \u001b[38;5;241m*\u001b[39m multiplier\n\u001b[1;32m     38\u001b[0m     rects \u001b[38;5;241m=\u001b[39m ax\u001b[38;5;241m.\u001b[39mbar(x \u001b[38;5;241m+\u001b[39m offset, measurement, width, label\u001b[38;5;241m=\u001b[39mattribute)\n",
      "\u001b[0;31mTypeError\u001b[0m: 'dict_items' object is not subscriptable"
     ]
    },
    {
     "data": {
      "image/png": "[encoded data removed]",
      "text/plain": [
       "<Figure size 640x480 with 1 Axes>"
      ]
     },
     "metadata": {},
     "output_type": "display_data"
    }
   ],
   "source": [
    "import matplotlib.pyplot as plt\n",
    "import numpy as np\n",
    "\n",
    "m_bv = list()\n",
    "m_sam = list()\n",
    "m_sam_asr = list()\n",
    "\n",
    "std_bv = list()\n",
    "std_sam = list()\n",
    "std_sam_asr = list()\n",
    "\n",
    "metrics = (\"zscore_peak_magnitude\", \n",
    "           \"snr_peak_magnitude\")\n",
    "for metric in metrics:\n",
    "    m_bv.append(np.mean(getattr(brainvision_metrics,metric)))\n",
    "    m_sam.append(np.mean(getattr(sam_metrics,metric)))\n",
    "    m_sam_asr.append(np.mean(getattr(sam_asr_metrics,metric)))\n",
    "    \n",
    "    std_bv.append(np.mean(getattr(brainvision_metrics,metric)))\n",
    "    std_sam.append(np.mean(getattr(sam_metrics,metric)))\n",
    "    std_sam_asr.append(np.mean(getattr(sam_asr_metrics,metric)))\n",
    "\n",
    "methods = {\n",
    "    'brainvision': m_bv,\n",
    "    'c-bin': m_sam,\n",
    "    'cbin + ASR': m_sam_asr,\n",
    "}\n",
    "\n",
    "x = np.arange(len(metrics))  # the label locations\n",
    "width = 0.25  # the width of the bars\n",
    "multiplier = 0\n",
    "\n",
    "fig, ax = plt.subplots(layout='constrained')\n",
    "\n",
    "for attribute, measurement in methods.items():\n",
    "    offset = width * multiplier\n",
    "    rects = ax.bar(x + offset, measurement, width, label=attribute)\n",
    "    multiplier += 1\n",
    "\n",
    "# Add some text for labels, title and custom x-axis tick labels, etc.\n",
    "ax2 = ax.twinx()\n",
    "ax2\n",
    "ax.set_ylabel('magnitude')\n",
    "ax.set_title('peak magnitude')\n",
    "ax.set_xticks(x + width, metrics)\n",
    "ax.legend(loc='upper left', ncols=3)\n",
    "\n",
    "plt.show()"
   ]
  },
  {
   "cell_type": "code",
   "execution_count": 28,
   "metadata": {},
   "outputs": [
    {
     "data": {
      "text/plain": [
       "['mne_object',\n",
       " 'info',\n",
       " 'amplitude',\n",
       " 'amplitude_peak_magnitude',\n",
       " 'amplitude_peak_frequency',\n",
       " 'zscore',\n",
       " 'zscore_peak_magnitude',\n",
       " 'zscore_peak_frequency',\n",
       " 'snr',\n",
       " 'snr_peak_magnitude',\n",
       " 'snr_peak_frequency',\n",
       " '__module__',\n",
       " '__doc__',\n",
       " '__init__',\n",
       " 'calculate_frequency_metrics',\n",
       " 'calculate_time_metrics',\n",
       " '__dict__',\n",
       " '__weakref__',\n",
       " '__slotnames__',\n",
       " '__new__',\n",
       " '__repr__',\n",
       " '__hash__',\n",
       " '__str__',\n",
       " '__getattribute__',\n",
       " '__setattr__',\n",
       " '__delattr__',\n",
       " '__lt__',\n",
       " '__le__',\n",
       " '__eq__',\n",
       " '__ne__',\n",
       " '__gt__',\n",
       " '__ge__',\n",
       " '__reduce_ex__',\n",
       " '__reduce__',\n",
       " '__getstate__',\n",
       " '__subclasshook__',\n",
       " '__init_subclass__',\n",
       " '__format__',\n",
       " '__sizeof__',\n",
       " '__dir__',\n",
       " '__class__']"
      ]
     },
     "execution_count": 28,
     "metadata": {},
     "output_type": "execute_result"
    }
   ],
   "source": [
    "sam_metrics.__dir__()"
   ]
  },
  {
   "cell_type": "code",
   "execution_count": 10,
   "metadata": {},
   "outputs": [
    {
     "data": {
      "text/plain": [
       "[<matplotlib.lines.Line2D at 0x7f84a02ec7d0>]"
      ]
     },
     "execution_count": 10,
     "metadata": {},
     "output_type": "execute_result"
    },
    {
     "data": {
      "image/png": "[encoded data removed]",
      "text/plain": [
       "<Figure size 640x480 with 1 Axes>"
      ]
     },
     "metadata": {},
     "output_type": "display_data"
    }
   ],
   "source": [
    "import matplotlib.pyplot as plt\n",
    "plt.plot(brainvision_metrics.amplitude[0,1:])\n",
    "plt.plot(sam_metrics.amplitude[0,:])\n",
    "plt.plot(sam_asr_metrics.amplitude[0,:])"
   ]
  },
  {
   "cell_type": "code",
   "execution_count": 5,
   "metadata": {},
   "outputs": [],
   "source": [
    "metric_path = path.joinpath('metrics', 'errors_log.pkl')\n",
    "with open(metric_path, 'wb') as f:\n",
    "    pickle.dump(errors, f)\n"
   ]
  },
  {
   "cell_type": "code",
   "execution_count": 69,
   "metadata": {},
   "outputs": [],
   "source": [
    "f = bids.layout.BIDSFile('/projects/EEG_FMRI/bids_eeg/BIDS/NEW/DERIVATIVES/BCG/sub-22/ses-02/eeg/sub-22_ses-02_task-checkeroff_run-01_eeg.fif')"
   ]
  },
  {
   "cell_type": "code",
   "execution_count": 83,
   "metadata": {},
   "outputs": [
    {
     "name": "stderr",
     "output_type": "stream",
     "text": [
      "/home/slouviot/miniconda3/envs/mne/lib/python3.12/site-packages/bids/layout/models.py:148: FutureWarning: The 'extension' entity currently excludes the leading dot ('.'). As of version 0.14.0, it will include the leading dot. To suppress this warning and include the leading dot, use `bids.config.set_option('extension_initial_dot', True)`.\n",
      "  warnings.warn(\"The 'extension' entity currently excludes the leading dot ('.'). \"\n"
     ]
    }
   ],
   "source": [
    "f = bids.layout.parse_file_entities(f.filename)"
   ]
  },
  {
   "cell_type": "code",
   "execution_count": 84,
   "metadata": {},
   "outputs": [
    {
     "data": {
      "text/plain": [
       "{'session': '02',\n",
       " 'task': 'checkeroff',\n",
       " 'run': 1,\n",
       " 'suffix': 'eeg',\n",
       " 'extension': 'fif'}"
      ]
     },
     "execution_count": 84,
     "metadata": {},
     "output_type": "execute_result"
    }
   ],
   "source": [
    "f"
   ]
  },
  {
   "cell_type": "code",
   "execution_count": 64,
   "metadata": {},
   "outputs": [],
   "source": [
    "import os\n",
    "filename_path = Path(filename)\n",
    "base_filename =  os.path.splitext(filename_path)[0]\n",
    "saving_filename = base_filename + '_metrics.pkl'"
   ]
  },
  {
   "cell_type": "code",
   "execution_count": 65,
   "metadata": {},
   "outputs": [
    {
     "data": {
      "text/plain": [
       "'/projects/EEG_FMRI/bids_eeg/BIDS/NEW/DERIVATIVES/GRAD_BCG/sub-21/ses-01/eeg/sub-21_ses-01_task-checker_run-01_eeg_metrics.pkl'"
      ]
     },
     "execution_count": 65,
     "metadata": {},
     "output_type": "execute_result"
    }
   ],
   "source": [
    "saving_filename"
   ]
  },
  {
   "cell_type": "code",
   "execution_count": 12,
   "metadata": {},
   "outputs": [
    {
     "data": {
      "text/plain": [
       "array([11.98577881, 11.9934082 , 11.9934082 , 11.9934082 , 11.21520996,\n",
       "       12.35961914, 11.21520996, 11.07788086, 11.19232178, 11.62719727,\n",
       "       11.14654541, 11.08551025, 12.01629639, 11.08551025, 12.01629639,\n",
       "       11.9934082 , 11.9934082 , 11.9934082 , 11.9934082 , 11.9934082 ,\n",
       "       11.23046875, 11.03210449, 11.23046875, 11.10076904, 11.21520996,\n",
       "       12.30621338, 11.21520996, 12.30621338, 11.97052002, 11.69586182,\n",
       "       11.04736328, 11.03973389, 11.21520996, 11.51275635, 11.9934082 ,\n",
       "       11.98577881, 11.9934082 , 12.0010376 , 12.71057129, 11.07025146,\n",
       "       11.07788086, 11.08551025, 12.01629639, 11.9934082 , 11.06262207,\n",
       "       11.03973389, 11.09313965, 11.03210449, 11.36016846, 11.61956787,\n",
       "       12.86315918, 11.14654541, 12.1383667 , 12.71057129, 11.23046875,\n",
       "       12.78686523, 11.9934082 , 12.2833252 , 12.93945312, 12.24517822,\n",
       "       11.21520996, 11.29150391, 12.30621338, 11.08551025])"
      ]
     },
     "execution_count": 12,
     "metadata": {},
     "output_type": "execute_result"
    }
   ],
   "source": [
    "ssvep_freq_tagging.snr_peak_frequency"
   ]
  },
  {
   "cell_type": "code",
   "execution_count": 10,
   "metadata": {},
   "outputs": [
    {
     "name": "stdout",
     "output_type": "stream",
     "text": [
      "Reading /projects/EEG_FMRI/bids_eeg/BIDS/NEW/PREP_BV_2024/sub-02_ses-01_task-checker_run-01_eeg-edf_2.fdt\n",
      "Reading 0 ... 66499  =      0.000 ...   265.996 secs...\n"
     ]
    },
    {
     "name": "stdout",
     "output_type": "stream",
     "text": [
      "<class 'mne.io.eeglab.eeglab.RawEEGLAB'>\n",
      "Using channel ECG to identify heart beats.\n",
      "Setting up band-pass filter from 8 - 16 Hz\n",
      "\n",
      "FIR filter parameters\n",
      "---------------------\n",
      "Designing a two-pass forward and reverse, zero-phase, non-causal bandpass filter:\n",
      "- Windowed frequency-domain design (firwin2) method\n",
      "- Hann window\n",
      "- Lower passband edge: 8.00\n",
      "- Lower transition bandwidth: 0.50 Hz (-12 dB cutoff frequency: 7.75 Hz)\n",
      "- Upper passband edge: 16.00 Hz\n",
      "- Upper transition bandwidth: 0.50 Hz (-12 dB cutoff frequency: 16.25 Hz)\n",
      "- Filter length: 2500 samples (10.000 s)\n",
      "\n",
      "Number of ECG events detected : 218 (average pulse 49 / min.)\n",
      "Not setting metadata\n",
      "218 matching events found\n",
      "No baseline correction applied\n",
      "Using data from preloaded Raw for 218 events and 251 original time points ...\n",
      "2 bad epochs dropped\n"
     ]
    },
    {
     "name": "stderr",
     "output_type": "stream",
     "text": [
      "/home/slouviot/01_projects/EEG_quality_assessment/src/EEG_quality_assessment/signal_metrics.py:111: FutureWarning: The current default of copy=False will change to copy=True in 1.7. Set the value of copy explicitly to avoid this warning\n",
      "  data = self.mne_object.get_data()\n"
     ]
    },
    {
     "data": {
      "text/plain": [
       "<signal_metrics.SignalMetrics at 0x7fc4f32a5310>"
      ]
     },
     "execution_count": 10,
     "metadata": {},
     "output_type": "execute_result"
    }
   ],
   "source": [
    "raw = mne.io.read_raw_eeglab('/projects/EEG_FMRI/bids_eeg/BIDS/NEW/PREP_BV_2024/sub-02_ses-01_task-checker_run-01_eeg-edf_2.set', preload=True)\n",
    "def eeg_lab_metrics(raw):\n",
    "    channel_map = cleaner.map_channel_type(raw)\n",
    "    raw = cleaner.set_channel_types(raw, channel_map)\n",
    "\n",
    "    raw_time_metrics = signal_metrics.SignalMetrics(raw)\n",
    "    raw_time_metrics.calculate_time_metrics()\n",
    "\n",
    "    noise_freq_tagging = signal_metrics.SignalMetrics(raw)\n",
    "    noise_freq_tagging.calculate_frequency_metrics(frequency_range=(17,20),\n",
    "                                                                frequency_type=\"noise\")\n",
    "    ssvep_freq_tagging = signal_metrics.SignalMetrics(raw)\n",
    "    ssvep_freq_tagging.calculate_frequency_metrics(frequency_range=(11,13),\n",
    "                                                                frequency_type=\"signal\")\n",
    "    ecg_epochs = mne.preprocessing.create_ecg_epochs(raw)\n",
    "    epochs_ecg_metrics = signal_metrics.SignalMetrics(ecg_epochs)\n",
    "    epochs_ecg_metrics.calculate_time_metrics()"
   ]
  },
  {
   "cell_type": "code",
   "execution_count": 19,
   "metadata": {},
   "outputs": [
    {
     "name": "stdout",
     "output_type": "stream",
     "text": [
      "Used Annotations descriptions: ['R128']\n"
     ]
    }
   ],
   "source": [
    "trigger_name = GradientRemover.extract_gradient_trigger_name(raw)\n",
    "gradient_trigger = mne.events_from_annotations(raw, event_id={trigger_name: 0})"
   ]
  },
  {
   "cell_type": "code",
   "execution_count": 35,
   "metadata": {},
   "outputs": [],
   "source": []
  },
  {
   "cell_type": "code",
   "execution_count": 40,
   "metadata": {},
   "outputs": [
    {
     "data": {
      "text/plain": [
       "4.1"
      ]
     },
     "execution_count": 40,
     "metadata": {},
     "output_type": "execute_result"
    }
   ],
   "source": [
    "annotations.onset[2]"
   ]
  },
  {
   "cell_type": "code",
   "execution_count": 46,
   "metadata": {},
   "outputs": [
    {
     "data": {
      "text/plain": [
       "array(['Sync On', 'Sync On', 'Sync On', 'Sync On', 'Sync On', 'Sync On',\n",
       "       'Sync On', 'Sync On', 'Sync On', 'Sync On', 'Sync On', 'Sync On',\n",
       "       'Sync On', 'Sync On', 'Sync On', 'Sync On', 'Sync On', 'Sync On',\n",
       "       'Sync On', 'R128', 'Sync On', 'R', 'R128', 'S 11', 'S 12',\n",
       "       'Sync On', 'R', 'S 11', 'R', 'S 11', 'S 12', 'R128', 'Sync On',\n",
       "       'S 11', 'R', 'S 11', 'S 12', 'Sync On', 'S 11', 'R', 'S 11',\n",
       "       'S 12', 'R128', 'Sync On', 'R', 'S 11', 'R', 'S 11', 'S 12',\n",
       "       'R128', 'Sync On', 'S 11', 'S 11', 'S 12', 'Sync On', 'R128',\n",
       "       'S 11', 'R', 'S 11', 'S 12', 'Sync On', 'R128', 'R', 'S 11',\n",
       "       'condition 12', 'S 11', 'S 12', 'Sync On', 'TEND', 'R128', 'S 11',\n",
       "       'R', 'S 11', 'S 12', 'R', 'Sync On', 'R128', 'S 11', 'R', 'S 11',\n",
       "       'S 12', 'R', 'Sync On', 'R128', 'S 11', 'R', 'S 25', 'R',\n",
       "       'Sync On', 'R128', 'S 26', 'R', 'S 26', 'S 27', 'R', 'Sync On',\n",
       "       'S 26', 'R128', 'R', 'S 26', 'S 27', 'Sync On', 'R', 'S 26',\n",
       "       'R128', 'R', 'S 26', 'S 27', 'Sync On', 'R', 'S 26', 'R128', 'R',\n",
       "       'S 26', 'S 27', 'Sync On', 'R', 'S 26', 'R128', 'R', 'S 26',\n",
       "       'S 27', 'Sync On', 'R', 'S 26', 'R128', 'R', 'S 26', 'S 27',\n",
       "       'Sync On', 'R', 'S 26', 'R128', 'R', 'S 26', 'S 27', 'Sync On',\n",
       "       'R', 'S 26', 'R128', 'R', 'S 26', 'S 27', 'Sync On', 'R', 'S 26',\n",
       "       'R', 'R128', 'Sync On', 'R', 'S 26', 'R', 'R128', 'S 10',\n",
       "       'Sync On', 'R', 'S 11', 'R', 'R128', 'Sync On', 'R', 'S 11', 'R',\n",
       "       'R128', 'Sync On', 'S 11', 'R', 'R128', 'Sync On', 'R', 'S 11',\n",
       "       'R', 'R128', 'Sync On', 'S 11', 'R', 'R', 'R128', 'Sync On',\n",
       "       'S 11', 'R', 'R', 'Sync On', 'R128', 'S 11', 'R', 'R', 'Sync On',\n",
       "       'R128', 'S 11', 'R', 'Sync On', 'R', 'R128', 'S 11', 'R',\n",
       "       'Sync On', 'R128', 'S 11', 'R', 'S 27', 'Sync On', 'R', 'R128',\n",
       "       'S 26', 'R', 'Sync On', 'R', 'R128', 'S 26', 'R', 'Sync On',\n",
       "       'S 26', 'R', 'R128', 'R', 'Sync On', 'S 26', 'R128', 'R', 'R',\n",
       "       'Sync On', 'S 26', 'R128', 'S 26', 'S 27', 'Sync On', 'S 26',\n",
       "       'R128', 'R', 'S 26', 'S 27', 'Sync On', 'S 26', 'R', 'R128',\n",
       "       'S 26', 'S 27', 'R', 'Sync On', 'S 26', 'R', 'R128', 'S 26',\n",
       "       'S 27', 'Sync On', 'R', 'S 26', 'R128', 'R', 'S 26', 'S 27',\n",
       "       'Sync On', 'S 26', 'R', 'R128', 'S 10', 'R', 'Sync On', 'S 11',\n",
       "       'R', 'R128', 'S 11', 'S 12', 'Sync On', 'R', 'S 11', 'R', 'R128',\n",
       "       'S 11', 'S 12', 'Sync On', 'S 11', 'R', 'S 11', 'S 12', 'R128',\n",
       "       'R', 'Sync On', 'S 11', 'R', 'S 11', 'S 12', 'R128', 'Sync On',\n",
       "       'R', 'S 11', 'S 11', 'S 12', 'R', 'R128', 'Sync On', 'S 11', 'R',\n",
       "       'S 11', 'S 12', 'R128', 'Sync On', 'S 11', 'S 12', 'R', 'Sync On',\n",
       "       'R128', 'S 11', 'R', 'S 11', 'S 12', 'Sync On', 'R128', 'S 11',\n",
       "       'R', 'S 11', 'S 12', 'Sync On', 'R', 'R128', 'S 11', 'R', 'S 25',\n",
       "       'Sync On', 'R128', 'S 26', 'R', 'S 26', 'S 27', 'Sync On', 'R',\n",
       "       'R128', 'S 26', 'S 26', 'S 27', 'R', 'Sync On', 'R128', 'S 26',\n",
       "       'R', 'Sync On', 'S 26', 'R128', 'R', 'Sync On', 'R', 'S 26',\n",
       "       'R128', 'R', 'Sync On', 'S 26', 'R128', 'R', 'Sync On', 'S 26',\n",
       "       'R', 'R128', 'Sync On', 'R', 'S 26', 'R128', 'R', 'Sync On', 'R',\n",
       "       'S 26', 'R128', 'Sync On', 'R', 'S 26', 'R128', 'R', 'S 12',\n",
       "       'Sync On', 'S 11', 'R', 'R128', 'Sync On', 'R', 'S 11', 'R128',\n",
       "       'R', 'Sync On', 'S 11', 'R', 'R128', 'Sync On', 'S 11', 'R',\n",
       "       'R128', 'Sync On', 'R', 'S 11', 'R128', 'R', 'Sync On', 'S 11',\n",
       "       'R', 'R128', 'Sync On', 'S 11', 'R', 'R128', 'Sync On', 'R',\n",
       "       'S 11', 'R', 'Sync On', 'R128', 'S 11', 'R', 'S 11', 'S 12',\n",
       "       'Sync On', 'R128', 'S 11', 'R', 'S 25', 'Sync On', 'R128', 'S 26',\n",
       "       'S 27', 'Sync On', 'R', 'R128', 'S 26', 'R', 'S 26', 'S 27',\n",
       "       'Sync On', 'R128', 'S 26', 'R', 'S 26', 'S 27', 'Sync On', 'R',\n",
       "       'R128', 'S 26', 'S 26', 'S 27', 'R', 'Sync On', 'S 26', 'R128',\n",
       "       'R', 'S 26', 'S 27', 'Sync On', 'S 26', 'R', 'R128', 'S 26',\n",
       "       'S 27', 'R', 'Sync On', 'S 26', 'R128', 'R', 'S 26', 'S 27',\n",
       "       'Sync On', 'S 26', 'R', 'R128', 'S 26', 'S 27', 'Sync On', 'R',\n",
       "       'S 26', 'R128', 'S 26', 'S 27', 'R', 'Sync On', 'S 26', 'R128',\n",
       "       'R', 'S 10', 'Sync On', 'R', 'S 11', 'R128', 'S 11', 'S 12', 'R',\n",
       "       'Sync On', 'S 11', 'R', 'R128', 'S 11', 'S 12', 'Sync On', 'S 11',\n",
       "       'R', 'R128', 'S 11', 'S 12', 'S 11', 'R', 'R128', 'S 11', 'S 12',\n",
       "       'Sync On', 'S 11', 'R', 'S 11', 'S 12', 'R128', 'R', 'Sync On',\n",
       "       'S 11', 'R', 'R128', 'Sync On', 'S 11', 'R', 'R128', 'Sync On',\n",
       "       'R', 'S 11', 'R', 'R128', 'Sync On', 'S 11', 'R', 'Sync On',\n",
       "       'R128', 'R', 'S 11', 'R', 'S 27', 'Sync On', 'R128', 'R', 'S 26',\n",
       "       'R', 'Sync On', 'R128', 'S 26', 'R', 'Sync On', 'R128', 'S 26',\n",
       "       'R', 'Sync On', 'R', 'R128', 'S 26', 'R', 'Sync On', 'R128',\n",
       "       'S 26', 'R', 'Sync On', 'R', 'S 26', 'R128', 'R', 'Sync On',\n",
       "       'S 26', 'R128', 'R', 'Sync On', 'S 26', 'R128', 'R', 'Sync On',\n",
       "       'R', 'S 26', 'R128', 'R', 'Sync On', 'S 26', 'R128', 'R', 'S 99',\n",
       "       'Sync On', 'R', 'R128', 'Sync On', 'R', 'Sync On', 'Sync On',\n",
       "       'Sync On', 'Sync On', 'Sync On', 'Sync On', 'Sync On', 'R',\n",
       "       'Sync On', 'Sync On', 'Sync On', 'Sync On'], dtype='<U12')"
      ]
     },
     "execution_count": 46,
     "metadata": {},
     "output_type": "execute_result"
    }
   ],
   "source": [
    "annotations.description"
   ]
  },
  {
   "cell_type": "code",
   "execution_count": 47,
   "metadata": {},
   "outputs": [],
   "source": [
    "import numpy as np"
   ]
  },
  {
   "cell_type": "code",
   "execution_count": 14,
   "metadata": {},
   "outputs": [
    {
     "name": "stdout",
     "output_type": "stream",
     "text": [
      "Used Annotations descriptions: ['R', 'R128', 'S 10', 'S 11', 'S 12', 'S 25', 'S 26', 'S 27', 'S 99', 'Sync On', 'TEND', 'condition 12']\n"
     ]
    }
   ],
   "source": [
    "ev = mne.events_from_annotations(raw)"
   ]
  },
  {
   "cell_type": "code",
   "execution_count": 17,
   "metadata": {},
   "outputs": [],
   "source": []
  },
  {
   "cell_type": "code",
   "execution_count": 18,
   "metadata": {},
   "outputs": [
    {
     "data": {
      "text/plain": [
       "'R128'"
      ]
     },
     "execution_count": 18,
     "metadata": {},
     "output_type": "execute_result"
    }
   ],
   "source": [
    "trigger_name"
   ]
  },
  {
   "cell_type": "code",
   "execution_count": null,
   "metadata": {},
   "outputs": [],
   "source": []
  },
  {
   "cell_type": "markdown",
   "metadata": {},
   "source": [
    "# Time domaine metrics"
   ]
  },
  {
   "cell_type": "markdown",
   "metadata": {},
   "source": [
    "- average_rms\n",
    "- max_gradient\n",
    "- zero_crossing_rate\n",
    "- hjorth_mobility\n",
    "- hjorth_complexity\n",
    "- kurtosis\n",
    "- skewness\n",
    "- variance\n",
    "- signal_range\n",
    "- signal_iqr"
   ]
  },
  {
   "cell_type": "markdown",
   "metadata": {},
   "source": [
    "# Frequency domain metrics\n",
    "- amplitude\n",
    "- snr\n",
    "- zscore"
   ]
  },
  {
   "cell_type": "markdown",
   "metadata": {},
   "source": []
  }
 ],
 "metadata": {
  "kernelspec": {
   "display_name": "Python 3",
   "language": "python",
   "name": "python3"
  },
  "language_info": {
   "codemirror_mode": {
    "name": "ipython",
    "version": 3
   },
   "file_extension": ".py",
   "mimetype": "text/x-python",
   "name": "python",
   "nbconvert_exporter": "python",
   "pygments_lexer": "ipython3",
   "version": "3.12.2"
  }
 },
 "nbformat": 4,
 "nbformat_minor": 2
}
