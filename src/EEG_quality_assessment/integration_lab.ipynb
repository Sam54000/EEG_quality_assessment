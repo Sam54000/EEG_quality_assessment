{
 "cells": [
  {
   "cell_type": "code",
   "execution_count": 1,
   "metadata": {},
   "outputs": [],
   "source": [
    "import mne\n",
    "import signal_metrics\n",
    "from pathlib import Path\n",
    "import bids\n",
    "import pickle\n",
    "from eeg_fmri_cleaning import GradientRemover\n",
    "import numpy as np\n",
    "import os\n",
    "import eeg_fmri_cleaning.main as cleaner"
   ]
  },
  {
   "cell_type": "code",
   "execution_count": 2,
   "metadata": {},
   "outputs": [],
   "source": [
    "%%capture\n",
    "def mne_metrics(filename):\n",
    "    filename_entities = bids.layout.parse_file_entities(filename.name)\n",
    "\n",
    "    if os.path.splitext(filename)[1] == '.set':\n",
    "        raw = mne.io.read_raw_eeglab(filename, preload=True)\n",
    "        channel_map = cleaner.map_channel_type(raw)\n",
    "        raw = cleaner.set_channel_types(raw, channel_map)\n",
    "    elif os.path.splitext(filename)[1] == '.fif':\n",
    "        raw = mne.io.read_raw_fif(filename, preload=True)\n",
    "        \n",
    "    if filename_entities['task'] == 'checker':\n",
    "        trigger_name = GradientRemover.extract_gradient_trigger_name(raw)\n",
    "        annotations = raw.annotations\n",
    "        index_grad_trigger = np.where(annotations.description == trigger_name)\n",
    "        third_grad_trigger = annotations.onset[index_grad_trigger[0][1]]\n",
    "        last_grad_trigger = annotations.onset[index_grad_trigger[0][-1]]\n",
    "        \n",
    "        raw.crop(tmin=third_grad_trigger, tmax=last_grad_trigger)\n",
    "    \n",
    "    raw_time_metrics = signal_metrics.SignalMetrics(raw)\n",
    "    raw_time_metrics.calculate_time_metrics()\n",
    "\n",
    "    noise_freq_tagging = signal_metrics.SignalMetrics(raw)\n",
    "    noise_freq_tagging.calculate_frequency_metrics(frequency_range=(17,20),\n",
    "                                                                frequency_type=\"noise\")\n",
    "    ssvep_freq_tagging = signal_metrics.SignalMetrics(raw)\n",
    "    ssvep_freq_tagging.calculate_frequency_metrics(frequency_range=(11,13),\n",
    "                                                                frequency_type=\"signal\")\n",
    "    ecg_epochs = mne.preprocessing.create_ecg_epochs(raw)\n",
    "    epochs_ecg_metrics = signal_metrics.SignalMetrics(ecg_epochs)\n",
    "    epochs_ecg_metrics.calculate_time_metrics()\n",
    "    \n",
    "    \n",
    "    filename_path = Path(filename)\n",
    "    base_filename =  os.path.splitext(filename_path)[0]\n",
    "    \n",
    "    for metric_object, metric_object_name in zip([raw_time_metrics, \n",
    "                                                  noise_freq_tagging, \n",
    "                                                  ssvep_freq_tagging, \n",
    "                                                  epochs_ecg_metrics], \n",
    "                                                 ['raw_time_metrics', \n",
    "                                                  'noise_freq_tagging', \n",
    "                                                  'ssvep_freq_tagging', \n",
    "                                                  'epochs_ecg_metrics']):\n",
    "\n",
    "        saving_filename = base_filename + '_' + metric_object_name + '.pkl'\n",
    "        with open(saving_filename, 'wb') as f:\n",
    "            pickle.dump(metric_object, f)\n",
    "        print(f'{saving_filename} saved')\n",
    "\n",
    "\n"
   ]
  },
  {
   "cell_type": "code",
   "execution_count": null,
   "metadata": {},
   "outputs": [],
   "source": [
    "%%capture\n",
    "path = Path('/projects/EEG_FMRI/bids_eeg/BIDS/NEW/DERIVATIVES')\n",
    "folders = ['BCG',\n",
    "         'BCG_ASR',\n",
    "         'GRAD_BCG',\n",
    "         'GRAD_BCG_ASR']\n",
    "errors = {}\n",
    "for folder in folders:\n",
    "    child_path = path / folder\n",
    "    for child_child_path in child_path.iterdir():\n",
    "        for child_child_child_path in child_child_path.iterdir():\n",
    "            eeg_path = child_child_child_path / 'eeg'\n",
    "            for file in eeg_path.iterdir():\n",
    "                if os.path.splitext(file)[1] == '.fif':\n",
    "                    mne_metrics(file)"
   ]
  },
  {
   "cell_type": "code",
   "execution_count": 3,
   "metadata": {},
   "outputs": [],
   "source": [
    "%%capture\n",
    "path = Path('/projects/EEG_FMRI/bids_eeg/BIDS/NEW/PREP_BV_2024/')\n",
    "errors = {}\n",
    "for file in path.iterdir():\n",
    "    if os.path.splitext(file)[1] == '.set':\n",
    "        filename_entities = bids.layout.parse_file_entities(file.name)\n",
    "        if 'checker' in filename_entities['task']:\n",
    "            try:\n",
    "                mne_metrics(file)\n",
    "            except Exception as e:\n",
    "                errors[file] = e\n",
    "                print(f'Error in {file}: {e}')\n",
    "                continue"
   ]
  },
  {
   "cell_type": "code",
   "execution_count": 4,
   "metadata": {},
   "outputs": [
    {
     "data": {
      "text/plain": [
       "{PosixPath('/projects/EEG_FMRI/bids_eeg/BIDS/NEW/PREP_BV_2024/sub-15_ses-02_task-checker_run-01_eeg-edf.set'): RuntimeError('Incorrect number of samples (958464 != 8608000), please report this error to MNE-Python developers'),\n",
       " PosixPath('/projects/EEG_FMRI/bids_eeg/BIDS/NEW/PREP_BV_2024/sub-15_ses-01_task-checker_run-01_eeg-edf.set'): RuntimeError('Incorrect number of samples (524288 != 3760000), please report this error to MNE-Python developers'),\n",
       " PosixPath('/projects/EEG_FMRI/bids_eeg/BIDS/NEW/PREP_BV_2024/sub-03_ses-01_task-checker_run-01_eeg-edf_2.set'): RuntimeError('Incorrect number of samples (3162112 != 3840000), please report this error to MNE-Python developers'),\n",
       " PosixPath('/projects/EEG_FMRI/bids_eeg/BIDS/NEW/PREP_BV_2024/sub-14_ses-01_task-checker_run-01_eeg-edf.set'): RuntimeError('Incorrect number of samples (393216 != 4480000), please report this error to MNE-Python developers'),\n",
       " PosixPath('/projects/EEG_FMRI/bids_eeg/BIDS/NEW/PREP_BV_2024/sub-14_ses-02_task-checker_run-01_eeg-edf.set'): OSError('could not read bytes'),\n",
       " PosixPath('/projects/EEG_FMRI/bids_eeg/BIDS/NEW/PREP_BV_2024/sub-01_ses-01_task-checker_run-01_eeg-edf_2.set'): RuntimeError('Incorrect number of samples (3235840 != 3872000), please report this error to MNE-Python developers'),\n",
       " PosixPath('/projects/EEG_FMRI/bids_eeg/BIDS/NEW/PREP_BV_2024/sub-21_ses-01_task-checker_run-01_eeg-edf.set'): OSError('could not read bytes'),\n",
       " PosixPath('/projects/EEG_FMRI/bids_eeg/BIDS/NEW/PREP_BV_2024/sub-13_ses-02_task-checker_run-01_eeg-edf.set'): RuntimeError('Incorrect number of samples (1056768 != 3760000), please report this error to MNE-Python developers')}"
      ]
     },
     "execution_count": 4,
     "metadata": {},
     "output_type": "execute_result"
    }
   ],
   "source": [
    "errors"
   ]
  },
  {
   "cell_type": "code",
   "execution_count": 2,
   "metadata": {},
   "outputs": [
    {
     "name": "stdout",
     "output_type": "stream",
     "text": [
      "Reading /projects/EEG_FMRI/bids_eeg/BIDS/NEW/PREP_BV_2024/sub-22_ses-01_task-checker_run-01_eeg-edf.fdt\n"
     ]
    },
    {
     "ename": "TypeError",
     "evalue": "rfft() got an unexpected keyword argument 'axes'",
     "output_type": "error",
     "traceback": [
      "\u001b[0;31m---------------------------------------------------------------------------\u001b[0m",
      "\u001b[0;31mTypeError\u001b[0m                                 Traceback (most recent call last)",
      "Cell \u001b[0;32mIn[2], line 3\u001b[0m\n\u001b[1;32m      1\u001b[0m raw \u001b[38;5;241m=\u001b[39m mne\u001b[38;5;241m.\u001b[39mio\u001b[38;5;241m.\u001b[39mread_raw_eeglab(\u001b[38;5;124m'\u001b[39m\u001b[38;5;124m/projects/EEG_FMRI/bids_eeg/BIDS/NEW/PREP_BV_2024/sub-22_ses-01_task-checker_run-01_eeg-edf.set\u001b[39m\u001b[38;5;124m'\u001b[39m)\n\u001b[1;32m      2\u001b[0m metrics \u001b[38;5;241m=\u001b[39m signal_metrics\u001b[38;5;241m.\u001b[39mSignalMetrics(raw)\n\u001b[0;32m----> 3\u001b[0m \u001b[43mmetrics\u001b[49m\u001b[38;5;241;43m.\u001b[39;49m\u001b[43mcalculate_frequency_metrics\u001b[49m\u001b[43m(\u001b[49m\u001b[43mfrequency_range\u001b[49m\u001b[38;5;241;43m=\u001b[39;49m\u001b[43m(\u001b[49m\u001b[38;5;241;43m11\u001b[39;49m\u001b[43m,\u001b[49m\u001b[38;5;241;43m13\u001b[39;49m\u001b[43m)\u001b[49m\u001b[43m,\u001b[49m\u001b[43m \u001b[49m\u001b[43mfrequency_type\u001b[49m\u001b[38;5;241;43m=\u001b[39;49m\u001b[38;5;124;43m'\u001b[39;49m\u001b[38;5;124;43msignal\u001b[39;49m\u001b[38;5;124;43m'\u001b[39;49m\u001b[43m)\u001b[49m\n\u001b[1;32m      4\u001b[0m metrics\u001b[38;5;241m.\u001b[39mamplitude\u001b[38;5;241m.\u001b[39mshape\n",
      "File \u001b[0;32m~/01_projects/EEG_quality_assessment/src/EEG_quality_assessment/signal_metrics.py:68\u001b[0m, in \u001b[0;36mSignalMetrics.calculate_frequency_metrics\u001b[0;34m(self, frequency_range, frequency_type)\u001b[0m\n\u001b[1;32m     66\u001b[0m spectrum_object \u001b[38;5;241m=\u001b[39m frequency_analysis\u001b[38;5;241m.\u001b[39mSpectrum()\n\u001b[1;32m     67\u001b[0m \u001b[38;5;28;01mif\u001b[39;00m \u001b[38;5;28misinstance\u001b[39m(\u001b[38;5;28mself\u001b[39m\u001b[38;5;241m.\u001b[39mmne_object, mne\u001b[38;5;241m.\u001b[39mio\u001b[38;5;241m.\u001b[39mRaw \u001b[38;5;241m|\u001b[39m mne\u001b[38;5;241m.\u001b[39mio\u001b[38;5;241m.\u001b[39meeglab\u001b[38;5;241m.\u001b[39meeglab\u001b[38;5;241m.\u001b[39mRawEEGLAB):\n\u001b[0;32m---> 68\u001b[0m     \u001b[43mspectrum_object\u001b[49m\u001b[38;5;241;43m.\u001b[39;49m\u001b[43mcalculate_fft\u001b[49m\u001b[43m(\u001b[49m\u001b[38;5;28;43mself\u001b[39;49m\u001b[38;5;241;43m.\u001b[39;49m\u001b[43mmne_object\u001b[49m\u001b[43m)\u001b[49m\n\u001b[1;32m     69\u001b[0m     amplitude \u001b[38;5;241m=\u001b[39m spectrum_object\u001b[38;5;241m.\u001b[39mcopy()\u001b[38;5;241m.\u001b[39mcalculate_amplitude()\n\u001b[1;32m     70\u001b[0m     amplitude\u001b[38;5;241m.\u001b[39mget_peak_magnitude(frequency_range)\n",
      "File \u001b[0;32m~/01_projects/EEG_quality_assessment/src/EEG_quality_assessment/frequency_analysis.py:100\u001b[0m, in \u001b[0;36mSpectrum.calculate_fft\u001b[0;34m(self, raw)\u001b[0m\n\u001b[1;32m     98\u001b[0m \u001b[38;5;28mself\u001b[39m\u001b[38;5;241m.\u001b[39m_adjust_signal_length()\n\u001b[1;32m     99\u001b[0m \u001b[38;5;28mself\u001b[39m\u001b[38;5;241m.\u001b[39msignal_length \u001b[38;5;241m=\u001b[39m np\u001b[38;5;241m.\u001b[39mshape(\u001b[38;5;28mself\u001b[39m\u001b[38;5;241m.\u001b[39msignal)[\u001b[38;5;241m1\u001b[39m]\n\u001b[0;32m--> 100\u001b[0m \u001b[38;5;28mself\u001b[39m\u001b[38;5;241m.\u001b[39mspectrum \u001b[38;5;241m=\u001b[39m \u001b[43mscipy\u001b[49m\u001b[38;5;241;43m.\u001b[39;49m\u001b[43mfft\u001b[49m\u001b[38;5;241;43m.\u001b[39;49m\u001b[43mrfft\u001b[49m\u001b[43m(\u001b[49m\u001b[38;5;28;43mself\u001b[39;49m\u001b[38;5;241;43m.\u001b[39;49m\u001b[43msignal\u001b[49m\u001b[43m,\u001b[49m\u001b[43m \u001b[49m\u001b[43maxes\u001b[49m\u001b[43m \u001b[49m\u001b[38;5;241;43m=\u001b[39;49m\u001b[43m \u001b[49m\u001b[38;5;241;43m1\u001b[39;49m\u001b[43m)\u001b[49m \u001b[38;5;241m*\u001b[39m \u001b[38;5;241m2\u001b[39m \u001b[38;5;241m/\u001b[39m \u001b[38;5;28mself\u001b[39m\u001b[38;5;241m.\u001b[39msignal_length\n\u001b[1;32m    101\u001b[0m \u001b[38;5;28mself\u001b[39m\u001b[38;5;241m.\u001b[39mfrequencies \u001b[38;5;241m=\u001b[39m scipy\u001b[38;5;241m.\u001b[39mfft\u001b[38;5;241m.\u001b[39mfftfreq(\u001b[38;5;28mself\u001b[39m\u001b[38;5;241m.\u001b[39msignal_length,\n\u001b[1;32m    102\u001b[0m                                   \u001b[38;5;241m1\u001b[39m \u001b[38;5;241m/\u001b[39m \u001b[38;5;28mself\u001b[39m\u001b[38;5;241m.\u001b[39msampling_rate)\n\u001b[1;32m    103\u001b[0m \u001b[38;5;28mself\u001b[39m\u001b[38;5;241m.\u001b[39mfrequency_resolution \u001b[38;5;241m=\u001b[39m \u001b[38;5;28mself\u001b[39m\u001b[38;5;241m.\u001b[39mfrequencies[\u001b[38;5;241m1\u001b[39m] \u001b[38;5;241m-\u001b[39m \u001b[38;5;28mself\u001b[39m\u001b[38;5;241m.\u001b[39mfrequencies[\u001b[38;5;241m0\u001b[39m]\n",
      "File \u001b[0;32m~/miniconda3/envs/mne/lib/python3.12/site-packages/scipy/fft/_backend.py:28\u001b[0m, in \u001b[0;36m_ScipyBackend.__ua_function__\u001b[0;34m(method, args, kwargs)\u001b[0m\n\u001b[1;32m     26\u001b[0m \u001b[38;5;28;01mif\u001b[39;00m fn \u001b[38;5;129;01mis\u001b[39;00m \u001b[38;5;28;01mNone\u001b[39;00m:\n\u001b[1;32m     27\u001b[0m     \u001b[38;5;28;01mreturn\u001b[39;00m \u001b[38;5;28mNotImplemented\u001b[39m\n\u001b[0;32m---> 28\u001b[0m \u001b[38;5;28;01mreturn\u001b[39;00m \u001b[43mfn\u001b[49m\u001b[43m(\u001b[49m\u001b[38;5;241;43m*\u001b[39;49m\u001b[43margs\u001b[49m\u001b[43m,\u001b[49m\u001b[43m \u001b[49m\u001b[38;5;241;43m*\u001b[39;49m\u001b[38;5;241;43m*\u001b[39;49m\u001b[43mkwargs\u001b[49m\u001b[43m)\u001b[49m\n",
      "\u001b[0;31mTypeError\u001b[0m: rfft() got an unexpected keyword argument 'axes'"
     ]
    }
   ],
   "source": [
    "raw = mne.io.read_raw_eeglab('/projects/EEG_FMRI/bids_eeg/BIDS/NEW/PREP_BV_2024/sub-22_ses-01_task-checker_run-01_eeg-edf.set')\n",
    "metrics = signal_metrics.SignalMetrics(raw)\n",
    "metrics.calculate_frequency_metrics(frequency_range=(11,13), frequency_type='signal')\n",
    "metrics.amplitude.shape"
   ]
  },
  {
   "cell_type": "code",
   "execution_count": 4,
   "metadata": {},
   "outputs": [
    {
     "name": "stdout",
     "output_type": "stream",
     "text": [
      "Reading /projects/EEG_FMRI/bids_eeg/BIDS/NEW/PREP_BV_2024/sub-22_ses-01_task-checker_run-01_eeg-edf.fdt\n"
     ]
    }
   ],
   "source": [
    "import scipy \n",
    "import frequency_analysis\n",
    "import mne\n",
    "import matplotlib.pyplot as plt\n",
    "frequency_range = (11,13)\n",
    "raw = mne.io.read_raw_eeglab('/projects/EEG_FMRI/bids_eeg/BIDS/NEW/PREP_BV_2024/sub-22_ses-01_task-checker_run-01_eeg-edf.set')\n",
    "array = raw.get_data()\n",
    "fft1 = scipy.fft.fft(array)\n",
    "fft2 = (scipy.fft.rfft(array) * 2) / array.shape[1]\n",
    "spectrum = frequency_analysis.Spectrum()\n",
    "fft0 = spectrum.calculate_fft(raw)\n",
    "amplitude = fft0.calculate_amplitude()\n",
    "amplitude.get_peak_magnitude(frequency_range)\n",
    "amplitude._set_frequency_of_interest(amplitude.peak_frequency_Hz)\n",
    "zscore = fft0.copy().calculate_zscore()"
   ]
  },
  {
   "cell_type": "code",
   "execution_count": 5,
   "metadata": {},
   "outputs": [],
   "source": [
    "path_brainvision = Path('/projects/EEG_FMRI/bids_eeg/BIDS/NEW/PREP_BV_2024/metrics/sub-02_ses-01_task-checker_run-01_eeg-edf_2_noise_freq_tagging.pkl')\n",
    "path_sam = Path('/projects/EEG_FMRI/bids_eeg/BIDS/NEW/DERIVATIVES/GRAD_BCG/sub-02/ses-01/eeg/sub-02_ses-01_task-checker_run-01_eeg_noise_freq_tagging.pkl')\n",
    "path_sam_asr = Path('/projects/EEG_FMRI/bids_eeg/BIDS/NEW/DERIVATIVES/GRAD_BCG_ASR/sub-02/ses-01/eeg/sub-02_ses-01_task-checker_run-01_eeg_noise_freq_tagging.pkl')\n",
    "\n",
    "#brain vision metrics\n",
    "with open(path_brainvision, 'rb') as f:\n",
    "    brainvision_metrics = pickle.load(f)\n",
    "\n",
    "#sam metrics\n",
    "with open(path_sam, 'rb') as f:\n",
    "    sam_metrics = pickle.load(f)\n",
    "\n",
    "#sam asr metrics\n",
    "with open(path_sam_asr, 'rb') as f:\n",
    "    sam_asr_metrics = pickle.load(f)"
   ]
  },
  {
   "cell_type": "code",
   "execution_count": 14,
   "metadata": {},
   "outputs": [
    {
     "data": {
      "text/plain": [
       "['mne_object',\n",
       " 'info',\n",
       " 'amplitude',\n",
       " 'amplitude_peak_frequency',\n",
       " 'zscore',\n",
       " 'zscore_peak_frequency',\n",
       " 'snr',\n",
       " 'snr_peak_frequency',\n",
       " '__module__',\n",
       " '__doc__',\n",
       " '__init__',\n",
       " 'calculate_frequency_metrics',\n",
       " 'calculate_time_metrics',\n",
       " '__dict__',\n",
       " '__weakref__',\n",
       " '__slotnames__',\n",
       " '__new__',\n",
       " '__repr__',\n",
       " '__hash__',\n",
       " '__str__',\n",
       " '__getattribute__',\n",
       " '__setattr__',\n",
       " '__delattr__',\n",
       " '__lt__',\n",
       " '__le__',\n",
       " '__eq__',\n",
       " '__ne__',\n",
       " '__gt__',\n",
       " '__ge__',\n",
       " '__reduce_ex__',\n",
       " '__reduce__',\n",
       " '__getstate__',\n",
       " '__subclasshook__',\n",
       " '__init_subclass__',\n",
       " '__format__',\n",
       " '__sizeof__',\n",
       " '__dir__',\n",
       " '__class__']"
      ]
     },
     "execution_count": 14,
     "metadata": {},
     "output_type": "execute_result"
    }
   ],
   "source": [
    "brainvision_metrics.__dir__()"
   ]
  },
  {
   "cell_type": "code",
   "execution_count": 5,
   "metadata": {},
   "outputs": [],
   "source": [
    "metric_path = path.joinpath('metrics', 'errors_log.pkl')\n",
    "with open(metric_path, 'wb') as f:\n",
    "    pickle.dump(errors, f)\n"
   ]
  },
  {
   "cell_type": "code",
   "execution_count": 69,
   "metadata": {},
   "outputs": [],
   "source": [
    "f = bids.layout.BIDSFile('/projects/EEG_FMRI/bids_eeg/BIDS/NEW/DERIVATIVES/BCG/sub-22/ses-02/eeg/sub-22_ses-02_task-checkeroff_run-01_eeg.fif')"
   ]
  },
  {
   "cell_type": "code",
   "execution_count": 83,
   "metadata": {},
   "outputs": [
    {
     "name": "stderr",
     "output_type": "stream",
     "text": [
      "/home/slouviot/miniconda3/envs/mne/lib/python3.12/site-packages/bids/layout/models.py:148: FutureWarning: The 'extension' entity currently excludes the leading dot ('.'). As of version 0.14.0, it will include the leading dot. To suppress this warning and include the leading dot, use `bids.config.set_option('extension_initial_dot', True)`.\n",
      "  warnings.warn(\"The 'extension' entity currently excludes the leading dot ('.'). \"\n"
     ]
    }
   ],
   "source": [
    "f = bids.layout.parse_file_entities(f.filename)"
   ]
  },
  {
   "cell_type": "code",
   "execution_count": 84,
   "metadata": {},
   "outputs": [
    {
     "data": {
      "text/plain": [
       "{'session': '02',\n",
       " 'task': 'checkeroff',\n",
       " 'run': 1,\n",
       " 'suffix': 'eeg',\n",
       " 'extension': 'fif'}"
      ]
     },
     "execution_count": 84,
     "metadata": {},
     "output_type": "execute_result"
    }
   ],
   "source": [
    "f"
   ]
  },
  {
   "cell_type": "code",
   "execution_count": 64,
   "metadata": {},
   "outputs": [],
   "source": [
    "import os\n",
    "filename_path = Path(filename)\n",
    "base_filename =  os.path.splitext(filename_path)[0]\n",
    "saving_filename = base_filename + '_metrics.pkl'"
   ]
  },
  {
   "cell_type": "code",
   "execution_count": 65,
   "metadata": {},
   "outputs": [
    {
     "data": {
      "text/plain": [
       "'/projects/EEG_FMRI/bids_eeg/BIDS/NEW/DERIVATIVES/GRAD_BCG/sub-21/ses-01/eeg/sub-21_ses-01_task-checker_run-01_eeg_metrics.pkl'"
      ]
     },
     "execution_count": 65,
     "metadata": {},
     "output_type": "execute_result"
    }
   ],
   "source": [
    "saving_filename"
   ]
  },
  {
   "cell_type": "code",
   "execution_count": 12,
   "metadata": {},
   "outputs": [
    {
     "data": {
      "text/plain": [
       "array([11.98577881, 11.9934082 , 11.9934082 , 11.9934082 , 11.21520996,\n",
       "       12.35961914, 11.21520996, 11.07788086, 11.19232178, 11.62719727,\n",
       "       11.14654541, 11.08551025, 12.01629639, 11.08551025, 12.01629639,\n",
       "       11.9934082 , 11.9934082 , 11.9934082 , 11.9934082 , 11.9934082 ,\n",
       "       11.23046875, 11.03210449, 11.23046875, 11.10076904, 11.21520996,\n",
       "       12.30621338, 11.21520996, 12.30621338, 11.97052002, 11.69586182,\n",
       "       11.04736328, 11.03973389, 11.21520996, 11.51275635, 11.9934082 ,\n",
       "       11.98577881, 11.9934082 , 12.0010376 , 12.71057129, 11.07025146,\n",
       "       11.07788086, 11.08551025, 12.01629639, 11.9934082 , 11.06262207,\n",
       "       11.03973389, 11.09313965, 11.03210449, 11.36016846, 11.61956787,\n",
       "       12.86315918, 11.14654541, 12.1383667 , 12.71057129, 11.23046875,\n",
       "       12.78686523, 11.9934082 , 12.2833252 , 12.93945312, 12.24517822,\n",
       "       11.21520996, 11.29150391, 12.30621338, 11.08551025])"
      ]
     },
     "execution_count": 12,
     "metadata": {},
     "output_type": "execute_result"
    }
   ],
   "source": [
    "ssvep_freq_tagging.snr_peak_frequency"
   ]
  },
  {
   "cell_type": "code",
   "execution_count": 10,
   "metadata": {},
   "outputs": [
    {
     "name": "stdout",
     "output_type": "stream",
     "text": [
      "Reading /projects/EEG_FMRI/bids_eeg/BIDS/NEW/PREP_BV_2024/sub-02_ses-01_task-checker_run-01_eeg-edf_2.fdt\n",
      "Reading 0 ... 66499  =      0.000 ...   265.996 secs...\n"
     ]
    },
    {
     "name": "stdout",
     "output_type": "stream",
     "text": [
      "<class 'mne.io.eeglab.eeglab.RawEEGLAB'>\n",
      "Using channel ECG to identify heart beats.\n",
      "Setting up band-pass filter from 8 - 16 Hz\n",
      "\n",
      "FIR filter parameters\n",
      "---------------------\n",
      "Designing a two-pass forward and reverse, zero-phase, non-causal bandpass filter:\n",
      "- Windowed frequency-domain design (firwin2) method\n",
      "- Hann window\n",
      "- Lower passband edge: 8.00\n",
      "- Lower transition bandwidth: 0.50 Hz (-12 dB cutoff frequency: 7.75 Hz)\n",
      "- Upper passband edge: 16.00 Hz\n",
      "- Upper transition bandwidth: 0.50 Hz (-12 dB cutoff frequency: 16.25 Hz)\n",
      "- Filter length: 2500 samples (10.000 s)\n",
      "\n",
      "Number of ECG events detected : 218 (average pulse 49 / min.)\n",
      "Not setting metadata\n",
      "218 matching events found\n",
      "No baseline correction applied\n",
      "Using data from preloaded Raw for 218 events and 251 original time points ...\n",
      "2 bad epochs dropped\n"
     ]
    },
    {
     "name": "stderr",
     "output_type": "stream",
     "text": [
      "/home/slouviot/01_projects/EEG_quality_assessment/src/EEG_quality_assessment/signal_metrics.py:111: FutureWarning: The current default of copy=False will change to copy=True in 1.7. Set the value of copy explicitly to avoid this warning\n",
      "  data = self.mne_object.get_data()\n"
     ]
    },
    {
     "data": {
      "text/plain": [
       "<signal_metrics.SignalMetrics at 0x7fc4f32a5310>"
      ]
     },
     "execution_count": 10,
     "metadata": {},
     "output_type": "execute_result"
    }
   ],
   "source": [
    "raw = mne.io.read_raw_eeglab('/projects/EEG_FMRI/bids_eeg/BIDS/NEW/PREP_BV_2024/sub-02_ses-01_task-checker_run-01_eeg-edf_2.set', preload=True)\n",
    "def eeg_lab_metrics(raw):\n",
    "    channel_map = cleaner.map_channel_type(raw)\n",
    "    raw = cleaner.set_channel_types(raw, channel_map)\n",
    "\n",
    "    raw_time_metrics = signal_metrics.SignalMetrics(raw)\n",
    "    raw_time_metrics.calculate_time_metrics()\n",
    "\n",
    "    noise_freq_tagging = signal_metrics.SignalMetrics(raw)\n",
    "    noise_freq_tagging.calculate_frequency_metrics(frequency_range=(17,20),\n",
    "                                                                frequency_type=\"noise\")\n",
    "    ssvep_freq_tagging = signal_metrics.SignalMetrics(raw)\n",
    "    ssvep_freq_tagging.calculate_frequency_metrics(frequency_range=(11,13),\n",
    "                                                                frequency_type=\"signal\")\n",
    "    ecg_epochs = mne.preprocessing.create_ecg_epochs(raw)\n",
    "    epochs_ecg_metrics = signal_metrics.SignalMetrics(ecg_epochs)\n",
    "    epochs_ecg_metrics.calculate_time_metrics()"
   ]
  },
  {
   "cell_type": "code",
   "execution_count": 19,
   "metadata": {},
   "outputs": [
    {
     "name": "stdout",
     "output_type": "stream",
     "text": [
      "Used Annotations descriptions: ['R128']\n"
     ]
    }
   ],
   "source": [
    "trigger_name = GradientRemover.extract_gradient_trigger_name(raw)\n",
    "gradient_trigger = mne.events_from_annotations(raw, event_id={trigger_name: 0})"
   ]
  },
  {
   "cell_type": "code",
   "execution_count": 35,
   "metadata": {},
   "outputs": [],
   "source": []
  },
  {
   "cell_type": "code",
   "execution_count": 40,
   "metadata": {},
   "outputs": [
    {
     "data": {
      "text/plain": [
       "4.1"
      ]
     },
     "execution_count": 40,
     "metadata": {},
     "output_type": "execute_result"
    }
   ],
   "source": [
    "annotations.onset[2]"
   ]
  },
  {
   "cell_type": "code",
   "execution_count": 46,
   "metadata": {},
   "outputs": [
    {
     "data": {
      "text/plain": [
       "array(['Sync On', 'Sync On', 'Sync On', 'Sync On', 'Sync On', 'Sync On',\n",
       "       'Sync On', 'Sync On', 'Sync On', 'Sync On', 'Sync On', 'Sync On',\n",
       "       'Sync On', 'Sync On', 'Sync On', 'Sync On', 'Sync On', 'Sync On',\n",
       "       'Sync On', 'R128', 'Sync On', 'R', 'R128', 'S 11', 'S 12',\n",
       "       'Sync On', 'R', 'S 11', 'R', 'S 11', 'S 12', 'R128', 'Sync On',\n",
       "       'S 11', 'R', 'S 11', 'S 12', 'Sync On', 'S 11', 'R', 'S 11',\n",
       "       'S 12', 'R128', 'Sync On', 'R', 'S 11', 'R', 'S 11', 'S 12',\n",
       "       'R128', 'Sync On', 'S 11', 'S 11', 'S 12', 'Sync On', 'R128',\n",
       "       'S 11', 'R', 'S 11', 'S 12', 'Sync On', 'R128', 'R', 'S 11',\n",
       "       'condition 12', 'S 11', 'S 12', 'Sync On', 'TEND', 'R128', 'S 11',\n",
       "       'R', 'S 11', 'S 12', 'R', 'Sync On', 'R128', 'S 11', 'R', 'S 11',\n",
       "       'S 12', 'R', 'Sync On', 'R128', 'S 11', 'R', 'S 25', 'R',\n",
       "       'Sync On', 'R128', 'S 26', 'R', 'S 26', 'S 27', 'R', 'Sync On',\n",
       "       'S 26', 'R128', 'R', 'S 26', 'S 27', 'Sync On', 'R', 'S 26',\n",
       "       'R128', 'R', 'S 26', 'S 27', 'Sync On', 'R', 'S 26', 'R128', 'R',\n",
       "       'S 26', 'S 27', 'Sync On', 'R', 'S 26', 'R128', 'R', 'S 26',\n",
       "       'S 27', 'Sync On', 'R', 'S 26', 'R128', 'R', 'S 26', 'S 27',\n",
       "       'Sync On', 'R', 'S 26', 'R128', 'R', 'S 26', 'S 27', 'Sync On',\n",
       "       'R', 'S 26', 'R128', 'R', 'S 26', 'S 27', 'Sync On', 'R', 'S 26',\n",
       "       'R', 'R128', 'Sync On', 'R', 'S 26', 'R', 'R128', 'S 10',\n",
       "       'Sync On', 'R', 'S 11', 'R', 'R128', 'Sync On', 'R', 'S 11', 'R',\n",
       "       'R128', 'Sync On', 'S 11', 'R', 'R128', 'Sync On', 'R', 'S 11',\n",
       "       'R', 'R128', 'Sync On', 'S 11', 'R', 'R', 'R128', 'Sync On',\n",
       "       'S 11', 'R', 'R', 'Sync On', 'R128', 'S 11', 'R', 'R', 'Sync On',\n",
       "       'R128', 'S 11', 'R', 'Sync On', 'R', 'R128', 'S 11', 'R',\n",
       "       'Sync On', 'R128', 'S 11', 'R', 'S 27', 'Sync On', 'R', 'R128',\n",
       "       'S 26', 'R', 'Sync On', 'R', 'R128', 'S 26', 'R', 'Sync On',\n",
       "       'S 26', 'R', 'R128', 'R', 'Sync On', 'S 26', 'R128', 'R', 'R',\n",
       "       'Sync On', 'S 26', 'R128', 'S 26', 'S 27', 'Sync On', 'S 26',\n",
       "       'R128', 'R', 'S 26', 'S 27', 'Sync On', 'S 26', 'R', 'R128',\n",
       "       'S 26', 'S 27', 'R', 'Sync On', 'S 26', 'R', 'R128', 'S 26',\n",
       "       'S 27', 'Sync On', 'R', 'S 26', 'R128', 'R', 'S 26', 'S 27',\n",
       "       'Sync On', 'S 26', 'R', 'R128', 'S 10', 'R', 'Sync On', 'S 11',\n",
       "       'R', 'R128', 'S 11', 'S 12', 'Sync On', 'R', 'S 11', 'R', 'R128',\n",
       "       'S 11', 'S 12', 'Sync On', 'S 11', 'R', 'S 11', 'S 12', 'R128',\n",
       "       'R', 'Sync On', 'S 11', 'R', 'S 11', 'S 12', 'R128', 'Sync On',\n",
       "       'R', 'S 11', 'S 11', 'S 12', 'R', 'R128', 'Sync On', 'S 11', 'R',\n",
       "       'S 11', 'S 12', 'R128', 'Sync On', 'S 11', 'S 12', 'R', 'Sync On',\n",
       "       'R128', 'S 11', 'R', 'S 11', 'S 12', 'Sync On', 'R128', 'S 11',\n",
       "       'R', 'S 11', 'S 12', 'Sync On', 'R', 'R128', 'S 11', 'R', 'S 25',\n",
       "       'Sync On', 'R128', 'S 26', 'R', 'S 26', 'S 27', 'Sync On', 'R',\n",
       "       'R128', 'S 26', 'S 26', 'S 27', 'R', 'Sync On', 'R128', 'S 26',\n",
       "       'R', 'Sync On', 'S 26', 'R128', 'R', 'Sync On', 'R', 'S 26',\n",
       "       'R128', 'R', 'Sync On', 'S 26', 'R128', 'R', 'Sync On', 'S 26',\n",
       "       'R', 'R128', 'Sync On', 'R', 'S 26', 'R128', 'R', 'Sync On', 'R',\n",
       "       'S 26', 'R128', 'Sync On', 'R', 'S 26', 'R128', 'R', 'S 12',\n",
       "       'Sync On', 'S 11', 'R', 'R128', 'Sync On', 'R', 'S 11', 'R128',\n",
       "       'R', 'Sync On', 'S 11', 'R', 'R128', 'Sync On', 'S 11', 'R',\n",
       "       'R128', 'Sync On', 'R', 'S 11', 'R128', 'R', 'Sync On', 'S 11',\n",
       "       'R', 'R128', 'Sync On', 'S 11', 'R', 'R128', 'Sync On', 'R',\n",
       "       'S 11', 'R', 'Sync On', 'R128', 'S 11', 'R', 'S 11', 'S 12',\n",
       "       'Sync On', 'R128', 'S 11', 'R', 'S 25', 'Sync On', 'R128', 'S 26',\n",
       "       'S 27', 'Sync On', 'R', 'R128', 'S 26', 'R', 'S 26', 'S 27',\n",
       "       'Sync On', 'R128', 'S 26', 'R', 'S 26', 'S 27', 'Sync On', 'R',\n",
       "       'R128', 'S 26', 'S 26', 'S 27', 'R', 'Sync On', 'S 26', 'R128',\n",
       "       'R', 'S 26', 'S 27', 'Sync On', 'S 26', 'R', 'R128', 'S 26',\n",
       "       'S 27', 'R', 'Sync On', 'S 26', 'R128', 'R', 'S 26', 'S 27',\n",
       "       'Sync On', 'S 26', 'R', 'R128', 'S 26', 'S 27', 'Sync On', 'R',\n",
       "       'S 26', 'R128', 'S 26', 'S 27', 'R', 'Sync On', 'S 26', 'R128',\n",
       "       'R', 'S 10', 'Sync On', 'R', 'S 11', 'R128', 'S 11', 'S 12', 'R',\n",
       "       'Sync On', 'S 11', 'R', 'R128', 'S 11', 'S 12', 'Sync On', 'S 11',\n",
       "       'R', 'R128', 'S 11', 'S 12', 'S 11', 'R', 'R128', 'S 11', 'S 12',\n",
       "       'Sync On', 'S 11', 'R', 'S 11', 'S 12', 'R128', 'R', 'Sync On',\n",
       "       'S 11', 'R', 'R128', 'Sync On', 'S 11', 'R', 'R128', 'Sync On',\n",
       "       'R', 'S 11', 'R', 'R128', 'Sync On', 'S 11', 'R', 'Sync On',\n",
       "       'R128', 'R', 'S 11', 'R', 'S 27', 'Sync On', 'R128', 'R', 'S 26',\n",
       "       'R', 'Sync On', 'R128', 'S 26', 'R', 'Sync On', 'R128', 'S 26',\n",
       "       'R', 'Sync On', 'R', 'R128', 'S 26', 'R', 'Sync On', 'R128',\n",
       "       'S 26', 'R', 'Sync On', 'R', 'S 26', 'R128', 'R', 'Sync On',\n",
       "       'S 26', 'R128', 'R', 'Sync On', 'S 26', 'R128', 'R', 'Sync On',\n",
       "       'R', 'S 26', 'R128', 'R', 'Sync On', 'S 26', 'R128', 'R', 'S 99',\n",
       "       'Sync On', 'R', 'R128', 'Sync On', 'R', 'Sync On', 'Sync On',\n",
       "       'Sync On', 'Sync On', 'Sync On', 'Sync On', 'Sync On', 'R',\n",
       "       'Sync On', 'Sync On', 'Sync On', 'Sync On'], dtype='<U12')"
      ]
     },
     "execution_count": 46,
     "metadata": {},
     "output_type": "execute_result"
    }
   ],
   "source": [
    "annotations.description"
   ]
  },
  {
   "cell_type": "code",
   "execution_count": 47,
   "metadata": {},
   "outputs": [],
   "source": [
    "import numpy as np"
   ]
  },
  {
   "cell_type": "code",
   "execution_count": 14,
   "metadata": {},
   "outputs": [
    {
     "name": "stdout",
     "output_type": "stream",
     "text": [
      "Used Annotations descriptions: ['R', 'R128', 'S 10', 'S 11', 'S 12', 'S 25', 'S 26', 'S 27', 'S 99', 'Sync On', 'TEND', 'condition 12']\n"
     ]
    }
   ],
   "source": [
    "ev = mne.events_from_annotations(raw)"
   ]
  },
  {
   "cell_type": "code",
   "execution_count": 17,
   "metadata": {},
   "outputs": [],
   "source": []
  },
  {
   "cell_type": "code",
   "execution_count": 18,
   "metadata": {},
   "outputs": [
    {
     "data": {
      "text/plain": [
       "'R128'"
      ]
     },
     "execution_count": 18,
     "metadata": {},
     "output_type": "execute_result"
    }
   ],
   "source": [
    "trigger_name"
   ]
  },
  {
   "cell_type": "code",
   "execution_count": null,
   "metadata": {},
   "outputs": [],
   "source": []
  }
 ],
 "metadata": {
  "kernelspec": {
   "display_name": "Python 3",
   "language": "python",
   "name": "python3"
  },
  "language_info": {
   "codemirror_mode": {
    "name": "ipython",
    "version": 3
   },
   "file_extension": ".py",
   "mimetype": "text/x-python",
   "name": "python",
   "nbconvert_exporter": "python",
   "pygments_lexer": "ipython3",
   "version": "3.12.2"
  }
 },
 "nbformat": 4,
 "nbformat_minor": 2
}
