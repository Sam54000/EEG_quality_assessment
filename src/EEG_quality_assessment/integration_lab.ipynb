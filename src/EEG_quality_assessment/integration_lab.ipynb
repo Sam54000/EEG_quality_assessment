{
 "cells": [
  {
   "cell_type": "code",
   "execution_count": 1,
   "metadata": {},
   "outputs": [
    {
     "name": "stdout",
     "output_type": "stream",
     "text": [
      "Opening raw data file /Users/samuel/01_projects/EEG_quality_assessment/tests/sub-04_ses-01_task-rest_run-01_desc-HomeMadePipeline_eeg.fif...\n",
      "    Read a total of 7 projection items:\n",
      "        eeg-Raw-0.000-693.120-PCA-01 (1 x 61) active\n",
      "        eeg-Raw-0.000-693.120-PCA-02 (1 x 61) active\n",
      "        eeg-Raw-0.000-693.120-PCA-03 (1 x 61) active\n",
      "        ECG-eeg--0.200-0.400-PCA-01 (1 x 61) active\n",
      "        ECG-eeg--0.200-0.400-PCA-02 (1 x 61) active\n",
      "        EOG-eeg--0.200-0.200-PCA-01 (1 x 61) active\n",
      "        EOG-eeg--0.200-0.200-PCA-02 (1 x 61) active\n",
      "    Range : 0 ... 173279 =      0.000 ...   693.116 secs\n",
      "Ready.\n",
      "Reading 0 ... 173279  =      0.000 ...   693.116 secs...\n"
     ]
    },
    {
     "data": {
      "text/plain": [
       "<signal_metrics.SignalMetrics at 0x16c4f8650>"
      ]
     },
     "execution_count": 1,
     "metadata": {},
     "output_type": "execute_result"
    }
   ],
   "source": [
    "import signal_metrics\n",
    "import mne\n",
    "import numpy as np\n",
    "import matplotlib.pyplot as plt\n",
    "import frequency_analysis as spectrums_package\n",
    "from pathlib import Path\n",
    "cwd = Path.cwd()\n",
    "tests_path = cwd.parents[1].joinpath('tests')\n",
    "raw = mne.io.read_raw_fif(\n",
    "    tests_path.joinpath('sub-04_ses-01_task-rest_run-01_desc-HomeMadePipeline_eeg.fif'),\n",
    "    preload=True)\n",
    "metrics = signal_metrics.SignalMetrics(raw)\n",
    "metrics.calculate_time_metrics()"
   ]
  },
  {
   "cell_type": "code",
   "execution_count": 2,
   "metadata": {},
   "outputs": [
    {
     "data": {
      "text/plain": [
       "<signal_metrics.SignalMetrics at 0x16c4f8650>"
      ]
     },
     "execution_count": 2,
     "metadata": {},
     "output_type": "execute_result"
    }
   ],
   "source": [
    "metrics.calculate_frequency_metrics()"
   ]
  },
  {
   "cell_type": "code",
   "execution_count": 3,
   "metadata": {},
   "outputs": [
    {
     "data": {
      "text/plain": [
       "array([ 7.27131064, 10.19634985,  7.07543775,  9.75012251,  7.42351743,\n",
       "        8.02406429,  8.10719837,  9.33888305,  7.61280955,  7.75237048,\n",
       "        7.91596962,  8.45366822,  7.73860789,  9.30383341,  7.34547113,\n",
       "        7.64388706, 11.01735497,  7.85918046,  7.89629335,  8.6710237 ,\n",
       "        9.8486941 ,  7.96977796,  9.82343814,  8.05442971, 10.67801477,\n",
       "        7.54856687, 10.02142026,  6.73094351, 10.75410289,  8.21425006,\n",
       "       10.64345161,  7.25516993, 10.01638529,  7.49375401,  7.11022554,\n",
       "        7.67604564, 11.22526381,  8.19238434, 10.35391553,  7.63524599,\n",
       "       11.91553716,  5.65441006,  3.01888436,  7.28308621, 11.25529146,\n",
       "        6.93390166,  7.04062061,  7.67790744, 10.4865165 ,  7.04350484,\n",
       "        6.70631095,  8.88002009,  9.52044164, 10.08880891,  9.25603099,\n",
       "       10.56197224,  8.00161277,  9.19782725,  8.93145883,  7.48949762,\n",
       "        6.82019366, 11.11224102,  9.51627959,  6.86800699])"
      ]
     },
     "execution_count": 3,
     "metadata": {},
     "output_type": "execute_result"
    }
   ],
   "source": [
    "metrics.snr"
   ]
  },
  {
   "cell_type": "code",
   "execution_count": 5,
   "metadata": {},
   "outputs": [
    {
     "name": "stdout",
     "output_type": "stream",
     "text": [
      "Not setting metadata\n",
      "693 matching events found\n",
      "No baseline correction applied\n",
      "Created an SSP operator (subspace dimension = 7)\n",
      "7 projection items activated\n",
      "Using data from preloaded Raw for 693 events and 250 original time points ...\n",
      "26 bad epochs dropped\n"
     ]
    },
    {
     "data": {
      "text/plain": [
       "<signal_metrics.SignalMetrics at 0x17fa27750>"
      ]
     },
     "execution_count": 5,
     "metadata": {},
     "output_type": "execute_result"
    }
   ],
   "source": [
    "epochs = mne.make_fixed_length_epochs(raw, duration=1)\n",
    "metrics = signal_metrics.SignalMetrics(epochs)\n",
    "metrics.calculate_time_metrics()\n",
    "#metrics.calculate_frequency_metrics()"
   ]
  },
  {
   "cell_type": "code",
   "execution_count": 6,
   "metadata": {},
   "outputs": [
    {
     "data": {
      "text/plain": [
       "array([[-22.98352321, -27.10517129, -35.59426835, ..., -25.34505605,\n",
       "        -21.25414635, -20.51806067],\n",
       "       [-19.28115919, -23.5254657 , -46.43314079, ..., -26.86324623,\n",
       "        -31.57708001, -20.60027925],\n",
       "       [-23.16089658, -24.22634158, -25.07237689, ..., -22.29065066,\n",
       "        -22.40135912, -23.68710612],\n",
       "       ...,\n",
       "       [-43.95497546, -39.84014641, -34.83965312, ..., -29.39205676,\n",
       "        -27.6462975 , -33.50630939],\n",
       "       [-24.07886742, -23.38500647, -22.98640608, ..., -24.01809707,\n",
       "        -23.93402569, -23.70598747],\n",
       "       [-19.86760347, -19.65500333, -19.75568785, ..., -21.89088517,\n",
       "        -20.91561811, -20.00069884]])"
      ]
     },
     "execution_count": 6,
     "metadata": {},
     "output_type": "execute_result"
    }
   ],
   "source": [
    "metrics.snr_epochs"
   ]
  },
  {
   "cell_type": "code",
   "execution_count": null,
   "metadata": {},
   "outputs": [],
   "source": []
  }
 ],
 "metadata": {
  "kernelspec": {
   "display_name": "mne",
   "language": "python",
   "name": "python3"
  },
  "language_info": {
   "codemirror_mode": {
    "name": "ipython",
    "version": 3
   },
   "file_extension": ".py",
   "mimetype": "text/x-python",
   "name": "python",
   "nbconvert_exporter": "python",
   "pygments_lexer": "ipython3",
   "version": "3.11.7"
  }
 },
 "nbformat": 4,
 "nbformat_minor": 2
}
