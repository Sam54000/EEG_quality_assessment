{
    "cells": [
        {
            "cell_type": "markdown",
            "metadata": {},
            "source": [
                "# Introduction, Description\n",
                "This notebook is dedicated to the development of a pipeline that perform a quality assessment of an eeg signal.\n",
                "The different metrics will be calculated:\n",
                "- Average Root Mean Square (RMS) of a sliding window\n",
                "- Maximum Gradient of a sliding window\n",
                "- Zero Crossing Rate of a sliding window\n",
                "- Complexity of the signal (Hjorth's parameters) of a sliding window\n",
                "- Kurtosis of a sliding window\n",
                "- Skewness of a sliding window\n",
                "- Variance of a sliding window\n",
                "- Range of a sliding window\n",
                "- Interquartile range of a sliding window\n",
                "- Signal to Noise Ratio (SNR)\n",
                "    - Time domain: \n",
                "        - ECG based epochs (signal = average across epochs, noise = std across epochs) need to be lowered\n",
                "        - TR based epochs (signal = average across epochs, noise = std across epochs) need to be lowered\n",
                "        - EEG based epochs (signal = average across epochs, noise = std across epochs) need to be increased\n",
                "    - Frequency domain:\n",
                "        - Gradient artifacts (signal = peak frequency of the cross-correlation of the non-cleaned signal, noise = average of the n surrounding bins around the peak)\n",
                "        - Base frequency of the task (signal = amplitude at the base freqeuency, noise = average of the n surrounding bins around the peak)"
            ]
        },
        {
            "cell_type": "code",
            "execution_count": 1,
            "metadata": {},
            "outputs": [
                {
                    "name": "stdout",
                    "output_type": "stream",
                    "text": [
                        "Extracting EDF parameters from /Users/samuel/01_projects/EEG_quality_assessment/sub-01_ses-01_task-rest_run-01_eeg.edf...\n",
                        "EDF file detected\n",
                        "Setting channel info structure...\n",
                        "Creating raw.info structure...\n",
                        "Reading 0 ... 155499  =      0.000 ...   621.996 secs...\n"
                    ]
                },
                {
                    "name": "stderr",
                    "output_type": "stream",
                    "text": [
                        "/var/folders/l3/myr9vj8933q4vwhkbvxcx6gc0000gn/T/ipykernel_52980/2777648229.py:5: RuntimeWarning: Number of records from the header does not match the file size (perhaps the recording was not stopped before exiting). Inferring from the file size.\n",
                        "  raw = mne.io.read_raw_edf(\n"
                    ]
                },
                {
                    "ename": "Exception",
                    "evalue": "Encountered invalid byte in at least one annotations channel. You might want to try setting \"encoding='latin1'\".",
                    "output_type": "error",
                    "traceback": [
                        "\u001b[0;31m---------------------------------------------------------------------------\u001b[0m",
                        "\u001b[0;31mUnicodeDecodeError\u001b[0m                        Traceback (most recent call last)",
                        "File \u001b[0;32m/opt/anaconda3/envs/mne/lib/python3.12/site-packages/mne/io/edf/edf.py:1935\u001b[0m, in \u001b[0;36m_read_annotations_edf\u001b[0;34m(annotations, ch_names, encoding)\u001b[0m\n\u001b[1;32m   1934\u001b[0m \u001b[38;5;28;01mtry\u001b[39;00m:\n\u001b[0;32m-> 1935\u001b[0m     triggers \u001b[38;5;241m=\u001b[39m re\u001b[38;5;241m.\u001b[39mfindall(pat, \u001b[43mtals\u001b[49m\u001b[38;5;241;43m.\u001b[39;49m\u001b[43mdecode\u001b[49m\u001b[43m(\u001b[49m\u001b[43mencoding\u001b[49m\u001b[43m)\u001b[49m)\n\u001b[1;32m   1936\u001b[0m \u001b[38;5;28;01mexcept\u001b[39;00m \u001b[38;5;167;01mUnicodeDecodeError\u001b[39;00m \u001b[38;5;28;01mas\u001b[39;00m e:\n",
                        "\u001b[0;31mUnicodeDecodeError\u001b[0m: 'utf-8' codec can't decode byte 0x8f in position 70: invalid start byte",
                        "\nThe above exception was the direct cause of the following exception:\n",
                        "\u001b[0;31mException\u001b[0m                                 Traceback (most recent call last)",
                        "Cell \u001b[0;32mIn[1], line 5\u001b[0m\n\u001b[1;32m      3\u001b[0m \u001b[38;5;28;01mimport\u001b[39;00m \u001b[38;5;21;01mmatplotlib\u001b[39;00m\u001b[38;5;21;01m.\u001b[39;00m\u001b[38;5;21;01mpyplot\u001b[39;00m \u001b[38;5;28;01mas\u001b[39;00m \u001b[38;5;21;01mplt\u001b[39;00m\n\u001b[1;32m      4\u001b[0m \u001b[38;5;28;01mfrom\u001b[39;00m \u001b[38;5;21;01mEEG_quality_assessment\u001b[39;00m \u001b[38;5;28;01mimport\u001b[39;00m frequency_spectrums \u001b[38;5;28;01mas\u001b[39;00m spectrums_package\n\u001b[0;32m----> 5\u001b[0m raw \u001b[38;5;241m=\u001b[39m \u001b[43mmne\u001b[49m\u001b[38;5;241;43m.\u001b[39;49m\u001b[43mio\u001b[49m\u001b[38;5;241;43m.\u001b[39;49m\u001b[43mread_raw_edf\u001b[49m\u001b[43m(\u001b[49m\n\u001b[1;32m      6\u001b[0m \u001b[43m    \u001b[49m\u001b[38;5;124;43m'\u001b[39;49m\u001b[38;5;124;43m/Users/samuel/01_projects/EEG_quality_assessment/sub-01_ses-01_task-rest_run-01_eeg.edf\u001b[39;49m\u001b[38;5;124;43m'\u001b[39;49m\u001b[43m,\u001b[49m\u001b[43m \u001b[49m\n\u001b[1;32m      7\u001b[0m \u001b[43m    \u001b[49m\n\u001b[1;32m      8\u001b[0m \u001b[43m    \u001b[49m\u001b[43mpreload\u001b[49m\u001b[38;5;241;43m=\u001b[39;49m\u001b[38;5;28;43;01mTrue\u001b[39;49;00m\u001b[43m)\u001b[49m\n\u001b[1;32m      9\u001b[0m spectrum_object \u001b[38;5;241m=\u001b[39m spectrums_package\u001b[38;5;241m.\u001b[39mSpectrum()\n\u001b[1;32m     10\u001b[0m fft \u001b[38;5;241m=\u001b[39m spectrum_object\u001b[38;5;241m.\u001b[39mcalculate_fft(raw)\n",
                        "File \u001b[0;32m/opt/anaconda3/envs/mne/lib/python3.12/site-packages/mne/io/edf/edf.py:1675\u001b[0m, in \u001b[0;36mread_raw_edf\u001b[0;34m(input_fname, eog, misc, stim_channel, exclude, infer_types, include, preload, units, encoding, verbose)\u001b[0m\n\u001b[1;32m   1673\u001b[0m \u001b[38;5;28;01mif\u001b[39;00m ext \u001b[38;5;241m!=\u001b[39m \u001b[38;5;124m\"\u001b[39m\u001b[38;5;124medf\u001b[39m\u001b[38;5;124m\"\u001b[39m:\n\u001b[1;32m   1674\u001b[0m     \u001b[38;5;28;01mraise\u001b[39;00m \u001b[38;5;167;01mNotImplementedError\u001b[39;00m(\u001b[38;5;124mf\u001b[39m\u001b[38;5;124m\"\u001b[39m\u001b[38;5;124mOnly EDF files are supported, got \u001b[39m\u001b[38;5;132;01m{\u001b[39;00mext\u001b[38;5;132;01m}\u001b[39;00m\u001b[38;5;124m.\u001b[39m\u001b[38;5;124m\"\u001b[39m)\n\u001b[0;32m-> 1675\u001b[0m \u001b[38;5;28;01mreturn\u001b[39;00m \u001b[43mRawEDF\u001b[49m\u001b[43m(\u001b[49m\n\u001b[1;32m   1676\u001b[0m \u001b[43m    \u001b[49m\u001b[43minput_fname\u001b[49m\u001b[38;5;241;43m=\u001b[39;49m\u001b[43minput_fname\u001b[49m\u001b[43m,\u001b[49m\n\u001b[1;32m   1677\u001b[0m \u001b[43m    \u001b[49m\u001b[43meog\u001b[49m\u001b[38;5;241;43m=\u001b[39;49m\u001b[43meog\u001b[49m\u001b[43m,\u001b[49m\n\u001b[1;32m   1678\u001b[0m \u001b[43m    \u001b[49m\u001b[43mmisc\u001b[49m\u001b[38;5;241;43m=\u001b[39;49m\u001b[43mmisc\u001b[49m\u001b[43m,\u001b[49m\n\u001b[1;32m   1679\u001b[0m \u001b[43m    \u001b[49m\u001b[43mstim_channel\u001b[49m\u001b[38;5;241;43m=\u001b[39;49m\u001b[43mstim_channel\u001b[49m\u001b[43m,\u001b[49m\n\u001b[1;32m   1680\u001b[0m \u001b[43m    \u001b[49m\u001b[43mexclude\u001b[49m\u001b[38;5;241;43m=\u001b[39;49m\u001b[43mexclude\u001b[49m\u001b[43m,\u001b[49m\n\u001b[1;32m   1681\u001b[0m \u001b[43m    \u001b[49m\u001b[43minfer_types\u001b[49m\u001b[38;5;241;43m=\u001b[39;49m\u001b[43minfer_types\u001b[49m\u001b[43m,\u001b[49m\n\u001b[1;32m   1682\u001b[0m \u001b[43m    \u001b[49m\u001b[43mpreload\u001b[49m\u001b[38;5;241;43m=\u001b[39;49m\u001b[43mpreload\u001b[49m\u001b[43m,\u001b[49m\n\u001b[1;32m   1683\u001b[0m \u001b[43m    \u001b[49m\u001b[43minclude\u001b[49m\u001b[38;5;241;43m=\u001b[39;49m\u001b[43minclude\u001b[49m\u001b[43m,\u001b[49m\n\u001b[1;32m   1684\u001b[0m \u001b[43m    \u001b[49m\u001b[43munits\u001b[49m\u001b[38;5;241;43m=\u001b[39;49m\u001b[43munits\u001b[49m\u001b[43m,\u001b[49m\n\u001b[1;32m   1685\u001b[0m \u001b[43m    \u001b[49m\u001b[43mencoding\u001b[49m\u001b[38;5;241;43m=\u001b[39;49m\u001b[43mencoding\u001b[49m\u001b[43m,\u001b[49m\n\u001b[1;32m   1686\u001b[0m \u001b[43m    \u001b[49m\u001b[43mverbose\u001b[49m\u001b[38;5;241;43m=\u001b[39;49m\u001b[43mverbose\u001b[49m\u001b[43m,\u001b[49m\n\u001b[1;32m   1687\u001b[0m \u001b[43m\u001b[49m\u001b[43m)\u001b[49m\n",
                        "File \u001b[0;32m<decorator-gen-181>:12\u001b[0m, in \u001b[0;36m__init__\u001b[0;34m(self, input_fname, eog, misc, stim_channel, exclude, infer_types, preload, include, units, encoding, verbose)\u001b[0m\n",
                        "File \u001b[0;32m/opt/anaconda3/envs/mne/lib/python3.12/site-packages/mne/io/edf/edf.py:207\u001b[0m, in \u001b[0;36mRawEDF.__init__\u001b[0;34m(self, input_fname, eog, misc, stim_channel, exclude, infer_types, preload, include, units, encoding, verbose)\u001b[0m\n\u001b[1;32m    197\u001b[0m idx \u001b[38;5;241m=\u001b[39m np\u001b[38;5;241m.\u001b[39mempty(\u001b[38;5;241m0\u001b[39m, \u001b[38;5;28mint\u001b[39m)\n\u001b[1;32m    198\u001b[0m tal_data \u001b[38;5;241m=\u001b[39m \u001b[38;5;28mself\u001b[39m\u001b[38;5;241m.\u001b[39m_read_segment_file(\n\u001b[1;32m    199\u001b[0m     np\u001b[38;5;241m.\u001b[39mempty((\u001b[38;5;241m0\u001b[39m, \u001b[38;5;28mself\u001b[39m\u001b[38;5;241m.\u001b[39mn_times)),\n\u001b[1;32m    200\u001b[0m     idx,\n\u001b[0;32m   (...)\u001b[0m\n\u001b[1;32m    205\u001b[0m     \u001b[38;5;28;01mNone\u001b[39;00m,\n\u001b[1;32m    206\u001b[0m )\n\u001b[0;32m--> 207\u001b[0m annotations \u001b[38;5;241m=\u001b[39m \u001b[43m_read_annotations_edf\u001b[49m\u001b[43m(\u001b[49m\n\u001b[1;32m    208\u001b[0m \u001b[43m    \u001b[49m\u001b[43mtal_data\u001b[49m\u001b[43m[\u001b[49m\u001b[38;5;241;43m0\u001b[39;49m\u001b[43m]\u001b[49m\u001b[43m,\u001b[49m\n\u001b[1;32m    209\u001b[0m \u001b[43m    \u001b[49m\u001b[43mch_names\u001b[49m\u001b[38;5;241;43m=\u001b[39;49m\u001b[43minfo\u001b[49m\u001b[43m[\u001b[49m\u001b[38;5;124;43m\"\u001b[39;49m\u001b[38;5;124;43mch_names\u001b[39;49m\u001b[38;5;124;43m\"\u001b[39;49m\u001b[43m]\u001b[49m\u001b[43m,\u001b[49m\n\u001b[1;32m    210\u001b[0m \u001b[43m    \u001b[49m\u001b[43mencoding\u001b[49m\u001b[38;5;241;43m=\u001b[39;49m\u001b[43mencoding\u001b[49m\u001b[43m,\u001b[49m\n\u001b[1;32m    211\u001b[0m \u001b[43m\u001b[49m\u001b[43m)\u001b[49m\n\u001b[1;32m    212\u001b[0m \u001b[38;5;28mself\u001b[39m\u001b[38;5;241m.\u001b[39mset_annotations(annotations, on_missing\u001b[38;5;241m=\u001b[39m\u001b[38;5;124m\"\u001b[39m\u001b[38;5;124mwarn\u001b[39m\u001b[38;5;124m\"\u001b[39m)\n",
                        "File \u001b[0;32m/opt/anaconda3/envs/mne/lib/python3.12/site-packages/mne/io/edf/edf.py:1937\u001b[0m, in \u001b[0;36m_read_annotations_edf\u001b[0;34m(annotations, ch_names, encoding)\u001b[0m\n\u001b[1;32m   1935\u001b[0m         triggers \u001b[38;5;241m=\u001b[39m re\u001b[38;5;241m.\u001b[39mfindall(pat, tals\u001b[38;5;241m.\u001b[39mdecode(encoding))\n\u001b[1;32m   1936\u001b[0m     \u001b[38;5;28;01mexcept\u001b[39;00m \u001b[38;5;167;01mUnicodeDecodeError\u001b[39;00m \u001b[38;5;28;01mas\u001b[39;00m e:\n\u001b[0;32m-> 1937\u001b[0m         \u001b[38;5;28;01mraise\u001b[39;00m \u001b[38;5;167;01mException\u001b[39;00m(\n\u001b[1;32m   1938\u001b[0m             \u001b[38;5;124m\"\u001b[39m\u001b[38;5;124mEncountered invalid byte in at least one annotations channel.\u001b[39m\u001b[38;5;124m\"\u001b[39m\n\u001b[1;32m   1939\u001b[0m             \u001b[38;5;124m\"\u001b[39m\u001b[38;5;124m You might want to try setting \u001b[39m\u001b[38;5;130;01m\\\"\u001b[39;00m\u001b[38;5;124mencoding=\u001b[39m\u001b[38;5;124m'\u001b[39m\u001b[38;5;124mlatin1\u001b[39m\u001b[38;5;124m'\u001b[39m\u001b[38;5;130;01m\\\"\u001b[39;00m\u001b[38;5;124m.\u001b[39m\u001b[38;5;124m\"\u001b[39m\n\u001b[1;32m   1940\u001b[0m         ) \u001b[38;5;28;01mfrom\u001b[39;00m \u001b[38;5;21;01me\u001b[39;00m\n\u001b[1;32m   1942\u001b[0m events \u001b[38;5;241m=\u001b[39m {}\n\u001b[1;32m   1943\u001b[0m offset \u001b[38;5;241m=\u001b[39m \u001b[38;5;241m0.0\u001b[39m\n",
                        "\u001b[0;31mException\u001b[0m: Encountered invalid byte in at least one annotations channel. You might want to try setting \"encoding='latin1'\"."
                    ]
                }
            ],
            "source": [
                "import mne\n",
                "import numpy as np\n",
                "import matplotlib.pyplot as plt\n",
                "from EEG_quality_assessment import frequency_spectrums as spectrums_package\n",
                "raw = mne.io.read_raw_edf(\n",
                "    '/Users/samuel/01_projects/EEG_quality_assessment/sub-01_ses-01_task-rest_run-01_eeg.edf', \n",
                "    \n",
                "    preload=True)\n",
                "spectrum_object = spectrums_package.Spectrum()\n",
                "fft = spectrum_object.calculate_fft(raw)\n",
                "amplitude = spectrum_object.copy().calculate_amplitude()\n",
                "amplitude._set_frequency_of_interest(12)\n",
                "zscore = amplitude.copy().calculate_zscore()\n",
                "snr = amplitude.copy().calculate_snr()"
            ]
        },
        {
            "cell_type": "code",
            "execution_count": 3,
            "metadata": {},
            "outputs": [
                {
                    "data": {
                        "text/plain": [
                            "True"
                        ]
                    },
                    "execution_count": 3,
                    "metadata": {},
                    "output_type": "execute_result"
                }
            ],
            "source": [
                "l = ['fft','a','b']\n",
                "'a' in l"
            ]
        },
        {
            "cell_type": "code",
            "execution_count": 9,
            "metadata": {},
            "outputs": [
                {
                    "data": {
                        "text/plain": [
                            "[<matplotlib.lines.Line2D at 0x159f4ca10>]"
                        ]
                    },
                    "execution_count": 9,
                    "metadata": {},
                    "output_type": "execute_result"
                }
            ],
            "source": [
                "%matplotlib qt\n",
                "#plt.plot(fft.frequencies, amplitude.spectrum[0,:].T)\n",
                "plt.plot(fft.frequencies, snr.spectrum[0,:].T)"
            ]
        },
        {
            "cell_type": "code",
            "execution_count": 6,
            "metadata": {},
            "outputs": [
                {
                    "ename": "TypeError",
                    "evalue": "FourierSpectrum.copy() missing 1 required positional argument: 'self'",
                    "output_type": "error",
                    "traceback": [
                        "\u001b[0;31m---------------------------------------------------------------------------\u001b[0m",
                        "\u001b[0;31mTypeError\u001b[0m                                 Traceback (most recent call last)",
                        "Cell \u001b[0;32mIn[6], line 1\u001b[0m\n\u001b[0;32m----> 1\u001b[0m \u001b[43mamplitude\u001b[49m\u001b[38;5;241;43m.\u001b[39;49m\u001b[43mcalculate_amplitude\u001b[49m\u001b[43m(\u001b[49m\u001b[43m)\u001b[49m\n",
                        "File \u001b[0;32m~/01_projects/EEG_quality_assessment/src/EEG_quality_assessment/frequency_spectrums.py:270\u001b[0m, in \u001b[0;36mAmplitudeSpectrum.calculate_amplitude\u001b[0;34m(cls)\u001b[0m\n\u001b[1;32m    259\u001b[0m \u001b[38;5;129m@classmethod\u001b[39m\n\u001b[1;32m    260\u001b[0m \u001b[38;5;28;01mdef\u001b[39;00m \u001b[38;5;21mcalculate_amplitude\u001b[39m(\u001b[38;5;28mcls\u001b[39m) \u001b[38;5;241m-\u001b[39m\u001b[38;5;241m>\u001b[39m \u001b[38;5;124m'\u001b[39m\u001b[38;5;124mAmplitudeSpectrum\u001b[39m\u001b[38;5;124m'\u001b[39m:\n\u001b[1;32m    261\u001b[0m \u001b[38;5;250m    \u001b[39m\u001b[38;5;124;03m\"\"\"Create an AmplitudeSpectrum object from a FourierSpectrum object.\u001b[39;00m\n\u001b[1;32m    262\u001b[0m \n\u001b[1;32m    263\u001b[0m \u001b[38;5;124;03m    Args:\u001b[39;00m\n\u001b[0;32m   (...)\u001b[0m\n\u001b[1;32m    268\u001b[0m \u001b[38;5;124;03m        AmplitudeSpectrum: The AmplitudeSpectrum object.\u001b[39;00m\n\u001b[1;32m    269\u001b[0m \u001b[38;5;124;03m    \"\"\"\u001b[39;00m\n\u001b[0;32m--> 270\u001b[0m     amplitude_spectrum \u001b[38;5;241m=\u001b[39m \u001b[38;5;28;43mcls\u001b[39;49m\u001b[38;5;241;43m.\u001b[39;49m\u001b[43mcopy\u001b[49m\u001b[43m(\u001b[49m\u001b[43m)\u001b[49m\n\u001b[1;32m    271\u001b[0m     amplitude_spectrum\u001b[38;5;241m.\u001b[39mspectrum \u001b[38;5;241m=\u001b[39m np\u001b[38;5;241m.\u001b[39mabs(\u001b[38;5;28mcls\u001b[39m\u001b[38;5;241m.\u001b[39mspectrum)\n\u001b[1;32m    273\u001b[0m     \u001b[38;5;28;01mreturn\u001b[39;00m amplitude_spectrum\n",
                        "\u001b[0;31mTypeError\u001b[0m: FourierSpectrum.copy() missing 1 required positional argument: 'self'"
                    ]
                }
            ],
            "source": [
                "amplitude.calculate_amplitude()"
            ]
        },
        {
            "cell_type": "code",
            "execution_count": 2,
            "metadata": {},
            "outputs": [
                {
                    "ename": "NameError",
                    "evalue": "name 'half_spectrum' is not defined",
                    "output_type": "error",
                    "traceback": [
                        "\u001b[0;31m---------------------------------------------------------------------------\u001b[0m",
                        "\u001b[0;31mNameError\u001b[0m                                 Traceback (most recent call last)",
                        "Cell \u001b[0;32mIn[2], line 1\u001b[0m\n\u001b[0;32m----> 1\u001b[0m \u001b[38;5;28mstr\u001b[39m(\u001b[43mhalf_spectrum\u001b[49m\u001b[38;5;241m.\u001b[39mdtype)\n",
                        "\u001b[0;31mNameError\u001b[0m: name 'half_spectrum' is not defined"
                    ]
                }
            ],
            "source": [
                "str(half_spectrum.dtype)"
            ]
        },
        {
            "cell_type": "code",
            "execution_count": 1,
            "metadata": {},
            "outputs": [],
            "source": [
                "from EEG_quality_assessment import frequency_spectrums as spectrums_package"
            ]
        },
        {
            "cell_type": "code",
            "execution_count": 7,
            "metadata": {},
            "outputs": [],
            "source": [
                "t = __import__('frequency_spectrums')"
            ]
        },
        {
            "cell_type": "code",
            "execution_count": 34,
            "metadata": {},
            "outputs": [
                {
                    "data": {
                        "text/plain": [
                            "[<matplotlib.lines.Line2D at 0x1370c66f0>]"
                        ]
                    },
                    "execution_count": 34,
                    "metadata": {},
                    "output_type": "execute_result"
                },
                {
                    "data": {
                        "image/png": "[encoded data removed]",
                        "text/plain": [
                            "<Figure size 640x480 with 1 Axes>"
                        ]
                    },
                    "metadata": {},
                    "output_type": "display_data"
                }
            ],
            "source": [
                "import matplotlib.pyplot as plt\n",
                "plt.plot(frequencies,np.abs(half_spectrum[0,:]))"
            ]
        },
        {
            "cell_type": "code",
            "execution_count": 1,
            "metadata": {},
            "outputs": [
                {
                    "data": {
                        "text/plain": [
                            "True"
                        ]
                    },
                    "execution_count": 1,
                    "metadata": {},
                    "output_type": "execute_result"
                }
            ],
            "source": [
                "a = 'string'\n",
                "type(a) == str"
            ]
        },
        {
            "cell_type": "code",
            "execution_count": null,
            "metadata": {},
            "outputs": [],
            "source": []
        }
    ],
    "metadata": {
        "kernelspec": {
            "display_name": "mne",
            "language": "python",
            "name": "python3"
        },
        "language_info": {
            "codemirror_mode": {
                "name": "ipython",
                "version": 3
            },
            "file_extension": ".py",
            "mimetype": "text/x-python",
            "name": "python",
            "nbconvert_exporter": "python",
            "pygments_lexer": "ipython3",
            "version": "3.12.2"
        }
    },
    "nbformat": 4,
    "nbformat_minor": 2
}
